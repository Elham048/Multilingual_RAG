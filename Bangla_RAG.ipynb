{
 "cells": [
  {
   "cell_type": "markdown",
   "id": "916acd7d",
   "metadata": {},
   "source": [
    "### Setup and Dependencies Installation"
   ]
  },
  {
   "cell_type": "code",
   "execution_count": 1,
   "id": "d9e5da7c",
   "metadata": {},
   "outputs": [
    {
     "name": "stdout",
     "output_type": "stream",
     "text": [
      "Collecting pdfminer.six\n",
      "  Using cached pdfminer_six-20250506-py3-none-any.whl (5.6 MB)\n",
      "Collecting langchain\n",
      "  Using cached langchain-0.3.27-py3-none-any.whl (1.0 MB)\n",
      "Collecting sentence-transformers\n",
      "  Using cached sentence_transformers-5.0.0-py3-none-any.whl (470 kB)\n",
      "Requirement already satisfied: transformers in c:\\users\\user\\rag_env\\lib\\site-packages (4.53.3)\n",
      "Requirement already satisfied: accelerate in c:\\users\\user\\rag_env\\lib\\site-packages (1.9.0)\n",
      "Requirement already satisfied: peft in c:\\users\\user\\rag_env\\lib\\site-packages (0.16.0)\n",
      "Collecting datasets\n",
      "  Using cached datasets-4.0.0-py3-none-any.whl (494 kB)\n",
      "Requirement already satisfied: torch in c:\\users\\user\\rag_env\\lib\\site-packages (2.7.1)\n",
      "Requirement already satisfied: bitsandbytes in c:\\users\\user\\rag_env\\lib\\site-packages (0.46.1)\n",
      "Requirement already satisfied: charset-normalizer>=2.0.0 in c:\\users\\user\\rag_env\\lib\\site-packages (from pdfminer.six) (3.4.2)\n",
      "Collecting cryptography>=36.0.0\n",
      "  Using cached cryptography-45.0.5-cp311-abi3-win_amd64.whl (3.4 MB)\n",
      "Collecting langchain-core<1.0.0,>=0.3.72\n",
      "  Using cached langchain_core-0.3.72-py3-none-any.whl (442 kB)\n",
      "Collecting langchain-text-splitters<1.0.0,>=0.3.9\n",
      "  Using cached langchain_text_splitters-0.3.9-py3-none-any.whl (33 kB)\n",
      "Collecting langsmith>=0.1.17\n",
      "  Using cached langsmith-0.4.8-py3-none-any.whl (367 kB)\n",
      "Requirement already satisfied: pydantic<3.0.0,>=2.7.4 in c:\\users\\user\\rag_env\\lib\\site-packages (from langchain) (2.11.7)\n",
      "Requirement already satisfied: SQLAlchemy<3,>=1.4 in c:\\users\\user\\rag_env\\lib\\site-packages (from langchain) (2.0.41)\n",
      "Requirement already satisfied: requests<3,>=2 in c:\\users\\user\\rag_env\\lib\\site-packages (from langchain) (2.32.4)\n",
      "Requirement already satisfied: PyYAML>=5.3 in c:\\users\\user\\rag_env\\lib\\site-packages (from langchain) (6.0.2)\n",
      "Requirement already satisfied: tqdm in c:\\users\\user\\rag_env\\lib\\site-packages (from sentence-transformers) (4.67.1)\n",
      "Requirement already satisfied: scikit-learn in c:\\users\\user\\rag_env\\lib\\site-packages (from sentence-transformers) (1.7.1)\n",
      "Requirement already satisfied: scipy in c:\\users\\user\\rag_env\\lib\\site-packages (from sentence-transformers) (1.16.0)\n",
      "Requirement already satisfied: huggingface-hub>=0.20.0 in c:\\users\\user\\rag_env\\lib\\site-packages (from sentence-transformers) (0.33.5)\n",
      "Requirement already satisfied: Pillow in c:\\users\\user\\rag_env\\lib\\site-packages (from sentence-transformers) (11.3.0)\n",
      "Requirement already satisfied: typing_extensions>=4.5.0 in c:\\users\\user\\rag_env\\lib\\site-packages (from sentence-transformers) (4.14.1)\n",
      "Requirement already satisfied: filelock in c:\\users\\user\\rag_env\\lib\\site-packages (from transformers) (3.18.0)\n",
      "Requirement already satisfied: numpy>=1.17 in c:\\users\\user\\rag_env\\lib\\site-packages (from transformers) (2.3.2)\n",
      "Requirement already satisfied: packaging>=20.0 in c:\\users\\user\\rag_env\\lib\\site-packages (from transformers) (25.0)\n",
      "Requirement already satisfied: regex!=2019.12.17 in c:\\users\\user\\rag_env\\lib\\site-packages (from transformers) (2024.11.6)\n",
      "Requirement already satisfied: tokenizers<0.22,>=0.21 in c:\\users\\user\\rag_env\\lib\\site-packages (from transformers) (0.21.2)\n",
      "Requirement already satisfied: safetensors>=0.4.3 in c:\\users\\user\\rag_env\\lib\\site-packages (from transformers) (0.5.3)\n",
      "Requirement already satisfied: psutil in c:\\users\\user\\rag_env\\lib\\site-packages (from accelerate) (7.0.0)\n",
      "Requirement already satisfied: pyarrow>=15.0.0 in c:\\users\\user\\rag_env\\lib\\site-packages (from datasets) (21.0.0)\n",
      "Requirement already satisfied: dill<0.3.9,>=0.3.0 in c:\\users\\user\\rag_env\\lib\\site-packages (from datasets) (0.3.8)\n",
      "Requirement already satisfied: pandas in c:\\users\\user\\rag_env\\lib\\site-packages (from datasets) (2.3.1)\n",
      "Requirement already satisfied: xxhash in c:\\users\\user\\rag_env\\lib\\site-packages (from datasets) (3.5.0)\n",
      "Collecting multiprocess<0.70.17\n",
      "  Using cached multiprocess-0.70.16-py311-none-any.whl (143 kB)\n",
      "Requirement already satisfied: fsspec[http]<=2025.3.0,>=2023.1.0 in c:\\users\\user\\rag_env\\lib\\site-packages (from datasets) (2025.3.0)\n",
      "Requirement already satisfied: sympy>=1.13.3 in c:\\users\\user\\rag_env\\lib\\site-packages (from torch) (1.14.0)\n",
      "Requirement already satisfied: networkx in c:\\users\\user\\rag_env\\lib\\site-packages (from torch) (3.5)\n",
      "Requirement already satisfied: jinja2 in c:\\users\\user\\rag_env\\lib\\site-packages (from torch) (3.1.6)\n",
      "Requirement already satisfied: cffi>=1.14 in c:\\users\\user\\rag_env\\lib\\site-packages (from cryptography>=36.0.0->pdfminer.six) (1.17.1)\n",
      "Collecting aiohttp!=4.0.0a0,!=4.0.0a1\n",
      "  Using cached aiohttp-3.12.14-cp311-cp311-win_amd64.whl (452 kB)\n",
      "Requirement already satisfied: tenacity!=8.4.0,<10.0.0,>=8.1.0 in c:\\users\\user\\rag_env\\lib\\site-packages (from langchain-core<1.0.0,>=0.3.72->langchain) (9.1.2)\n",
      "Requirement already satisfied: jsonpatch<2.0,>=1.33 in c:\\users\\user\\rag_env\\lib\\site-packages (from langchain-core<1.0.0,>=0.3.72->langchain) (1.33)\n",
      "Requirement already satisfied: httpx<1,>=0.23.0 in c:\\users\\user\\rag_env\\lib\\site-packages (from langsmith>=0.1.17->langchain) (0.28.1)\n",
      "Requirement already satisfied: orjson<4.0.0,>=3.9.14 in c:\\users\\user\\rag_env\\lib\\site-packages (from langsmith>=0.1.17->langchain) (3.11.0)\n",
      "Requirement already satisfied: requests-toolbelt<2.0.0,>=1.0.0 in c:\\users\\user\\rag_env\\lib\\site-packages (from langsmith>=0.1.17->langchain) (1.0.0)\n",
      "Requirement already satisfied: zstandard<0.24.0,>=0.23.0 in c:\\users\\user\\rag_env\\lib\\site-packages (from langsmith>=0.1.17->langchain) (0.23.0)\n",
      "Requirement already satisfied: annotated-types>=0.6.0 in c:\\users\\user\\rag_env\\lib\\site-packages (from pydantic<3.0.0,>=2.7.4->langchain) (0.7.0)\n",
      "Requirement already satisfied: pydantic-core==2.33.2 in c:\\users\\user\\rag_env\\lib\\site-packages (from pydantic<3.0.0,>=2.7.4->langchain) (2.33.2)\n",
      "Requirement already satisfied: typing-inspection>=0.4.0 in c:\\users\\user\\rag_env\\lib\\site-packages (from pydantic<3.0.0,>=2.7.4->langchain) (0.4.1)\n",
      "Requirement already satisfied: idna<4,>=2.5 in c:\\users\\user\\rag_env\\lib\\site-packages (from requests<3,>=2->langchain) (3.10)\n",
      "Requirement already satisfied: urllib3<3,>=1.21.1 in c:\\users\\user\\rag_env\\lib\\site-packages (from requests<3,>=2->langchain) (2.5.0)\n",
      "Requirement already satisfied: certifi>=2017.4.17 in c:\\users\\user\\rag_env\\lib\\site-packages (from requests<3,>=2->langchain) (2025.7.14)\n",
      "Requirement already satisfied: greenlet>=1 in c:\\users\\user\\rag_env\\lib\\site-packages (from SQLAlchemy<3,>=1.4->langchain) (3.2.3)\n",
      "Requirement already satisfied: mpmath<1.4,>=1.1.0 in c:\\users\\user\\rag_env\\lib\\site-packages (from sympy>=1.13.3->torch) (1.3.0)\n",
      "Requirement already satisfied: colorama in c:\\users\\user\\rag_env\\lib\\site-packages (from tqdm->sentence-transformers) (0.4.6)\n",
      "Requirement already satisfied: MarkupSafe>=2.0 in c:\\users\\user\\rag_env\\lib\\site-packages (from jinja2->torch) (3.0.2)\n",
      "Requirement already satisfied: python-dateutil>=2.8.2 in c:\\users\\user\\rag_env\\lib\\site-packages (from pandas->datasets) (2.9.0.post0)\n",
      "Requirement already satisfied: pytz>=2020.1 in c:\\users\\user\\rag_env\\lib\\site-packages (from pandas->datasets) (2025.2)\n",
      "Requirement already satisfied: tzdata>=2022.7 in c:\\users\\user\\rag_env\\lib\\site-packages (from pandas->datasets) (2025.2)\n",
      "Requirement already satisfied: joblib>=1.2.0 in c:\\users\\user\\rag_env\\lib\\site-packages (from scikit-learn->sentence-transformers) (1.5.1)\n",
      "Requirement already satisfied: threadpoolctl>=3.1.0 in c:\\users\\user\\rag_env\\lib\\site-packages (from scikit-learn->sentence-transformers) (3.6.0)\n",
      "Requirement already satisfied: aiohappyeyeballs>=2.5.0 in c:\\users\\user\\rag_env\\lib\\site-packages (from aiohttp!=4.0.0a0,!=4.0.0a1->fsspec[http]<=2025.3.0,>=2023.1.0->datasets) (2.6.1)\n",
      "Collecting aiosignal>=1.4.0\n",
      "  Using cached aiosignal-1.4.0-py3-none-any.whl (7.5 kB)\n",
      "Requirement already satisfied: attrs>=17.3.0 in c:\\users\\user\\rag_env\\lib\\site-packages (from aiohttp!=4.0.0a0,!=4.0.0a1->fsspec[http]<=2025.3.0,>=2023.1.0->datasets) (25.3.0)\n",
      "Requirement already satisfied: frozenlist>=1.1.1 in c:\\users\\user\\rag_env\\lib\\site-packages (from aiohttp!=4.0.0a0,!=4.0.0a1->fsspec[http]<=2025.3.0,>=2023.1.0->datasets) (1.7.0)\n",
      "Requirement already satisfied: multidict<7.0,>=4.5 in c:\\users\\user\\rag_env\\lib\\site-packages (from aiohttp!=4.0.0a0,!=4.0.0a1->fsspec[http]<=2025.3.0,>=2023.1.0->datasets) (6.6.3)\n",
      "Requirement already satisfied: propcache>=0.2.0 in c:\\users\\user\\rag_env\\lib\\site-packages (from aiohttp!=4.0.0a0,!=4.0.0a1->fsspec[http]<=2025.3.0,>=2023.1.0->datasets) (0.3.2)\n",
      "Requirement already satisfied: yarl<2.0,>=1.17.0 in c:\\users\\user\\rag_env\\lib\\site-packages (from aiohttp!=4.0.0a0,!=4.0.0a1->fsspec[http]<=2025.3.0,>=2023.1.0->datasets) (1.20.1)\n",
      "Requirement already satisfied: pycparser in c:\\users\\user\\rag_env\\lib\\site-packages (from cffi>=1.14->cryptography>=36.0.0->pdfminer.six) (2.22)\n",
      "Requirement already satisfied: anyio in c:\\users\\user\\rag_env\\lib\\site-packages (from httpx<1,>=0.23.0->langsmith>=0.1.17->langchain) (4.9.0)\n",
      "Requirement already satisfied: httpcore==1.* in c:\\users\\user\\rag_env\\lib\\site-packages (from httpx<1,>=0.23.0->langsmith>=0.1.17->langchain) (1.0.9)\n",
      "Requirement already satisfied: h11>=0.16 in c:\\users\\user\\rag_env\\lib\\site-packages (from httpcore==1.*->httpx<1,>=0.23.0->langsmith>=0.1.17->langchain) (0.16.0)\n",
      "Requirement already satisfied: jsonpointer>=1.9 in c:\\users\\user\\rag_env\\lib\\site-packages (from jsonpatch<2.0,>=1.33->langchain-core<1.0.0,>=0.3.72->langchain) (3.0.0)\n",
      "Requirement already satisfied: six>=1.5 in c:\\users\\user\\rag_env\\lib\\site-packages (from python-dateutil>=2.8.2->pandas->datasets) (1.17.0)\n",
      "Requirement already satisfied: sniffio>=1.1 in c:\\users\\user\\rag_env\\lib\\site-packages (from anyio->httpx<1,>=0.23.0->langsmith>=0.1.17->langchain) (1.3.1)\n",
      "Installing collected packages: multiprocess, aiosignal, cryptography, aiohttp, pdfminer.six, langsmith, langchain-core, datasets, sentence-transformers, langchain-text-splitters, langchain\n",
      "Successfully installed aiohttp-3.12.14 aiosignal-1.4.0 cryptography-45.0.5 datasets-4.0.0 langchain-0.3.27 langchain-core-0.3.72 langchain-text-splitters-0.3.9 langsmith-0.4.8 multiprocess-0.70.16 pdfminer.six-20250506 sentence-transformers-5.0.0\n"
     ]
    },
    {
     "name": "stderr",
     "output_type": "stream",
     "text": [
      "\n",
      "[notice] A new release of pip available: 22.3 -> 25.1.1\n",
      "[notice] To update, run: python.exe -m pip install --upgrade pip\n"
     ]
    }
   ],
   "source": [
    "!pip install pdfminer.six langchain sentence-transformers transformers accelerate peft datasets torch bitsandbytes\n"
   ]
  },
  {
   "cell_type": "code",
   "execution_count": 2,
   "id": "1439ca04",
   "metadata": {},
   "outputs": [
    {
     "name": "stdout",
     "output_type": "stream",
     "text": [
      "Requirement already satisfied: langchain in c:\\users\\user\\rag_env\\lib\\site-packages (0.3.27)\n",
      "Requirement already satisfied: pdfminer.six in c:\\users\\user\\rag_env\\lib\\site-packages (20250506)\n",
      "Requirement already satisfied: langchain-core<1.0.0,>=0.3.72 in c:\\users\\user\\rag_env\\lib\\site-packages (from langchain) (0.3.72)\n",
      "Requirement already satisfied: langchain-text-splitters<1.0.0,>=0.3.9 in c:\\users\\user\\rag_env\\lib\\site-packages (from langchain) (0.3.9)\n",
      "Requirement already satisfied: langsmith>=0.1.17 in c:\\users\\user\\rag_env\\lib\\site-packages (from langchain) (0.4.8)\n",
      "Requirement already satisfied: pydantic<3.0.0,>=2.7.4 in c:\\users\\user\\rag_env\\lib\\site-packages (from langchain) (2.11.7)\n",
      "Requirement already satisfied: SQLAlchemy<3,>=1.4 in c:\\users\\user\\rag_env\\lib\\site-packages (from langchain) (2.0.41)\n",
      "Requirement already satisfied: requests<3,>=2 in c:\\users\\user\\rag_env\\lib\\site-packages (from langchain) (2.32.4)\n",
      "Requirement already satisfied: PyYAML>=5.3 in c:\\users\\user\\rag_env\\lib\\site-packages (from langchain) (6.0.2)\n",
      "Requirement already satisfied: charset-normalizer>=2.0.0 in c:\\users\\user\\rag_env\\lib\\site-packages (from pdfminer.six) (3.4.2)\n",
      "Requirement already satisfied: cryptography>=36.0.0 in c:\\users\\user\\rag_env\\lib\\site-packages (from pdfminer.six) (45.0.5)\n",
      "Requirement already satisfied: cffi>=1.14 in c:\\users\\user\\rag_env\\lib\\site-packages (from cryptography>=36.0.0->pdfminer.six) (1.17.1)\n",
      "Requirement already satisfied: tenacity!=8.4.0,<10.0.0,>=8.1.0 in c:\\users\\user\\rag_env\\lib\\site-packages (from langchain-core<1.0.0,>=0.3.72->langchain) (9.1.2)\n",
      "Requirement already satisfied: jsonpatch<2.0,>=1.33 in c:\\users\\user\\rag_env\\lib\\site-packages (from langchain-core<1.0.0,>=0.3.72->langchain) (1.33)\n",
      "Requirement already satisfied: typing-extensions>=4.7 in c:\\users\\user\\rag_env\\lib\\site-packages (from langchain-core<1.0.0,>=0.3.72->langchain) (4.14.1)\n",
      "Requirement already satisfied: packaging>=23.2 in c:\\users\\user\\rag_env\\lib\\site-packages (from langchain-core<1.0.0,>=0.3.72->langchain) (25.0)\n",
      "Requirement already satisfied: httpx<1,>=0.23.0 in c:\\users\\user\\rag_env\\lib\\site-packages (from langsmith>=0.1.17->langchain) (0.28.1)\n",
      "Requirement already satisfied: orjson<4.0.0,>=3.9.14 in c:\\users\\user\\rag_env\\lib\\site-packages (from langsmith>=0.1.17->langchain) (3.11.0)\n",
      "Requirement already satisfied: requests-toolbelt<2.0.0,>=1.0.0 in c:\\users\\user\\rag_env\\lib\\site-packages (from langsmith>=0.1.17->langchain) (1.0.0)\n",
      "Requirement already satisfied: zstandard<0.24.0,>=0.23.0 in c:\\users\\user\\rag_env\\lib\\site-packages (from langsmith>=0.1.17->langchain) (0.23.0)\n",
      "Requirement already satisfied: annotated-types>=0.6.0 in c:\\users\\user\\rag_env\\lib\\site-packages (from pydantic<3.0.0,>=2.7.4->langchain) (0.7.0)\n",
      "Requirement already satisfied: pydantic-core==2.33.2 in c:\\users\\user\\rag_env\\lib\\site-packages (from pydantic<3.0.0,>=2.7.4->langchain) (2.33.2)\n",
      "Requirement already satisfied: typing-inspection>=0.4.0 in c:\\users\\user\\rag_env\\lib\\site-packages (from pydantic<3.0.0,>=2.7.4->langchain) (0.4.1)\n",
      "Requirement already satisfied: idna<4,>=2.5 in c:\\users\\user\\rag_env\\lib\\site-packages (from requests<3,>=2->langchain) (3.10)\n",
      "Requirement already satisfied: urllib3<3,>=1.21.1 in c:\\users\\user\\rag_env\\lib\\site-packages (from requests<3,>=2->langchain) (2.5.0)\n",
      "Requirement already satisfied: certifi>=2017.4.17 in c:\\users\\user\\rag_env\\lib\\site-packages (from requests<3,>=2->langchain) (2025.7.14)\n",
      "Requirement already satisfied: greenlet>=1 in c:\\users\\user\\rag_env\\lib\\site-packages (from SQLAlchemy<3,>=1.4->langchain) (3.2.3)\n",
      "Requirement already satisfied: pycparser in c:\\users\\user\\rag_env\\lib\\site-packages (from cffi>=1.14->cryptography>=36.0.0->pdfminer.six) (2.22)\n",
      "Requirement already satisfied: anyio in c:\\users\\user\\rag_env\\lib\\site-packages (from httpx<1,>=0.23.0->langsmith>=0.1.17->langchain) (4.9.0)\n",
      "Requirement already satisfied: httpcore==1.* in c:\\users\\user\\rag_env\\lib\\site-packages (from httpx<1,>=0.23.0->langsmith>=0.1.17->langchain) (1.0.9)\n",
      "Requirement already satisfied: h11>=0.16 in c:\\users\\user\\rag_env\\lib\\site-packages (from httpcore==1.*->httpx<1,>=0.23.0->langsmith>=0.1.17->langchain) (0.16.0)\n",
      "Requirement already satisfied: jsonpointer>=1.9 in c:\\users\\user\\rag_env\\lib\\site-packages (from jsonpatch<2.0,>=1.33->langchain-core<1.0.0,>=0.3.72->langchain) (3.0.0)\n",
      "Requirement already satisfied: sniffio>=1.1 in c:\\users\\user\\rag_env\\lib\\site-packages (from anyio->httpx<1,>=0.23.0->langsmith>=0.1.17->langchain) (1.3.1)\n"
     ]
    },
    {
     "name": "stderr",
     "output_type": "stream",
     "text": [
      "\n",
      "[notice] A new release of pip available: 22.3 -> 25.1.1\n",
      "[notice] To update, run: python.exe -m pip install --upgrade pip\n"
     ]
    }
   ],
   "source": [
    "!pip install langchain pdfminer.six\n"
   ]
  },
  {
   "cell_type": "markdown",
   "id": "8e205f39",
   "metadata": {},
   "source": [
    "### Extract and Clean PDF"
   ]
  },
  {
   "cell_type": "code",
   "execution_count": 3,
   "id": "aaadacb6",
   "metadata": {},
   "outputs": [
    {
     "name": "stdout",
     "output_type": "stream",
     "text": [
      "িাাং া ১ম পত্র আল ািয রিষয় অপরিরিতা অনলাইন ব্যাচ সম্পর্কি ত যেককাকনা জিজ্ঞাাসা , র্িখনফল র্নম্নর্ব্ি ব্যজক্তি হঠাৎ র্ব্িিালী হক ওঠাি ফকল সমাকি পর্িচ সংকট সম্পককি ধািণা লাভ কিকব্। তৎকালীন সমািসভযতা ও মানব্তাি অব্মাননা সম্পককি িানকত পািকব্। তৎকালীন সমাকিি পণপ্রথাি কু প্রভাব্ সম্পককি িানকত পািকব্। তৎকাকল সমাকি ভদ্রকলাককি স্বভাব্বব্র্িষ্ট্য সম্পককি জ্ঞাানলাভ কিকব্। নািী যকামল ঠিক, র্কন্তু দুব্িল ন কলযাণীি িীব্নচর্িত দ্বািা প্রর্তজিত এই সতয অনুধাব্ন কিকত পািকব্। মানুষ আিা র্নক যব্ঁকচ থাকক অনুপকমি দৃষ\n"
     ]
    }
   ],
   "source": [
    "from pdfminer.high_level import extract_text\n",
    "import re\n",
    "\n",
    "pdf_path = \"HSC26-Bangla1st-Paper.pdf\"\n",
    "raw = extract_text(pdf_path)\n",
    "def clean(text):\n",
    "    t = re.sub(r'[a-zA-Z0-9]', '', text)\n",
    "    t = re.sub(r'[^\\u0980-\\u09FF\\s।,?!]', '', t)\n",
    "    return re.sub(r'\\s+', ' ', t).strip()\n",
    "cleaned = clean(raw)\n",
    "print(cleaned[:500])\n"
   ]
  },
  {
   "cell_type": "markdown",
   "id": "71710a69",
   "metadata": {},
   "source": [
    "### Chunk For Q and A Pairs\n"
   ]
  },
  {
   "cell_type": "code",
   "execution_count": 4,
   "id": "e87829d9",
   "metadata": {},
   "outputs": [
    {
     "name": "stdout",
     "output_type": "stream",
     "text": [
      "Total Q&A pairs: 206\n",
      "Pair 1:\n",
      "Context: আমার বয়স সাতার মাত্র। এই জীবনটা না দদীঘিযি হাসাবে ব্যে, না গুনি হাসাবে। তবু ইহার একটু বিশেষ মূল্য আছে। ইহা যেই ফুলের মতা যাহার বুক্কি উপরি ভ্রমর আর্স া ব্র্স ারিল, এবং যেই পদক্ষেপি ইতিহাস তাহার জীবনের মাঝখানে ফুলের মতা গুটি ধরিয়া উঠি াছে।\n",
      "Question: অনুপম তার জীবনের মূল্য সম্পর্কে কী বলেছেন?\n",
      "Answer: অনুপম বলেছেন যে তার জীবন দীর্ঘ বা গুণে হাসাবে নয়, তবে এর একটু বিশেষ মূল্য আছে, যেমন একটি ফুলের মতো যার উপর ভ্রমর এসেছে এবং যার জীবনের মাঝখানে ইতিহাস ফুলের মতো গুটি ধরেছে।\n",
      "\n",
      "Pair 2:\n",
      "Context: অনুপমের বন্ধু হরিশ কানপুরি কাশি করে।\n",
      "Question: অনুপমের বন্ধু হরিশ কী পেশায় নিয়োজিত ছিলেন?\n",
      "Answer: অনুপমের বন্ধু হরিশ কানপুরে কাশি করতেন।\n",
      "\n",
      "Pair 3:\n",
      "Context: অনুপমের মামা বলেছিলেন, 'এটা আপনাদের লজ্জনস, আপনাদের কাশেই থাক।' এই কথাটি কন্যার গহনা পরীক্ষা করার সময় বলা হয়েছিল।\n",
      "Question: অনুপমের মামা কেন বলেছিলেন, 'এটা আপনাদের লজ্জনস, আপনাদের কাশেই থাক'?\n",
      "Answer: অনুপমের মামা এ কথা বলেছিলেন কারণ তিনি কন্যার গহনা পরীক্ষা করে দেখেন যে, সেটি খাঁটি সোনার নয়, এবং এমন নিম্নমানের গহনা গ্রহণ করা তাদের জন্য লজ্জার বিষয়।\n",
      "\n",
      "Pair 4:\n",
      "Context: কল্যাণীর বাবা সম্ভুনাথ সেন বিয়ে ঠিক করার পর গহনা পরীক্ষা করে অসম্মতি জানান।\n",
      "Question: কল্যাণীর বাবা সম্ভুনাথ সেন কেন বিয়েতে অসম্মতি জানান?\n",
      "Answer: সম্ভুনাথ সেন বিয়েতে অসম্মতি জানান কারণ তিনি কন্যার গহনা পরীক্ষা করে দেখেন যে, সেগুলো খাঁটি সোনার নয় এবং নিম্নমানের, যা তাদের সম্মানের জন্য অগ্রহণযোগ্য।\n",
      "\n",
      "Pair 5:\n",
      "Context: যৌতুকপ্রথা একটি সামাজিক ব্যাধি। এটি আমাদের সমাজে ভয়ঙ্কর রূপ ধারণ করেছে। বিয়েপক্ষের দাবি পূরণ করতে কন্যার পিতাকে কখনো কখনো সর্বস্বান্ত হতে হয়।\n",
      "Question: যৌতুকপ্রথা সমাজে কী ধরনের প্রভাব ফেলে?\n",
      "Answer: যৌতুকপ্রথা একটি সামাজিক ব্যাধি হিসেবে সমাজে ভয়ঙ্কর রূপ ধারণ করে এবং বিয়েপক্ষের দাবি পূরণ করতে কন্যার পিতাকে কখনো কখনো সর্বস্বান্ত হতে হয়।\n",
      "\n"
     ]
    }
   ],
   "source": [
    "import json\n",
    "from langchain.text_splitter import RecursiveCharacterTextSplitter\n",
    "\n",
    "# (Optional) Process additional text with RecursiveCharacterTextSplitter\n",
    "splitter = RecursiveCharacterTextSplitter(\n",
    "    chunk_size=800,\n",
    "    chunk_overlap=200,\n",
    "    separators=[\"।\"]\n",
    ")\n",
    "chunks = splitter.split_text(cleaned)  # Assuming 'cleaned' is your input text\n",
    "\n",
    "# Load the curated Q&A pairs from the JSON file\n",
    "with open(\"bangla_english_qa_dataset.json\", \"r\", encoding=\"utf-8\") as f:\n",
    "    qa_data_json = json.load(f)\n",
    "\n",
    "# Initialize qa_data with the 68 curated pairs (34 Bangla + 34 English)\n",
    "qa_data = qa_data_json[\"bangla_qa_pairs\"] + qa_data_json[\"english_qa_pairs\"]\n",
    "\n",
    "# (Optional) Append chunk-based Q&A pairs if additional text needs to be covered\n",
    "for c in chunks:\n",
    "    qa_data.append({\n",
    "        \"context\": c,\n",
    "        \"question\": \"এই অংশে কি লেখা হয়েছে?\",\n",
    "        \"answer\": c[:200]\n",
    "    })\n",
    "\n",
    "# Print dataset summary\n",
    "print(f\"Total Q&A pairs: {len(qa_data)}\")\n",
    "for i, qa in enumerate(qa_data[:5]):  # Show first 5 pairs for inspection\n",
    "    print(f\"Pair {i+1}:\")\n",
    "    print(f\"Context: {qa['context']}\")\n",
    "    print(f\"Question: {qa['question']}\")\n",
    "    print(f\"Answer: {qa['answer']}\\n\")"
   ]
  },
  {
   "cell_type": "markdown",
   "id": "8e3faf57",
   "metadata": {},
   "source": [
    "### Prepare Dataset"
   ]
  },
  {
   "cell_type": "code",
   "execution_count": 5,
   "id": "8c675298",
   "metadata": {},
   "outputs": [
    {
     "name": "stdout",
     "output_type": "stream",
     "text": [
      "{'context': 'আমার বয়স সাতার মাত্র। এই জীবনটা না দদীঘিযি হাসাবে ব্যে, না গুনি হাসাবে। তবু ইহার একটু বিশেষ মূল্য আছে। ইহা যেই ফুলের মতা যাহার বুক্কি উপরি ভ্রমর আর্স া ব্র্স ারিল, এবং যেই পদক্ষেপি ইতিহাস তাহার জীবনের মাঝখানে ফুলের মতা গুটি ধরিয়া উঠি াছে।', 'question': 'অনুপম তার জীবনের মূল্য সম্পর্কে কী বলেছেন?', 'answer': 'অনুপম বলেছেন যে তার জীবন দীর্ঘ বা গুণে হাসাবে নয়, তবে এর একটু বিশেষ মূল্য আছে, যেমন একটি ফুলের মতো যার উপর ভ্রমর এসেছে এবং যার জীবনের মাঝখানে ইতিহাস ফুলের মতো গুটি ধরেছে।'}\n"
     ]
    }
   ],
   "source": [
    "from datasets import Dataset\n",
    "\n",
    "# Convert to HuggingFace Dataset\n",
    "dataset = Dataset.from_list(qa_data)\n",
    "\n",
    "# Check sample\n",
    "print(dataset[0])\n"
   ]
  },
  {
   "cell_type": "markdown",
   "id": "e8f64eb0",
   "metadata": {},
   "source": [
    "### Load Pretrained LLM and Tokenizer"
   ]
  },
  {
   "cell_type": "code",
   "execution_count": 6,
   "id": "9919771e",
   "metadata": {},
   "outputs": [
    {
     "name": "stdout",
     "output_type": "stream",
     "text": [
      "Collecting hf_xet\n",
      "  Using cached hf_xet-1.1.5-cp37-abi3-win_amd64.whl (2.7 MB)\n",
      "Installing collected packages: hf_xet\n",
      "Successfully installed hf_xet-1.1.5\n"
     ]
    },
    {
     "name": "stderr",
     "output_type": "stream",
     "text": [
      "\n",
      "[notice] A new release of pip available: 22.3 -> 25.1.1\n",
      "[notice] To update, run: python.exe -m pip install --upgrade pip\n"
     ]
    }
   ],
   "source": [
    "!pip install hf_xet"
   ]
  },
  {
   "cell_type": "code",
   "execution_count": 7,
   "id": "c2ad50a9",
   "metadata": {},
   "outputs": [],
   "source": [
    "from transformers import AutoTokenizer, AutoModelForSeq2SeqLM\n",
    "\n",
    "model_name = \"google/flan-t5-base\"  # multilingual-compatible\n",
    "tokenizer = AutoTokenizer.from_pretrained(model_name)\n",
    "model = AutoModelForSeq2SeqLM.from_pretrained(model_name)\n"
   ]
  },
  {
   "cell_type": "markdown",
   "id": "751ed729",
   "metadata": {},
   "source": [
    "###  Prepare Tokenization Function"
   ]
  },
  {
   "cell_type": "code",
   "execution_count": 8,
   "id": "c409cdd7",
   "metadata": {},
   "outputs": [
    {
     "data": {
      "application/vnd.jupyter.widget-view+json": {
       "model_id": "8532f2628168423db616dcccc9cc33d7",
       "version_major": 2,
       "version_minor": 0
      },
      "text/plain": [
       "Map:   0%|          | 0/206 [00:00<?, ? examples/s]"
      ]
     },
     "metadata": {},
     "output_type": "display_data"
    }
   ],
   "source": [
    "def tokenize(batch):\n",
    "    prompt = f\"প্রসঙ্গ: {batch['context']} প্রশ্ন: {batch['question']} উত্তর:\"\n",
    "    inputs = tokenizer(prompt, truncation=True, max_length=512, padding=\"max_length\")\n",
    "    labels = tokenizer(batch[\"answer\"], truncation=True, max_length=128, padding=\"max_length\")\n",
    "\n",
    "    inputs[\"labels\"] = labels[\"input_ids\"]\n",
    "    return inputs\n",
    "\n",
    "tokenized_dataset = dataset.map(tokenize, batched=False)\n"
   ]
  },
  {
   "cell_type": "markdown",
   "id": "0062ee24",
   "metadata": {},
   "source": [
    "### PEFT LoRA Setup"
   ]
  },
  {
   "cell_type": "code",
   "execution_count": 9,
   "id": "79d0fcf4",
   "metadata": {},
   "outputs": [
    {
     "name": "stdout",
     "output_type": "stream",
     "text": [
      "Collecting peft==0.9.0\n",
      "  Using cached peft-0.9.0-py3-none-any.whl (190 kB)\n",
      "Collecting transformers==4.36.2\n",
      "  Using cached transformers-4.36.2-py3-none-any.whl (8.2 MB)\n",
      "Requirement already satisfied: accelerate in c:\\users\\user\\rag_env\\lib\\site-packages (1.9.0)\n",
      "Requirement already satisfied: bitsandbytes in c:\\users\\user\\rag_env\\lib\\site-packages (0.46.1)\n",
      "Requirement already satisfied: datasets in c:\\users\\user\\rag_env\\lib\\site-packages (4.0.0)\n",
      "Collecting sentencepiece\n",
      "  Using cached sentencepiece-0.2.0-cp311-cp311-win_amd64.whl (991 kB)\n",
      "Requirement already satisfied: numpy>=1.17 in c:\\users\\user\\rag_env\\lib\\site-packages (from peft==0.9.0) (2.3.2)\n",
      "Requirement already satisfied: packaging>=20.0 in c:\\users\\user\\rag_env\\lib\\site-packages (from peft==0.9.0) (25.0)\n",
      "Requirement already satisfied: psutil in c:\\users\\user\\rag_env\\lib\\site-packages (from peft==0.9.0) (7.0.0)\n",
      "Requirement already satisfied: pyyaml in c:\\users\\user\\rag_env\\lib\\site-packages (from peft==0.9.0) (6.0.2)\n",
      "Requirement already satisfied: torch>=1.13.0 in c:\\users\\user\\rag_env\\lib\\site-packages (from peft==0.9.0) (2.7.1)\n",
      "Requirement already satisfied: tqdm in c:\\users\\user\\rag_env\\lib\\site-packages (from peft==0.9.0) (4.67.1)\n",
      "Requirement already satisfied: safetensors in c:\\users\\user\\rag_env\\lib\\site-packages (from peft==0.9.0) (0.5.3)\n",
      "Requirement already satisfied: huggingface-hub>=0.17.0 in c:\\users\\user\\rag_env\\lib\\site-packages (from peft==0.9.0) (0.33.5)\n",
      "Requirement already satisfied: filelock in c:\\users\\user\\rag_env\\lib\\site-packages (from transformers==4.36.2) (3.18.0)\n",
      "Requirement already satisfied: regex!=2019.12.17 in c:\\users\\user\\rag_env\\lib\\site-packages (from transformers==4.36.2) (2024.11.6)\n",
      "Requirement already satisfied: requests in c:\\users\\user\\rag_env\\lib\\site-packages (from transformers==4.36.2) (2.32.4)\n",
      "Collecting tokenizers<0.19,>=0.14\n",
      "  Using cached tokenizers-0.15.2-cp311-none-win_amd64.whl (2.2 MB)\n",
      "Requirement already satisfied: pyarrow>=15.0.0 in c:\\users\\user\\rag_env\\lib\\site-packages (from datasets) (21.0.0)\n",
      "Requirement already satisfied: dill<0.3.9,>=0.3.0 in c:\\users\\user\\rag_env\\lib\\site-packages (from datasets) (0.3.8)\n",
      "Requirement already satisfied: pandas in c:\\users\\user\\rag_env\\lib\\site-packages (from datasets) (2.3.1)\n",
      "Requirement already satisfied: xxhash in c:\\users\\user\\rag_env\\lib\\site-packages (from datasets) (3.5.0)\n",
      "Requirement already satisfied: multiprocess<0.70.17 in c:\\users\\user\\rag_env\\lib\\site-packages (from datasets) (0.70.16)\n",
      "Requirement already satisfied: fsspec[http]<=2025.3.0,>=2023.1.0 in c:\\users\\user\\rag_env\\lib\\site-packages (from datasets) (2025.3.0)\n",
      "Requirement already satisfied: aiohttp!=4.0.0a0,!=4.0.0a1 in c:\\users\\user\\rag_env\\lib\\site-packages (from fsspec[http]<=2025.3.0,>=2023.1.0->datasets) (3.12.14)\n",
      "Requirement already satisfied: typing-extensions>=3.7.4.3 in c:\\users\\user\\rag_env\\lib\\site-packages (from huggingface-hub>=0.17.0->peft==0.9.0) (4.14.1)\n",
      "Requirement already satisfied: charset_normalizer<4,>=2 in c:\\users\\user\\rag_env\\lib\\site-packages (from requests->transformers==4.36.2) (3.4.2)\n",
      "Requirement already satisfied: idna<4,>=2.5 in c:\\users\\user\\rag_env\\lib\\site-packages (from requests->transformers==4.36.2) (3.10)\n",
      "Requirement already satisfied: urllib3<3,>=1.21.1 in c:\\users\\user\\rag_env\\lib\\site-packages (from requests->transformers==4.36.2) (2.5.0)\n",
      "Requirement already satisfied: certifi>=2017.4.17 in c:\\users\\user\\rag_env\\lib\\site-packages (from requests->transformers==4.36.2) (2025.7.14)\n",
      "Requirement already satisfied: sympy>=1.13.3 in c:\\users\\user\\rag_env\\lib\\site-packages (from torch>=1.13.0->peft==0.9.0) (1.14.0)\n",
      "Requirement already satisfied: networkx in c:\\users\\user\\rag_env\\lib\\site-packages (from torch>=1.13.0->peft==0.9.0) (3.5)\n",
      "Requirement already satisfied: jinja2 in c:\\users\\user\\rag_env\\lib\\site-packages (from torch>=1.13.0->peft==0.9.0) (3.1.6)\n",
      "Requirement already satisfied: colorama in c:\\users\\user\\rag_env\\lib\\site-packages (from tqdm->peft==0.9.0) (0.4.6)\n",
      "Requirement already satisfied: python-dateutil>=2.8.2 in c:\\users\\user\\rag_env\\lib\\site-packages (from pandas->datasets) (2.9.0.post0)\n",
      "Requirement already satisfied: pytz>=2020.1 in c:\\users\\user\\rag_env\\lib\\site-packages (from pandas->datasets) (2025.2)\n",
      "Requirement already satisfied: tzdata>=2022.7 in c:\\users\\user\\rag_env\\lib\\site-packages (from pandas->datasets) (2025.2)\n",
      "Requirement already satisfied: aiohappyeyeballs>=2.5.0 in c:\\users\\user\\rag_env\\lib\\site-packages (from aiohttp!=4.0.0a0,!=4.0.0a1->fsspec[http]<=2025.3.0,>=2023.1.0->datasets) (2.6.1)\n",
      "Requirement already satisfied: aiosignal>=1.4.0 in c:\\users\\user\\rag_env\\lib\\site-packages (from aiohttp!=4.0.0a0,!=4.0.0a1->fsspec[http]<=2025.3.0,>=2023.1.0->datasets) (1.4.0)\n",
      "Requirement already satisfied: attrs>=17.3.0 in c:\\users\\user\\rag_env\\lib\\site-packages (from aiohttp!=4.0.0a0,!=4.0.0a1->fsspec[http]<=2025.3.0,>=2023.1.0->datasets) (25.3.0)\n",
      "Requirement already satisfied: frozenlist>=1.1.1 in c:\\users\\user\\rag_env\\lib\\site-packages (from aiohttp!=4.0.0a0,!=4.0.0a1->fsspec[http]<=2025.3.0,>=2023.1.0->datasets) (1.7.0)\n",
      "Requirement already satisfied: multidict<7.0,>=4.5 in c:\\users\\user\\rag_env\\lib\\site-packages (from aiohttp!=4.0.0a0,!=4.0.0a1->fsspec[http]<=2025.3.0,>=2023.1.0->datasets) (6.6.3)\n",
      "Requirement already satisfied: propcache>=0.2.0 in c:\\users\\user\\rag_env\\lib\\site-packages (from aiohttp!=4.0.0a0,!=4.0.0a1->fsspec[http]<=2025.3.0,>=2023.1.0->datasets) (0.3.2)\n",
      "Requirement already satisfied: yarl<2.0,>=1.17.0 in c:\\users\\user\\rag_env\\lib\\site-packages (from aiohttp!=4.0.0a0,!=4.0.0a1->fsspec[http]<=2025.3.0,>=2023.1.0->datasets) (1.20.1)\n",
      "Requirement already satisfied: six>=1.5 in c:\\users\\user\\rag_env\\lib\\site-packages (from python-dateutil>=2.8.2->pandas->datasets) (1.17.0)\n",
      "Requirement already satisfied: mpmath<1.4,>=1.1.0 in c:\\users\\user\\rag_env\\lib\\site-packages (from sympy>=1.13.3->torch>=1.13.0->peft==0.9.0) (1.3.0)\n",
      "Requirement already satisfied: MarkupSafe>=2.0 in c:\\users\\user\\rag_env\\lib\\site-packages (from jinja2->torch>=1.13.0->peft==0.9.0) (3.0.2)\n",
      "Installing collected packages: sentencepiece, tokenizers, transformers, peft\n",
      "  Attempting uninstall: tokenizers\n",
      "    Found existing installation: tokenizers 0.21.2\n",
      "    Uninstalling tokenizers-0.21.2:\n",
      "      Successfully uninstalled tokenizers-0.21.2\n"
     ]
    },
    {
     "name": "stderr",
     "output_type": "stream",
     "text": [
      "ERROR: Could not install packages due to an OSError: [WinError 5] Access is denied: 'C:\\\\Users\\\\User\\\\rag_env\\\\Lib\\\\site-packages\\\\~okenizers\\\\tokenizers.pyd'\n",
      "Check the permissions.\n",
      "\n",
      "\n",
      "[notice] A new release of pip available: 22.3 -> 25.1.1\n",
      "[notice] To update, run: python.exe -m pip install --upgrade pip\n"
     ]
    }
   ],
   "source": [
    "!pip install peft==0.9.0 transformers==4.36.2 accelerate bitsandbytes datasets sentencepiece\n"
   ]
  },
  {
   "cell_type": "code",
   "execution_count": 10,
   "id": "367f9c5e",
   "metadata": {},
   "outputs": [
    {
     "name": "stdout",
     "output_type": "stream",
     "text": [
      "Collecting accelerate==0.30.1\n",
      "  Using cached accelerate-0.30.1-py3-none-any.whl (302 kB)\n",
      "Collecting numpy>=1.17\n",
      "  Using cached numpy-2.3.2-cp311-cp311-win_amd64.whl (13.1 MB)\n",
      "Collecting packaging>=20.0\n",
      "  Using cached packaging-25.0-py3-none-any.whl (66 kB)\n",
      "Collecting psutil\n",
      "  Using cached psutil-7.0.0-cp37-abi3-win_amd64.whl (244 kB)\n",
      "Collecting pyyaml\n",
      "  Using cached PyYAML-6.0.2-cp311-cp311-win_amd64.whl (161 kB)\n",
      "Collecting torch>=1.10.0\n",
      "  Using cached torch-2.7.1-cp311-cp311-win_amd64.whl (216.1 MB)\n",
      "Collecting huggingface-hub\n",
      "  Using cached huggingface_hub-0.33.5-py3-none-any.whl (515 kB)\n",
      "Collecting safetensors>=0.3.1\n",
      "  Using cached safetensors-0.5.3-cp38-abi3-win_amd64.whl (308 kB)\n",
      "Collecting filelock\n",
      "  Using cached filelock-3.18.0-py3-none-any.whl (16 kB)\n",
      "Collecting typing-extensions>=4.10.0\n",
      "  Using cached typing_extensions-4.14.1-py3-none-any.whl (43 kB)\n",
      "Collecting sympy>=1.13.3\n",
      "  Using cached sympy-1.14.0-py3-none-any.whl (6.3 MB)\n",
      "Collecting networkx\n",
      "  Using cached networkx-3.5-py3-none-any.whl (2.0 MB)\n",
      "Collecting jinja2\n",
      "  Using cached jinja2-3.1.6-py3-none-any.whl (134 kB)\n",
      "Collecting fsspec\n",
      "  Using cached fsspec-2025.7.0-py3-none-any.whl (199 kB)\n",
      "Collecting requests\n",
      "  Using cached requests-2.32.4-py3-none-any.whl (64 kB)\n",
      "Collecting tqdm>=4.42.1\n",
      "  Using cached tqdm-4.67.1-py3-none-any.whl (78 kB)\n",
      "Collecting mpmath<1.4,>=1.1.0\n",
      "  Using cached mpmath-1.3.0-py3-none-any.whl (536 kB)\n",
      "Collecting colorama\n",
      "  Using cached colorama-0.4.6-py2.py3-none-any.whl (25 kB)\n",
      "Collecting MarkupSafe>=2.0\n",
      "  Using cached MarkupSafe-3.0.2-cp311-cp311-win_amd64.whl (15 kB)\n",
      "Collecting charset_normalizer<4,>=2\n",
      "  Using cached charset_normalizer-3.4.2-cp311-cp311-win_amd64.whl (105 kB)\n",
      "Collecting idna<4,>=2.5\n",
      "  Using cached idna-3.10-py3-none-any.whl (70 kB)\n",
      "Collecting urllib3<3,>=1.21.1\n",
      "  Using cached urllib3-2.5.0-py3-none-any.whl (129 kB)\n",
      "Collecting certifi>=2017.4.17\n",
      "  Using cached certifi-2025.7.14-py3-none-any.whl (162 kB)\n",
      "Installing collected packages: mpmath, urllib3, typing-extensions, sympy, safetensors, pyyaml, psutil, packaging, numpy, networkx, MarkupSafe, idna, fsspec, filelock, colorama, charset_normalizer, certifi, tqdm, requests, jinja2, torch, huggingface-hub, accelerate\n",
      "  Attempting uninstall: mpmath\n",
      "    Found existing installation: mpmath 1.3.0\n",
      "    Uninstalling mpmath-1.3.0:\n",
      "      Successfully uninstalled mpmath-1.3.0\n",
      "  Attempting uninstall: urllib3\n",
      "    Found existing installation: urllib3 2.5.0\n",
      "    Uninstalling urllib3-2.5.0:\n",
      "      Successfully uninstalled urllib3-2.5.0\n",
      "  Attempting uninstall: typing-extensions\n",
      "    Found existing installation: typing_extensions 4.14.1\n",
      "    Uninstalling typing_extensions-4.14.1:\n",
      "      Successfully uninstalled typing_extensions-4.14.1\n",
      "  Attempting uninstall: sympy\n",
      "    Found existing installation: sympy 1.14.0\n",
      "    Uninstalling sympy-1.14.0:\n",
      "      Successfully uninstalled sympy-1.14.0\n",
      "  Attempting uninstall: safetensors\n",
      "    Found existing installation: safetensors 0.5.3\n",
      "    Uninstalling safetensors-0.5.3:\n",
      "      Successfully uninstalled safetensors-0.5.3\n"
     ]
    },
    {
     "name": "stderr",
     "output_type": "stream",
     "text": [
      "ERROR: Could not install packages due to an OSError: [WinError 5] Access is denied: 'C:\\\\Users\\\\User\\\\rag_env\\\\Lib\\\\site-packages\\\\~afetensors\\\\_safetensors_rust.pyd'\n",
      "Check the permissions.\n",
      "\n",
      "\n",
      "[notice] A new release of pip available: 22.3 -> 25.1.1\n",
      "[notice] To update, run: python.exe -m pip install --upgrade pip\n"
     ]
    }
   ],
   "source": [
    "!pip install accelerate==0.30.1 --upgrade --force-reinstall\n"
   ]
  },
  {
   "cell_type": "code",
   "execution_count": 11,
   "id": "0d2dad78",
   "metadata": {},
   "outputs": [
    {
     "name": "stderr",
     "output_type": "stream",
     "text": [
      "The installed version of bitsandbytes was compiled without GPU support. 8-bit optimizers and GPU quantization are unavailable.\n"
     ]
    },
    {
     "name": "stdout",
     "output_type": "stream",
     "text": [
      "trainable params: 884,736 || all params: 248,462,592 || trainable%: 0.3561\n"
     ]
    }
   ],
   "source": [
    "from peft import LoraConfig, get_peft_model\n",
    "from transformers import BitsAndBytesConfig, AutoModelForSeq2SeqLM\n",
    "\n",
    "# Use quantization\n",
    "bnb_config = BitsAndBytesConfig(load_in_8bit=True)\n",
    "\n",
    "# Load quantized base model\n",
    "base_model = AutoModelForSeq2SeqLM.from_pretrained(model_name, quantization_config=bnb_config)\n",
    "\n",
    "# LoRA config\n",
    "lora_config = LoraConfig(\n",
    "    r=8,\n",
    "    lora_alpha=32,\n",
    "    target_modules=[\"q\", \"v\"],\n",
    "    lora_dropout=0.05,\n",
    "    bias=\"none\",\n",
    "    task_type=\"SEQ_2_SEQ_LM\"\n",
    ")\n",
    "\n",
    "# Wrap with PEFT\n",
    "model = get_peft_model(base_model, lora_config)\n",
    "\n",
    "model.print_trainable_parameters()\n"
   ]
  },
  {
   "cell_type": "markdown",
   "id": "65ccb33e",
   "metadata": {},
   "source": [
    "### Trainer Setup"
   ]
  },
  {
   "cell_type": "code",
   "execution_count": 12,
   "id": "e3438511",
   "metadata": {},
   "outputs": [],
   "source": [
    "\n",
    "#!pip install transformers==4.36.2 peft==0.9.0 accelerate bitsandbytes --upgrade\n"
   ]
  },
  {
   "cell_type": "code",
   "execution_count": 13,
   "id": "5e59052d",
   "metadata": {},
   "outputs": [],
   "source": [
    "#!pip install transformers==4.36.2 peft==0.9.0 accelerate==0.25.0 bitsandbytes datasets sentencepiece --upgrade\n"
   ]
  },
  {
   "cell_type": "code",
   "execution_count": 14,
   "id": "7c7ffae8",
   "metadata": {},
   "outputs": [
    {
     "name": "stderr",
     "output_type": "stream",
     "text": [
      "C:\\Users\\User\\AppData\\Local\\Temp\\ipykernel_9112\\2171403751.py:26: FutureWarning: `tokenizer` is deprecated and will be removed in version 5.0.0 for `Seq2SeqTrainer.__init__`. Use `processing_class` instead.\n",
      "  trainer = Seq2SeqTrainer(\n",
      "No label_names provided for model class `PeftModelForSeq2SeqLM`. Since `PeftModel` hides base models input arguments, if label_names is not given, label_names can't be set automatically within `Trainer`. Note that empty label_names list will be used instead.\n"
     ]
    }
   ],
   "source": [
    "from transformers import Seq2SeqTrainer, TrainingArguments, DataCollatorForSeq2Seq, GenerationConfig\n",
    "\n",
    "# ✅ Subclass TrainingArguments to inject generation_config and avoid AttributeError\n",
    "class MyTrainingArguments(TrainingArguments):\n",
    "    def __init__(self, *args, **kwargs):\n",
    "        super().__init__(*args, **kwargs)\n",
    "        self.generation_config = GenerationConfig()  # Dummy config to prevent error\n",
    "\n",
    "# ✅ Setup training arguments using the custom class\n",
    "training_args = MyTrainingArguments(\n",
    "    output_dir=\"./finetuned_bangla_rag_model\",\n",
    "    per_device_train_batch_size=4,\n",
    "    num_train_epochs=3,\n",
    "    learning_rate=3e-4,\n",
    "    logging_dir=\"./logs\",\n",
    "    logging_steps=10,\n",
    "    save_strategy=\"epoch\",\n",
    "    fp16=True,\n",
    "    report_to=\"none\"\n",
    ")\n",
    "\n",
    "# ✅ Setup data collator for padding sequences during training\n",
    "collator = DataCollatorForSeq2Seq(tokenizer, model=model)\n",
    "\n",
    "# ✅ Create the Seq2SeqTrainer\n",
    "trainer = Seq2SeqTrainer(\n",
    "    model=model,\n",
    "    args=training_args,\n",
    "    train_dataset=tokenized_dataset,\n",
    "    tokenizer=tokenizer,  # still works for now; will be deprecated in v5.0\n",
    "    data_collator=collator,\n",
    ")\n",
    "\n",
    "# ✅ (Optional) You can still explicitly set the model's generation config if needed\n",
    "trainer.model.generation_config = model.generation_config\n"
   ]
  },
  {
   "cell_type": "markdown",
   "id": "e01ac260",
   "metadata": {},
   "source": [
    "### Train and Save Model"
   ]
  },
  {
   "cell_type": "code",
   "execution_count": 15,
   "id": "0a70fb4d",
   "metadata": {},
   "outputs": [
    {
     "name": "stdout",
     "output_type": "stream",
     "text": [
      "Accelerate version: 1.9.0\n",
      "Transformers version: 4.53.3\n"
     ]
    }
   ],
   "source": [
    "import accelerate\n",
    "import transformers\n",
    "\n",
    "print(\"Accelerate version:\", accelerate.__version__)\n",
    "print(\"Transformers version:\", transformers.__version__)\n"
   ]
  },
  {
   "cell_type": "code",
   "execution_count": 16,
   "id": "79ead054",
   "metadata": {},
   "outputs": [
    {
     "data": {
      "text/plain": [
       "True"
      ]
     },
     "execution_count": 16,
     "metadata": {},
     "output_type": "execute_result"
    }
   ],
   "source": [
    "import sys\n",
    "'accelerate' in sys.modules\n"
   ]
  },
  {
   "cell_type": "code",
   "execution_count": null,
   "id": "4dab8558",
   "metadata": {},
   "outputs": [
    {
     "name": "stderr",
     "output_type": "stream",
     "text": [
      "c:\\Users\\User\\rag_env\\Lib\\site-packages\\torch\\utils\\data\\dataloader.py:665: UserWarning: 'pin_memory' argument is set as true but no accelerator is found, then device pinned memory won't be used.\n",
      "  warnings.warn(warn_msg)\n",
      "Passing a tuple of `past_key_values` is deprecated and will be removed in Transformers v4.48.0. You should pass an instance of `EncoderDecoderCache` instead, e.g. `past_key_values=EncoderDecoderCache.from_legacy_cache(past_key_values)`.\n"
     ]
    },
    {
     "data": {
      "text/html": [
       "\n",
       "    <div>\n",
       "      \n",
       "      <progress value='10' max='156' style='width:300px; height:20px; vertical-align: middle;'></progress>\n",
       "      [ 10/156 2:09:44 < 39:27:50, 0.00 it/s, Epoch 0.17/3]\n",
       "    </div>\n",
       "    <table border=\"1\" class=\"dataframe\">\n",
       "  <thead>\n",
       " <tr style=\"text-align: left;\">\n",
       "      <th>Step</th>\n",
       "      <th>Training Loss</th>\n",
       "    </tr>\n",
       "  </thead>\n",
       "  <tbody>\n",
       "  </tbody>\n",
       "</table><p>"
      ],
      "text/plain": [
       "<IPython.core.display.HTML object>"
      ]
     },
     "metadata": {},
     "output_type": "display_data"
    }
   ],
   "source": [
    "trainer.train()\n",
    "trainer.save_model()\n"
   ]
  },
  {
   "cell_type": "markdown",
   "id": "2cca19be",
   "metadata": {},
   "source": [
    "### Test Inference From Fine Tuned Model"
   ]
  },
  {
   "cell_type": "code",
   "execution_count": null,
   "id": "46a0e9e6",
   "metadata": {},
   "outputs": [],
   "source": [
    "from transformers import pipeline\n",
    "\n",
    "pipe = pipeline(\"text2text-generation\", model=\"./finetuned_bangla_rag_model\", tokenizer=tokenizer)\n",
    "\n",
    "# Test\n",
    "query = \"প্রসঙ্গ: অনুপমের ভাষায় সুপুরুষ কাকে বলা হয়েছে? প্রশ্ন: অনুপমের ভাষায় সুপুরুষ কাকে বলা হয়েছে? উত্তর:\"\n",
    "print(pipe(query, max_new_tokens=100)[0]['generated_text'])\n"
   ]
  }
 ],
 "metadata": {
  "kernelspec": {
   "display_name": "RAG Fine-Tune",
   "language": "python",
   "name": "rag_env"
  },
  "language_info": {
   "codemirror_mode": {
    "name": "ipython",
    "version": 3
   },
   "file_extension": ".py",
   "mimetype": "text/x-python",
   "name": "python",
   "nbconvert_exporter": "python",
   "pygments_lexer": "ipython3",
   "version": "3.11.0"
  }
 },
 "nbformat": 4,
 "nbformat_minor": 5
}
