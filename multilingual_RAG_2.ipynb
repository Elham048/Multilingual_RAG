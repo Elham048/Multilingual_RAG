{
 "cells": [
  {
   "cell_type": "markdown",
   "id": "e5382288",
   "metadata": {},
   "source": [
    "### Project Setup"
   ]
  },
  {
   "cell_type": "code",
   "execution_count": 1,
   "id": "e02a84e2",
   "metadata": {},
   "outputs": [
    {
     "name": "stdout",
     "output_type": "stream",
     "text": [
      "Defaulting to user installation because normal site-packages is not writeable\n",
      "Collecting pdfminer\n",
      "  Downloading pdfminer-20191125.tar.gz (4.2 MB)\n",
      "     ---------------------------------------- 4.2/4.2 MB 2.7 MB/s eta 0:00:00\n",
      "  Preparing metadata (setup.py): started\n",
      "  Preparing metadata (setup.py): finished with status 'done'\n",
      "Collecting pycryptodome\n",
      "  Downloading pycryptodome-3.23.0-cp37-abi3-win_amd64.whl (1.8 MB)\n",
      "     ---------------------------------------- 1.8/1.8 MB 2.3 MB/s eta 0:00:00\n",
      "Installing collected packages: pycryptodome, pdfminer\n",
      "  Running setup.py install for pdfminer: started\n",
      "  Running setup.py install for pdfminer: finished with status 'done'\n",
      "Successfully installed pdfminer-20191125 pycryptodome-3.23.0\n"
     ]
    },
    {
     "name": "stderr",
     "output_type": "stream",
     "text": [
      "  DEPRECATION: pdfminer is being installed using the legacy 'setup.py install' method, because it does not have a 'pyproject.toml' and the 'wheel' package is not installed. pip 23.1 will enforce this behaviour change. A possible replacement is to enable the '--use-pep517' option. Discussion can be found at https://github.com/pypa/pip/issues/8559\n",
      "WARNING: There was an error checking the latest version of pip.\n"
     ]
    }
   ],
   "source": [
    "!pip install pdfminer\n"
   ]
  },
  {
   "cell_type": "code",
   "execution_count": 2,
   "id": "7187c8ee",
   "metadata": {},
   "outputs": [
    {
     "name": "stdout",
     "output_type": "stream",
     "text": [
      "Defaulting to user installation because normal site-packages is not writeable\n",
      "Requirement already satisfied: langchain in c:\\users\\user\\appdata\\roaming\\python\\python311\\site-packages (0.3.26)\n",
      "Requirement already satisfied: chromadb in c:\\users\\user\\appdata\\roaming\\python\\python311\\site-packages (1.0.15)\n",
      "Requirement already satisfied: sentence-transformers in c:\\users\\user\\appdata\\roaming\\python\\python311\\site-packages (5.0.0)\n",
      "Requirement already satisfied: openai in c:\\users\\user\\appdata\\roaming\\python\\python311\\site-packages (1.97.0)\n",
      "Requirement already satisfied: fastapi in c:\\users\\user\\appdata\\roaming\\python\\python311\\site-packages (0.116.1)\n",
      "Requirement already satisfied: uvicorn in c:\\users\\user\\appdata\\roaming\\python\\python311\\site-packages (0.35.0)\n",
      "Requirement already satisfied: pymupdf in c:\\users\\user\\appdata\\roaming\\python\\python311\\site-packages (1.26.3)\n",
      "Requirement already satisfied: langchain-core<1.0.0,>=0.3.66 in c:\\users\\user\\appdata\\roaming\\python\\python311\\site-packages (from langchain) (0.3.70)\n",
      "Requirement already satisfied: langchain-text-splitters<1.0.0,>=0.3.8 in c:\\users\\user\\appdata\\roaming\\python\\python311\\site-packages (from langchain) (0.3.8)\n",
      "Requirement already satisfied: langsmith>=0.1.17 in c:\\users\\user\\appdata\\roaming\\python\\python311\\site-packages (from langchain) (0.4.8)\n",
      "Requirement already satisfied: pydantic<3.0.0,>=2.7.4 in c:\\users\\user\\appdata\\roaming\\python\\python311\\site-packages (from langchain) (2.8.0)\n",
      "Requirement already satisfied: SQLAlchemy<3,>=1.4 in c:\\users\\user\\appdata\\roaming\\python\\python311\\site-packages (from langchain) (2.0.41)\n",
      "Requirement already satisfied: requests<3,>=2 in c:\\users\\user\\appdata\\roaming\\python\\python311\\site-packages (from langchain) (2.32.3)\n",
      "Requirement already satisfied: PyYAML>=5.3 in c:\\users\\user\\appdata\\roaming\\python\\python311\\site-packages (from langchain) (6.0.1)\n",
      "Requirement already satisfied: build>=1.0.3 in c:\\users\\user\\appdata\\roaming\\python\\python311\\site-packages (from chromadb) (1.2.2.post1)\n",
      "Requirement already satisfied: pybase64>=1.4.1 in c:\\users\\user\\appdata\\roaming\\python\\python311\\site-packages (from chromadb) (1.4.1)\n",
      "Requirement already satisfied: numpy>=1.22.5 in c:\\users\\user\\appdata\\roaming\\python\\python311\\site-packages (from chromadb) (1.26.4)\n",
      "Requirement already satisfied: posthog<6.0.0,>=2.4.0 in c:\\users\\user\\appdata\\roaming\\python\\python311\\site-packages (from chromadb) (5.4.0)\n",
      "Requirement already satisfied: typing-extensions>=4.5.0 in c:\\users\\user\\appdata\\roaming\\python\\python311\\site-packages (from chromadb) (4.12.2)\n",
      "Requirement already satisfied: onnxruntime>=1.14.1 in c:\\users\\user\\appdata\\roaming\\python\\python311\\site-packages (from chromadb) (1.22.1)\n",
      "Requirement already satisfied: opentelemetry-api>=1.2.0 in c:\\users\\user\\appdata\\roaming\\python\\python311\\site-packages (from chromadb) (1.35.0)\n",
      "Requirement already satisfied: opentelemetry-exporter-otlp-proto-grpc>=1.2.0 in c:\\users\\user\\appdata\\roaming\\python\\python311\\site-packages (from chromadb) (1.35.0)\n",
      "Requirement already satisfied: opentelemetry-sdk>=1.2.0 in c:\\users\\user\\appdata\\roaming\\python\\python311\\site-packages (from chromadb) (1.35.0)\n",
      "Requirement already satisfied: tokenizers>=0.13.2 in c:\\users\\user\\appdata\\roaming\\python\\python311\\site-packages (from chromadb) (0.21.1)\n",
      "Requirement already satisfied: pypika>=0.48.9 in c:\\users\\user\\appdata\\roaming\\python\\python311\\site-packages (from chromadb) (0.48.9)\n",
      "Requirement already satisfied: tqdm>=4.65.0 in c:\\users\\user\\appdata\\roaming\\python\\python311\\site-packages (from chromadb) (4.66.4)\n",
      "Requirement already satisfied: overrides>=7.3.1 in c:\\users\\user\\appdata\\roaming\\python\\python311\\site-packages (from chromadb) (7.7.0)\n",
      "Requirement already satisfied: importlib-resources in c:\\users\\user\\appdata\\roaming\\python\\python311\\site-packages (from chromadb) (6.5.2)\n",
      "Requirement already satisfied: grpcio>=1.58.0 in c:\\users\\user\\appdata\\roaming\\python\\python311\\site-packages (from chromadb) (1.73.1)\n",
      "Requirement already satisfied: bcrypt>=4.0.1 in c:\\users\\user\\appdata\\roaming\\python\\python311\\site-packages (from chromadb) (4.3.0)\n",
      "Requirement already satisfied: typer>=0.9.0 in c:\\users\\user\\appdata\\roaming\\python\\python311\\site-packages (from chromadb) (0.12.3)\n",
      "Requirement already satisfied: kubernetes>=28.1.0 in c:\\users\\user\\appdata\\roaming\\python\\python311\\site-packages (from chromadb) (33.1.0)\n",
      "Requirement already satisfied: tenacity>=8.2.3 in c:\\users\\user\\appdata\\roaming\\python\\python311\\site-packages (from chromadb) (8.5.0)\n",
      "Requirement already satisfied: mmh3>=4.0.1 in c:\\users\\user\\appdata\\roaming\\python\\python311\\site-packages (from chromadb) (5.1.0)\n",
      "Requirement already satisfied: orjson>=3.9.12 in c:\\users\\user\\appdata\\roaming\\python\\python311\\site-packages (from chromadb) (3.11.0)\n",
      "Requirement already satisfied: httpx>=0.27.0 in c:\\users\\user\\appdata\\roaming\\python\\python311\\site-packages (from chromadb) (0.27.0)\n",
      "Requirement already satisfied: rich>=10.11.0 in c:\\users\\user\\appdata\\roaming\\python\\python311\\site-packages (from chromadb) (13.7.1)\n",
      "Requirement already satisfied: jsonschema>=4.19.0 in c:\\users\\user\\appdata\\roaming\\python\\python311\\site-packages (from chromadb) (4.22.0)\n",
      "Requirement already satisfied: transformers<5.0.0,>=4.41.0 in c:\\users\\user\\appdata\\roaming\\python\\python311\\site-packages (from sentence-transformers) (4.50.3)\n",
      "Requirement already satisfied: torch>=1.11.0 in c:\\users\\user\\appdata\\roaming\\python\\python311\\site-packages (from sentence-transformers) (2.3.1+cu118)\n",
      "Requirement already satisfied: scikit-learn in c:\\users\\user\\appdata\\roaming\\python\\python311\\site-packages (from sentence-transformers) (1.5.1)\n",
      "Requirement already satisfied: scipy in c:\\users\\user\\appdata\\roaming\\python\\python311\\site-packages (from sentence-transformers) (1.13.1)\n",
      "Requirement already satisfied: huggingface-hub>=0.20.0 in c:\\users\\user\\appdata\\roaming\\python\\python311\\site-packages (from sentence-transformers) (0.30.1)\n",
      "Requirement already satisfied: Pillow in c:\\users\\user\\appdata\\roaming\\python\\python311\\site-packages (from sentence-transformers) (10.3.0)\n",
      "Requirement already satisfied: anyio<5,>=3.5.0 in c:\\users\\user\\appdata\\roaming\\python\\python311\\site-packages (from openai) (4.4.0)\n",
      "Requirement already satisfied: distro<2,>=1.7.0 in c:\\users\\user\\appdata\\roaming\\python\\python311\\site-packages (from openai) (1.9.0)\n",
      "Requirement already satisfied: jiter<1,>=0.4.0 in c:\\users\\user\\appdata\\roaming\\python\\python311\\site-packages (from openai) (0.10.0)\n",
      "Requirement already satisfied: sniffio in c:\\users\\user\\appdata\\roaming\\python\\python311\\site-packages (from openai) (1.3.1)\n",
      "Requirement already satisfied: starlette<0.48.0,>=0.40.0 in c:\\users\\user\\appdata\\roaming\\python\\python311\\site-packages (from fastapi) (0.47.2)\n",
      "Requirement already satisfied: click>=7.0 in c:\\users\\user\\appdata\\roaming\\python\\python311\\site-packages (from uvicorn) (8.1.7)\n",
      "Requirement already satisfied: h11>=0.8 in c:\\users\\user\\appdata\\roaming\\python\\python311\\site-packages (from uvicorn) (0.14.0)\n",
      "Requirement already satisfied: idna>=2.8 in c:\\users\\user\\appdata\\roaming\\python\\python311\\site-packages (from anyio<5,>=3.5.0->openai) (3.7)\n",
      "Requirement already satisfied: packaging>=19.1 in c:\\users\\user\\appdata\\roaming\\python\\python311\\site-packages (from build>=1.0.3->chromadb) (24.1)\n",
      "Requirement already satisfied: pyproject_hooks in c:\\users\\user\\appdata\\roaming\\python\\python311\\site-packages (from build>=1.0.3->chromadb) (1.2.0)\n",
      "Requirement already satisfied: colorama in c:\\users\\user\\appdata\\roaming\\python\\python311\\site-packages (from build>=1.0.3->chromadb) (0.4.6)\n",
      "Requirement already satisfied: certifi in c:\\users\\user\\appdata\\roaming\\python\\python311\\site-packages (from httpx>=0.27.0->chromadb) (2024.6.2)\n",
      "Requirement already satisfied: httpcore==1.* in c:\\users\\user\\appdata\\roaming\\python\\python311\\site-packages (from httpx>=0.27.0->chromadb) (1.0.5)\n",
      "Requirement already satisfied: filelock in c:\\users\\user\\appdata\\roaming\\python\\python311\\site-packages (from huggingface-hub>=0.20.0->sentence-transformers) (3.13.1)\n",
      "Requirement already satisfied: fsspec>=2023.5.0 in c:\\users\\user\\appdata\\roaming\\python\\python311\\site-packages (from huggingface-hub>=0.20.0->sentence-transformers) (2024.2.0)\n",
      "Requirement already satisfied: attrs>=22.2.0 in c:\\users\\user\\appdata\\roaming\\python\\python311\\site-packages (from jsonschema>=4.19.0->chromadb) (23.2.0)\n",
      "Requirement already satisfied: jsonschema-specifications>=2023.03.6 in c:\\users\\user\\appdata\\roaming\\python\\python311\\site-packages (from jsonschema>=4.19.0->chromadb) (2023.12.1)\n",
      "Requirement already satisfied: referencing>=0.28.4 in c:\\users\\user\\appdata\\roaming\\python\\python311\\site-packages (from jsonschema>=4.19.0->chromadb) (0.35.1)\n",
      "Requirement already satisfied: rpds-py>=0.7.1 in c:\\users\\user\\appdata\\roaming\\python\\python311\\site-packages (from jsonschema>=4.19.0->chromadb) (0.18.1)\n",
      "Requirement already satisfied: six>=1.9.0 in c:\\users\\user\\appdata\\roaming\\python\\python311\\site-packages (from kubernetes>=28.1.0->chromadb) (1.16.0)\n",
      "Requirement already satisfied: python-dateutil>=2.5.3 in c:\\users\\user\\appdata\\roaming\\python\\python311\\site-packages (from kubernetes>=28.1.0->chromadb) (2.9.0.post0)\n",
      "Requirement already satisfied: google-auth>=1.0.1 in c:\\users\\user\\appdata\\roaming\\python\\python311\\site-packages (from kubernetes>=28.1.0->chromadb) (2.40.3)\n",
      "Requirement already satisfied: websocket-client!=0.40.0,!=0.41.*,!=0.42.*,>=0.32.0 in c:\\users\\user\\appdata\\roaming\\python\\python311\\site-packages (from kubernetes>=28.1.0->chromadb) (1.8.0)\n",
      "Requirement already satisfied: requests-oauthlib in c:\\users\\user\\appdata\\roaming\\python\\python311\\site-packages (from kubernetes>=28.1.0->chromadb) (2.0.0)\n",
      "Requirement already satisfied: oauthlib>=3.2.2 in c:\\users\\user\\appdata\\roaming\\python\\python311\\site-packages (from kubernetes>=28.1.0->chromadb) (3.3.1)\n",
      "Requirement already satisfied: urllib3>=1.24.2 in c:\\users\\user\\appdata\\roaming\\python\\python311\\site-packages (from kubernetes>=28.1.0->chromadb) (2.2.1)\n",
      "Requirement already satisfied: durationpy>=0.7 in c:\\users\\user\\appdata\\roaming\\python\\python311\\site-packages (from kubernetes>=28.1.0->chromadb) (0.10)\n",
      "Requirement already satisfied: jsonpatch<2.0,>=1.33 in c:\\users\\user\\appdata\\roaming\\python\\python311\\site-packages (from langchain-core<1.0.0,>=0.3.66->langchain) (1.33)\n",
      "Requirement already satisfied: requests-toolbelt<2.0.0,>=1.0.0 in c:\\users\\user\\appdata\\roaming\\python\\python311\\site-packages (from langsmith>=0.1.17->langchain) (1.0.0)\n",
      "Requirement already satisfied: zstandard<0.24.0,>=0.23.0 in c:\\users\\user\\appdata\\roaming\\python\\python311\\site-packages (from langsmith>=0.1.17->langchain) (0.23.0)\n",
      "Requirement already satisfied: coloredlogs in c:\\users\\user\\appdata\\roaming\\python\\python311\\site-packages (from onnxruntime>=1.14.1->chromadb) (15.0.1)\n",
      "Requirement already satisfied: flatbuffers in c:\\users\\user\\appdata\\roaming\\python\\python311\\site-packages (from onnxruntime>=1.14.1->chromadb) (25.2.10)\n",
      "Requirement already satisfied: protobuf in c:\\users\\user\\appdata\\roaming\\python\\python311\\site-packages (from onnxruntime>=1.14.1->chromadb) (5.27.2)\n",
      "Requirement already satisfied: sympy in c:\\users\\user\\appdata\\roaming\\python\\python311\\site-packages (from onnxruntime>=1.14.1->chromadb) (1.12)\n",
      "Requirement already satisfied: importlib-metadata<8.8.0,>=6.0 in c:\\users\\user\\appdata\\roaming\\python\\python311\\site-packages (from opentelemetry-api>=1.2.0->chromadb) (8.7.0)\n",
      "Requirement already satisfied: googleapis-common-protos~=1.57 in c:\\users\\user\\appdata\\roaming\\python\\python311\\site-packages (from opentelemetry-exporter-otlp-proto-grpc>=1.2.0->chromadb) (1.70.0)\n",
      "Requirement already satisfied: opentelemetry-exporter-otlp-proto-common==1.35.0 in c:\\users\\user\\appdata\\roaming\\python\\python311\\site-packages (from opentelemetry-exporter-otlp-proto-grpc>=1.2.0->chromadb) (1.35.0)\n",
      "Requirement already satisfied: opentelemetry-proto==1.35.0 in c:\\users\\user\\appdata\\roaming\\python\\python311\\site-packages (from opentelemetry-exporter-otlp-proto-grpc>=1.2.0->chromadb) (1.35.0)\n",
      "Requirement already satisfied: opentelemetry-semantic-conventions==0.56b0 in c:\\users\\user\\appdata\\roaming\\python\\python311\\site-packages (from opentelemetry-sdk>=1.2.0->chromadb) (0.56b0)\n",
      "Requirement already satisfied: backoff>=1.10.0 in c:\\users\\user\\appdata\\roaming\\python\\python311\\site-packages (from posthog<6.0.0,>=2.4.0->chromadb) (2.2.1)\n",
      "Requirement already satisfied: annotated-types>=0.4.0 in c:\\users\\user\\appdata\\roaming\\python\\python311\\site-packages (from pydantic<3.0.0,>=2.7.4->langchain) (0.7.0)\n",
      "Requirement already satisfied: pydantic-core==2.20.0 in c:\\users\\user\\appdata\\roaming\\python\\python311\\site-packages (from pydantic<3.0.0,>=2.7.4->langchain) (2.20.0)\n",
      "Requirement already satisfied: charset-normalizer<4,>=2 in c:\\users\\user\\appdata\\roaming\\python\\python311\\site-packages (from requests<3,>=2->langchain) (3.3.2)\n",
      "Requirement already satisfied: markdown-it-py>=2.2.0 in c:\\users\\user\\appdata\\roaming\\python\\python311\\site-packages (from rich>=10.11.0->chromadb) (3.0.0)\n",
      "Requirement already satisfied: pygments<3.0.0,>=2.13.0 in c:\\users\\user\\appdata\\roaming\\python\\python311\\site-packages (from rich>=10.11.0->chromadb) (2.18.0)\n",
      "Requirement already satisfied: greenlet>=1 in c:\\users\\user\\appdata\\roaming\\python\\python311\\site-packages (from SQLAlchemy<3,>=1.4->langchain) (3.1.1)\n",
      "Requirement already satisfied: networkx in c:\\users\\user\\appdata\\roaming\\python\\python311\\site-packages (from torch>=1.11.0->sentence-transformers) (3.2.1)\n",
      "Requirement already satisfied: jinja2 in c:\\users\\user\\appdata\\roaming\\python\\python311\\site-packages (from torch>=1.11.0->sentence-transformers) (3.1.4)\n",
      "Requirement already satisfied: mkl<=2021.4.0,>=2021.1.1 in c:\\users\\user\\appdata\\roaming\\python\\python311\\site-packages (from torch>=1.11.0->sentence-transformers) (2021.4.0)\n",
      "Requirement already satisfied: regex!=2019.12.17 in c:\\users\\user\\appdata\\roaming\\python\\python311\\site-packages (from transformers<5.0.0,>=4.41.0->sentence-transformers) (2024.5.15)\n",
      "Requirement already satisfied: safetensors>=0.4.3 in c:\\users\\user\\appdata\\roaming\\python\\python311\\site-packages (from transformers<5.0.0,>=4.41.0->sentence-transformers) (0.4.3)\n",
      "Requirement already satisfied: shellingham>=1.3.0 in c:\\users\\user\\appdata\\roaming\\python\\python311\\site-packages (from typer>=0.9.0->chromadb) (1.5.4)\n",
      "Requirement already satisfied: httptools>=0.6.3 in c:\\users\\user\\appdata\\roaming\\python\\python311\\site-packages (from uvicorn) (0.6.4)\n",
      "Requirement already satisfied: python-dotenv>=0.13 in c:\\users\\user\\appdata\\roaming\\python\\python311\\site-packages (from uvicorn) (1.0.1)\n",
      "Requirement already satisfied: watchfiles>=0.13 in c:\\users\\user\\appdata\\roaming\\python\\python311\\site-packages (from uvicorn) (1.1.0)\n",
      "Requirement already satisfied: websockets>=10.4 in c:\\users\\user\\appdata\\roaming\\python\\python311\\site-packages (from uvicorn) (15.0.1)\n",
      "Requirement already satisfied: joblib>=1.2.0 in c:\\users\\user\\appdata\\roaming\\python\\python311\\site-packages (from scikit-learn->sentence-transformers) (1.4.2)\n",
      "Requirement already satisfied: threadpoolctl>=3.1.0 in c:\\users\\user\\appdata\\roaming\\python\\python311\\site-packages (from scikit-learn->sentence-transformers) (3.5.0)\n",
      "Requirement already satisfied: cachetools<6.0,>=2.0.0 in c:\\users\\user\\appdata\\roaming\\python\\python311\\site-packages (from google-auth>=1.0.1->kubernetes>=28.1.0->chromadb) (5.3.3)\n",
      "Requirement already satisfied: pyasn1-modules>=0.2.1 in c:\\users\\user\\appdata\\roaming\\python\\python311\\site-packages (from google-auth>=1.0.1->kubernetes>=28.1.0->chromadb) (0.4.2)\n",
      "Requirement already satisfied: rsa<5,>=3.1.4 in c:\\users\\user\\appdata\\roaming\\python\\python311\\site-packages (from google-auth>=1.0.1->kubernetes>=28.1.0->chromadb) (4.9.1)\n",
      "Requirement already satisfied: zipp>=3.20 in c:\\users\\user\\appdata\\roaming\\python\\python311\\site-packages (from importlib-metadata<8.8.0,>=6.0->opentelemetry-api>=1.2.0->chromadb) (3.23.0)\n",
      "Requirement already satisfied: jsonpointer>=1.9 in c:\\users\\user\\appdata\\roaming\\python\\python311\\site-packages (from jsonpatch<2.0,>=1.33->langchain-core<1.0.0,>=0.3.66->langchain) (3.0.0)\n",
      "Requirement already satisfied: mdurl~=0.1 in c:\\users\\user\\appdata\\roaming\\python\\python311\\site-packages (from markdown-it-py>=2.2.0->rich>=10.11.0->chromadb) (0.1.2)\n",
      "Requirement already satisfied: intel-openmp==2021.* in c:\\users\\user\\appdata\\roaming\\python\\python311\\site-packages (from mkl<=2021.4.0,>=2021.1.1->torch>=1.11.0->sentence-transformers) (2021.4.0)\n",
      "Requirement already satisfied: tbb==2021.* in c:\\users\\user\\appdata\\roaming\\python\\python311\\site-packages (from mkl<=2021.4.0,>=2021.1.1->torch>=1.11.0->sentence-transformers) (2021.11.0)\n",
      "Requirement already satisfied: humanfriendly>=9.1 in c:\\users\\user\\appdata\\roaming\\python\\python311\\site-packages (from coloredlogs->onnxruntime>=1.14.1->chromadb) (10.0)\n",
      "Requirement already satisfied: MarkupSafe>=2.0 in c:\\users\\user\\appdata\\roaming\\python\\python311\\site-packages (from jinja2->torch>=1.11.0->sentence-transformers) (2.1.5)\n",
      "Requirement already satisfied: mpmath>=0.19 in c:\\users\\user\\appdata\\roaming\\python\\python311\\site-packages (from sympy->onnxruntime>=1.14.1->chromadb) (1.3.0)\n",
      "Requirement already satisfied: pyreadline3 in c:\\users\\user\\appdata\\roaming\\python\\python311\\site-packages (from humanfriendly>=9.1->coloredlogs->onnxruntime>=1.14.1->chromadb) (3.5.4)\n",
      "Requirement already satisfied: pyasn1<0.7.0,>=0.6.1 in c:\\users\\user\\appdata\\roaming\\python\\python311\\site-packages (from pyasn1-modules>=0.2.1->google-auth>=1.0.1->kubernetes>=28.1.0->chromadb) (0.6.1)\n"
     ]
    },
    {
     "name": "stderr",
     "output_type": "stream",
     "text": [
      "WARNING: There was an error checking the latest version of pip.\n"
     ]
    }
   ],
   "source": [
    "!pip install langchain chromadb sentence-transformers openai fastapi uvicorn pymupdf\n"
   ]
  },
  {
   "cell_type": "code",
   "execution_count": 3,
   "id": "719dfeaa",
   "metadata": {},
   "outputs": [
    {
     "name": "stdout",
     "output_type": "stream",
     "text": [
      "Defaulting to user installation because normal site-packages is not writeable\n",
      "Requirement already satisfied: langchain-community in c:\\users\\user\\appdata\\roaming\\python\\python311\\site-packages (0.3.27)\n",
      "Requirement already satisfied: langchain-core<1.0.0,>=0.3.66 in c:\\users\\user\\appdata\\roaming\\python\\python311\\site-packages (from langchain-community) (0.3.70)\n",
      "Requirement already satisfied: langchain<1.0.0,>=0.3.26 in c:\\users\\user\\appdata\\roaming\\python\\python311\\site-packages (from langchain-community) (0.3.26)\n",
      "Requirement already satisfied: SQLAlchemy<3,>=1.4 in c:\\users\\user\\appdata\\roaming\\python\\python311\\site-packages (from langchain-community) (2.0.41)\n",
      "Requirement already satisfied: requests<3,>=2 in c:\\users\\user\\appdata\\roaming\\python\\python311\\site-packages (from langchain-community) (2.32.3)\n",
      "Requirement already satisfied: PyYAML>=5.3 in c:\\users\\user\\appdata\\roaming\\python\\python311\\site-packages (from langchain-community) (6.0.1)\n",
      "Requirement already satisfied: aiohttp<4.0.0,>=3.8.3 in c:\\users\\user\\appdata\\roaming\\python\\python311\\site-packages (from langchain-community) (3.11.13)\n",
      "Requirement already satisfied: tenacity!=8.4.0,<10,>=8.1.0 in c:\\users\\user\\appdata\\roaming\\python\\python311\\site-packages (from langchain-community) (8.5.0)\n",
      "Requirement already satisfied: dataclasses-json<0.7,>=0.5.7 in c:\\users\\user\\appdata\\roaming\\python\\python311\\site-packages (from langchain-community) (0.6.7)\n",
      "Requirement already satisfied: pydantic-settings<3.0.0,>=2.4.0 in c:\\users\\user\\appdata\\roaming\\python\\python311\\site-packages (from langchain-community) (2.10.1)\n",
      "Requirement already satisfied: langsmith>=0.1.125 in c:\\users\\user\\appdata\\roaming\\python\\python311\\site-packages (from langchain-community) (0.4.8)\n",
      "Requirement already satisfied: httpx-sse<1.0.0,>=0.4.0 in c:\\users\\user\\appdata\\roaming\\python\\python311\\site-packages (from langchain-community) (0.4.1)\n",
      "Requirement already satisfied: numpy>=1.26.2 in c:\\users\\user\\appdata\\roaming\\python\\python311\\site-packages (from langchain-community) (1.26.4)\n",
      "Requirement already satisfied: aiohappyeyeballs>=2.3.0 in c:\\users\\user\\appdata\\roaming\\python\\python311\\site-packages (from aiohttp<4.0.0,>=3.8.3->langchain-community) (2.6.1)\n",
      "Requirement already satisfied: aiosignal>=1.1.2 in c:\\users\\user\\appdata\\roaming\\python\\python311\\site-packages (from aiohttp<4.0.0,>=3.8.3->langchain-community) (1.3.2)\n",
      "Requirement already satisfied: attrs>=17.3.0 in c:\\users\\user\\appdata\\roaming\\python\\python311\\site-packages (from aiohttp<4.0.0,>=3.8.3->langchain-community) (23.2.0)\n",
      "Requirement already satisfied: frozenlist>=1.1.1 in c:\\users\\user\\appdata\\roaming\\python\\python311\\site-packages (from aiohttp<4.0.0,>=3.8.3->langchain-community) (1.5.0)\n",
      "Requirement already satisfied: multidict<7.0,>=4.5 in c:\\users\\user\\appdata\\roaming\\python\\python311\\site-packages (from aiohttp<4.0.0,>=3.8.3->langchain-community) (6.1.0)\n",
      "Requirement already satisfied: propcache>=0.2.0 in c:\\users\\user\\appdata\\roaming\\python\\python311\\site-packages (from aiohttp<4.0.0,>=3.8.3->langchain-community) (0.3.0)\n",
      "Requirement already satisfied: yarl<2.0,>=1.17.0 in c:\\users\\user\\appdata\\roaming\\python\\python311\\site-packages (from aiohttp<4.0.0,>=3.8.3->langchain-community) (1.18.3)\n",
      "Requirement already satisfied: marshmallow<4.0.0,>=3.18.0 in c:\\users\\user\\appdata\\roaming\\python\\python311\\site-packages (from dataclasses-json<0.7,>=0.5.7->langchain-community) (3.26.1)\n",
      "Requirement already satisfied: typing-inspect<1,>=0.4.0 in c:\\users\\user\\appdata\\roaming\\python\\python311\\site-packages (from dataclasses-json<0.7,>=0.5.7->langchain-community) (0.9.0)\n",
      "Requirement already satisfied: langchain-text-splitters<1.0.0,>=0.3.8 in c:\\users\\user\\appdata\\roaming\\python\\python311\\site-packages (from langchain<1.0.0,>=0.3.26->langchain-community) (0.3.8)\n",
      "Requirement already satisfied: pydantic<3.0.0,>=2.7.4 in c:\\users\\user\\appdata\\roaming\\python\\python311\\site-packages (from langchain<1.0.0,>=0.3.26->langchain-community) (2.8.0)\n",
      "Requirement already satisfied: jsonpatch<2.0,>=1.33 in c:\\users\\user\\appdata\\roaming\\python\\python311\\site-packages (from langchain-core<1.0.0,>=0.3.66->langchain-community) (1.33)\n",
      "Requirement already satisfied: typing-extensions>=4.7 in c:\\users\\user\\appdata\\roaming\\python\\python311\\site-packages (from langchain-core<1.0.0,>=0.3.66->langchain-community) (4.12.2)\n",
      "Requirement already satisfied: packaging>=23.2 in c:\\users\\user\\appdata\\roaming\\python\\python311\\site-packages (from langchain-core<1.0.0,>=0.3.66->langchain-community) (24.1)\n",
      "Requirement already satisfied: httpx<1,>=0.23.0 in c:\\users\\user\\appdata\\roaming\\python\\python311\\site-packages (from langsmith>=0.1.125->langchain-community) (0.27.0)\n",
      "Requirement already satisfied: orjson<4.0.0,>=3.9.14 in c:\\users\\user\\appdata\\roaming\\python\\python311\\site-packages (from langsmith>=0.1.125->langchain-community) (3.11.0)\n",
      "Requirement already satisfied: requests-toolbelt<2.0.0,>=1.0.0 in c:\\users\\user\\appdata\\roaming\\python\\python311\\site-packages (from langsmith>=0.1.125->langchain-community) (1.0.0)\n",
      "Requirement already satisfied: zstandard<0.24.0,>=0.23.0 in c:\\users\\user\\appdata\\roaming\\python\\python311\\site-packages (from langsmith>=0.1.125->langchain-community) (0.23.0)\n",
      "Requirement already satisfied: python-dotenv>=0.21.0 in c:\\users\\user\\appdata\\roaming\\python\\python311\\site-packages (from pydantic-settings<3.0.0,>=2.4.0->langchain-community) (1.0.1)\n",
      "Requirement already satisfied: typing-inspection>=0.4.0 in c:\\users\\user\\appdata\\roaming\\python\\python311\\site-packages (from pydantic-settings<3.0.0,>=2.4.0->langchain-community) (0.4.1)\n",
      "Requirement already satisfied: charset-normalizer<4,>=2 in c:\\users\\user\\appdata\\roaming\\python\\python311\\site-packages (from requests<3,>=2->langchain-community) (3.3.2)\n",
      "Requirement already satisfied: idna<4,>=2.5 in c:\\users\\user\\appdata\\roaming\\python\\python311\\site-packages (from requests<3,>=2->langchain-community) (3.7)\n",
      "Requirement already satisfied: urllib3<3,>=1.21.1 in c:\\users\\user\\appdata\\roaming\\python\\python311\\site-packages (from requests<3,>=2->langchain-community) (2.2.1)\n",
      "Requirement already satisfied: certifi>=2017.4.17 in c:\\users\\user\\appdata\\roaming\\python\\python311\\site-packages (from requests<3,>=2->langchain-community) (2024.6.2)\n",
      "Requirement already satisfied: greenlet>=1 in c:\\users\\user\\appdata\\roaming\\python\\python311\\site-packages (from SQLAlchemy<3,>=1.4->langchain-community) (3.1.1)\n",
      "Requirement already satisfied: anyio in c:\\users\\user\\appdata\\roaming\\python\\python311\\site-packages (from httpx<1,>=0.23.0->langsmith>=0.1.125->langchain-community) (4.4.0)\n",
      "Requirement already satisfied: httpcore==1.* in c:\\users\\user\\appdata\\roaming\\python\\python311\\site-packages (from httpx<1,>=0.23.0->langsmith>=0.1.125->langchain-community) (1.0.5)\n",
      "Requirement already satisfied: sniffio in c:\\users\\user\\appdata\\roaming\\python\\python311\\site-packages (from httpx<1,>=0.23.0->langsmith>=0.1.125->langchain-community) (1.3.1)\n",
      "Requirement already satisfied: h11<0.15,>=0.13 in c:\\users\\user\\appdata\\roaming\\python\\python311\\site-packages (from httpcore==1.*->httpx<1,>=0.23.0->langsmith>=0.1.125->langchain-community) (0.14.0)\n",
      "Requirement already satisfied: jsonpointer>=1.9 in c:\\users\\user\\appdata\\roaming\\python\\python311\\site-packages (from jsonpatch<2.0,>=1.33->langchain-core<1.0.0,>=0.3.66->langchain-community) (3.0.0)\n",
      "Requirement already satisfied: annotated-types>=0.4.0 in c:\\users\\user\\appdata\\roaming\\python\\python311\\site-packages (from pydantic<3.0.0,>=2.7.4->langchain<1.0.0,>=0.3.26->langchain-community) (0.7.0)\n",
      "Requirement already satisfied: pydantic-core==2.20.0 in c:\\users\\user\\appdata\\roaming\\python\\python311\\site-packages (from pydantic<3.0.0,>=2.7.4->langchain<1.0.0,>=0.3.26->langchain-community) (2.20.0)\n",
      "Requirement already satisfied: mypy-extensions>=0.3.0 in c:\\users\\user\\appdata\\roaming\\python\\python311\\site-packages (from typing-inspect<1,>=0.4.0->dataclasses-json<0.7,>=0.5.7->langchain-community) (1.1.0)\n"
     ]
    },
    {
     "name": "stderr",
     "output_type": "stream",
     "text": [
      "WARNING: There was an error checking the latest version of pip.\n"
     ]
    }
   ],
   "source": [
    "!pip install -U langchain-community"
   ]
  },
  {
   "cell_type": "markdown",
   "id": "04a4a71e",
   "metadata": {},
   "source": [
    "### PDF Text Extraction and Cleaning"
   ]
  },
  {
   "cell_type": "code",
   "execution_count": 1,
   "id": "f3a00120",
   "metadata": {},
   "outputs": [
    {
     "name": "stdout",
     "output_type": "stream",
     "text": [
      "িাাং া\n",
      "১ম পত্র\n",
      "\n",
      "আল ািয রিষয়\n",
      "\n",
      "অপরিরিতা\n",
      "\n",
      "অনলাইন ব্যাচ সম্পর্কি ত যেককাকনা জিজ্ঞাাসা ,\n",
      "\n",
      "\fর্িখনফল\n",
      "\n",
      "✓ র্নম্নর্ব্ি ব্যজক্তি হঠাৎ র্ব্িিালী হক  ওঠাি ফকল সমাকি পর্িচ  সংকট সম্পককি ধািণা লাভ কিকব্।\n",
      "✓ তৎকালীন সমাি-সভযতা ও মানব্তাি অব্মাননা সম্পককি িানকত পািকব্।\n",
      "✓ তৎকালীন সমাকিি পণপ্রথাি কু প্রভাব্ সম্পককি িানকত পািকব্।\n",
      "✓ তৎকাকল সমাকি ভদ্রকলাককি স্বভাব্বব্র্িষ্ট্য সম্পককি জ্ঞাানলাভ কিকব্।\n",
      "✓ নািী যকামল ঠিক, র্কন্তু দুব্িল ন - কলযাণীি িীব্নচর্িত দ্বািা প্রর্তজিত এই সতয অনুধাব্ন কিকত \n",
      "\n",
      "পািকব্।\n",
      "✓ মানুষ আিা\n",
      "\n",
      "র্নক  যব্ঁকচ থাকক- অনুপকমি দৃষ্ট্াকন্ত মানব্িীব্কনি এই র্চিন্তন সতযদিিন সম্পককি\n",
      "\n",
      "জ্ঞাানলাভ কিকব্।\n",
      "\n",
      "প্রাক-মূলযা ন\n",
      "\n",
      "১। অনুপলেি িািা কী কলি জীরিকা রনিবাহ কিলতন?\n",
      "\n",
      "ক) ডাক্তার্ি\n",
      "\n",
      "খ) ওকালর্ত\n",
      "\n",
      "গ) মাস্টার্ি\n",
      "\n",
      "ঘ) ব্যব্সা\n",
      "\n",
      "২। োোলক ভাগ্য দেিতাি প্রধান এলজন্ট ি াি কািণ, তাি-\n",
      "\n",
      "ক) প্রর্তপজি\n",
      "\n",
      "খ) প্রভাব্\n",
      "\n",
      "গ) র্ব্চক্ষণতা\n",
      "\n",
      "ঘ) কূ ট ব্ুর্ি\n",
      "\n",
      "র্নকচি অনুকেদটি পক়ে ৩ ও ৪ সংখযক প্রকেি উিি দাও।\n",
      "\n",
      "র্পতৃ হীন দীপুি চাচাই র্িকলন পর্িব্াকিি কতি া। দীপু র্িজক্ষত হকলও তাি র্সিান্ত যনও াি ক্ষমতা র্িল না। চাচা \n",
      "\n",
      "তাি র্ব্ক ি উকদযাগ র\n"
     ]
    }
   ],
   "source": [
    "# Requires: pip install pdfminer.six\n",
    "\n",
    "from pdfminer.high_level import extract_text\n",
    "\n",
    "def extract_text_from_pdf(pdf_path):\n",
    "    try:\n",
    "        return extract_text(pdf_path)\n",
    "    except Exception as e:\n",
    "        print(f\"Extraction error: {e}\")\n",
    "        return \"\"\n",
    "\n",
    "pdf_path = \"HSC26-Bangla1st-Paper.pdf\"\n",
    "raw_text = extract_text_from_pdf(pdf_path)\n",
    "print(raw_text[:1000])  # Preview\n"
   ]
  },
  {
   "cell_type": "code",
   "execution_count": 2,
   "id": "e7031162",
   "metadata": {},
   "outputs": [
    {
     "name": "stdout",
     "output_type": "stream",
     "text": [
      "িাাং া ১ম পত্র আল ািয রিষয় অপরিরিতা অনলাইন ব্যাচ সম্পর্কি ত যেককাকনা জিজ্ঞাাসা , র্িখনফল র্নম্নর্ব্ি ব্যজক্তি হঠাৎ র্ব্িিালী হক ওঠাি ফকল সমাকি পর্িচ সংকট সম্পককি ধািণা লাভ কিকব্। তৎকালীন সমািসভযতা ও মানব্তাি অব্মাননা সম্পককি িানকত পািকব্। তৎকালীন সমাকিি পণপ্রথাি কু প্রভাব্ সম্পককি িানকত পািকব্। তৎকাকল সমাকি ভদ্রকলাককি স্বভাব্বব্র্িষ্ট্য সম্পককি জ্ঞাানলাভ কিকব্। নািী যকামল ঠিক, র্কন্তু দুব্িল ন কলযাণীি িীব্নচর্িত দ্বািা প্রর্তজিত এই সতয অনুধাব্ন কিকত পািকব্। মানুষ আিা র্নক যব্ঁকচ থাকক অনুপকমি দৃষ্ট্াকন্ত মানব্িীব্কনি এই র্চিন্তন সতযদিিন সম্পককি জ্ঞাানলাভ কিকব্। প্রাকমূলযা ন ১। অনুপলেি িািা কী কলি জীরিকা রনিবাহ কিলতন? ক ডাক্তার্ি খ ওকালর্ত গ মাস্টার্ি ঘ ব্যব্সা ২। োোলক ভাগ্য দেিতাি প্রধান এলজন্ট ি াি কািণ, তাি ক প্রর্তপজি খ প্রভাব্ গ র্ব্চক্ষণতা ঘ কূ ট ব্ুর্ি র্নকচি অনুকেদটি পক়ে ৩ ও ৪ সংখযক প্রকেি উিি দাও। র্পতৃ হীন দীপুি চাচাই র্িকলন পর্িব্াকিি কতি া। দীপু র্িজক্ষত হকলও তাি র্সিান্ত যনও াি ক্ষমতা র্িল না। চাচা তাি র্ব্ক ি উকদযাগ র্নকলও যেৌতু ক র্নক ব্া়োব্ার়্ে কিাি কািকণ কনযাি র্পত\n"
     ]
    }
   ],
   "source": [
    "import re\n",
    "\n",
    "def clean_bangla_text(text):\n",
    "    # Remove English chars, digits, extra symbols, keeping Bangla + punctuation\n",
    "    text = re.sub(r'[a-zA-Z0-9]', '', text)\n",
    "    text = re.sub(r'[^\\u0980-\\u09FF\\s।,?!]', '', text)\n",
    "    text = re.sub(r'\\s+', ' ', text)  # reduce multiple spaces\n",
    "    return text.strip()\n",
    "\n",
    "cleaned_text = clean_bangla_text(raw_text)\n",
    "print(cleaned_text[:1000])\n"
   ]
  },
  {
   "cell_type": "markdown",
   "id": "b67d5f37",
   "metadata": {},
   "source": [
    "### Text Cleaning and Chunking"
   ]
  },
  {
   "cell_type": "code",
   "execution_count": 3,
   "id": "42c4664f",
   "metadata": {},
   "outputs": [
    {
     "name": "stdout",
     "output_type": "stream",
     "text": [
      "Total chunks: 187\n",
      "িাাং া ১ম পত্র আল ািয রিষয় অপরিরিতা অনলাইন ব্যাচ সম্পর্কি ত যেককাকনা জিজ্ঞাাসা , র্িখনফল র্নম্নর্ব্ি ব্যজক্তি হঠাৎ র্ব্িিালী হক ওঠাি ফকল সমাকি পর্িচ সংকট সম্পককি ধািণা লাভ কিকব্। তৎকালীন সমািসভযতা ও মানব্তাি অব্মাননা সম্পককি িানকত পািকব্। তৎকালীন সমাকিি পণপ্রথাি কু প্রভাব্ সম্পককি িানকত পািকব্। তৎকাকল সমাকি ভদ্রকলাককি স্বভাব্বব্র্িষ্ট্য সম্পককি জ্ঞাানলাভ কিকব্। নািী যকামল ঠিক, র্কন্তু দুব্িল ন কলযাণীি িীব্নচর্িত দ্বািা প্রর্তজিত এই সতয অনুধাব্ন কিকত পািকব্। মানুষ আিা র্নক যব্ঁকচ থাকক অনুপকমি দৃষ\n"
     ]
    }
   ],
   "source": [
    "def chunk_text(text, chunk_size=500, overlap=50):\n",
    "    chunks = []\n",
    "    start = 0\n",
    "    while start < len(text):\n",
    "        end = start + chunk_size\n",
    "        chunk = text[start:end]\n",
    "        chunks.append(chunk)\n",
    "        start += chunk_size - overlap\n",
    "    return chunks\n",
    "\n",
    "text_chunks = chunk_text(cleaned_text)\n",
    "print(f\"Total chunks: {len(text_chunks)}\")\n",
    "print(text_chunks[0])\n"
   ]
  },
  {
   "cell_type": "code",
   "execution_count": 4,
   "id": "4489ed04",
   "metadata": {},
   "outputs": [
    {
     "name": "stderr",
     "output_type": "stream",
     "text": [
      "C:\\Users\\User\\AppData\\Local\\Temp\\ipykernel_18744\\3926108680.py:9: LangChainDeprecationWarning: The class `HuggingFaceEmbeddings` was deprecated in LangChain 0.2.2 and will be removed in 1.0. An updated version of the class exists in the :class:`~langchain-huggingface package and should be used instead. To use it run `pip install -U :class:`~langchain-huggingface` and import as `from :class:`~langchain_huggingface import HuggingFaceEmbeddings``.\n",
      "  embedding_model = HuggingFaceEmbeddings(\n",
      "C:\\Users\\User\\AppData\\Roaming\\Python\\Python311\\site-packages\\transformers\\models\\bert\\modeling_bert.py:440: UserWarning: 1Torch was not compiled with flash attention. (Triggered internally at ..\\aten\\src\\ATen\\native\\transformers\\cuda\\sdp_utils.cpp:455.)\n",
      "  attn_output = torch.nn.functional.scaled_dot_product_attention(\n"
     ]
    },
    {
     "name": "stdout",
     "output_type": "stream",
     "text": [
      "✅ Chroma vector store created and saved.\n"
     ]
    },
    {
     "name": "stderr",
     "output_type": "stream",
     "text": [
      "C:\\Users\\User\\AppData\\Local\\Temp\\ipykernel_18744\\3926108680.py:19: LangChainDeprecationWarning: Since Chroma 0.4.x the manual persistence method is no longer supported as docs are automatically persisted.\n",
      "  vectorstore.persist()\n"
     ]
    }
   ],
   "source": [
    "from langchain.vectorstores import Chroma\n",
    "from langchain.embeddings import HuggingFaceEmbeddings\n",
    "from langchain.docstore.document import Document\n",
    "\n",
    "# Convert chunks to LangChain Documents\n",
    "documents = [Document(page_content=chunk) for chunk in text_chunks]\n",
    "\n",
    "# Multilingual embedding model (supports Bangla + English)\n",
    "embedding_model = HuggingFaceEmbeddings(\n",
    "    model_name=\"sentence-transformers/paraphrase-multilingual-MiniLM-L12-v2\"\n",
    ")\n",
    "\n",
    "# Create and persist the vector DB\n",
    "vectorstore = Chroma.from_documents(\n",
    "    documents=documents,\n",
    "    embedding=embedding_model,\n",
    "    persist_directory=\"./chroma_db\"\n",
    ")\n",
    "vectorstore.persist()\n",
    "print(\"✅ Chroma vector store created and saved.\")\n"
   ]
  },
  {
   "cell_type": "markdown",
   "id": "f542e22f",
   "metadata": {},
   "source": [
    "### Handle User Query and Retrieval"
   ]
  },
  {
   "cell_type": "code",
   "execution_count": 5,
   "id": "f98a071b",
   "metadata": {},
   "outputs": [
    {
     "name": "stderr",
     "output_type": "stream",
     "text": [
      "C:\\Users\\User\\AppData\\Local\\Temp\\ipykernel_18744\\3619036232.py:7: LangChainDeprecationWarning: The class `Chroma` was deprecated in LangChain 0.2.9 and will be removed in 1.0. An updated version of the class exists in the :class:`~langchain-chroma package and should be used instead. To use it run `pip install -U :class:`~langchain-chroma` and import as `from :class:`~langchain_chroma import Chroma``.\n",
      "  db = Chroma(persist_directory=\"./chroma_db\", embedding_function=embedding)\n",
      "C:\\Users\\User\\AppData\\Local\\Temp\\ipykernel_18744\\3619036232.py:12: LangChainDeprecationWarning: The class `Ollama` was deprecated in LangChain 0.3.1 and will be removed in 1.0.0. An updated version of the class exists in the :class:`~langchain-ollama package and should be used instead. To use it run `pip install -U :class:`~langchain-ollama` and import as `from :class:`~langchain_ollama import OllamaLLM``.\n",
      "  llm=Ollama(model=\"mistral\",temperature=0),  # use Ollama for local\n",
      "C:\\Users\\User\\AppData\\Local\\Temp\\ipykernel_18744\\3619036232.py:17: LangChainDeprecationWarning: The method `Chain.run` was deprecated in langchain 0.1.0 and will be removed in 1.0. Use :meth:`~invoke` instead.\n",
      "  result = qa_chain.run(query)\n"
     ]
    },
    {
     "name": "stdout",
     "output_type": "stream",
     "text": [
      "Answer:  In the given context, a supreme being or deity is referred to as \"অকগা\" (Okaga).\n"
     ]
    }
   ],
   "source": [
    "from langchain.vectorstores import Chroma\n",
    "from langchain.embeddings import HuggingFaceEmbeddings\n",
    "from langchain.llms import Ollama\n",
    "from langchain.chains import RetrievalQA\n",
    "\n",
    "embedding = HuggingFaceEmbeddings(model_name=\"sentence-transformers/paraphrase-multilingual-MiniLM-L12-v2\")\n",
    "db = Chroma(persist_directory=\"./chroma_db\", embedding_function=embedding)\n",
    "\n",
    "retriever = db.as_retriever(search_kwargs={\"k\": 7})\n",
    "\n",
    "qa_chain = RetrievalQA.from_chain_type(\n",
    "    llm=Ollama(model=\"mistral\",temperature=0),  # use Ollama for local\n",
    "    retriever=retriever\n",
    ")\n",
    "\n",
    "query = input(\"Enter your question (BN or EN): \")\n",
    "result = qa_chain.run(query)\n",
    "print(\"Answer:\", result)\n"
   ]
  },
  {
   "cell_type": "code",
   "execution_count": 6,
   "id": "ce92b058",
   "metadata": {},
   "outputs": [
    {
     "name": "stdout",
     "output_type": "stream",
     "text": [
      "✅ Found in chunk 2:\n",
      " ও াি ক্ষমতা র্িল না। চাচা তাি র্ব্ক ি উকদযাগ র্নকলও যেৌতু ক র্নক ব্া়োব্ার়্ে কিাি কািকণ কনযাি র্পতা অপমার্নত যব্াধ ককি র্ব্ক ি আকলাচনা যভকে যদন। দীপু যমক টিি ির্ব্ যদকখ মুগ্ধ হকলও তাি চাচাকক র্কিুই ব্লকত পাকিনর্ন। ৩। েীপুি িািাি সলে অপরিরিতা গ্লেি দকান িরিলেি রে আলে? ক হর্িকিি খ মামাি গ র্িক্ষককি \n",
      "✅ Found in chunk 5:\n",
      " ষাি মাধুেি ও উৎকষি ব্ৃর্ি ককি এমন গুণ। ভািকতি গ া অঞ্চকলি অন্তঃসজললা নদী। নদীটিি ওপকিি অংকি ব্াজলি আস্তিণ র্কন্তু যভতকি িলকরাত প্রব্ার্হত। অনুপম তাি মামাি চর্িত্রদব্র্িষ্ট্য প্রসকঙ্গ কথাটি ব্কলকি। সংসাকিি সমস্ত দা দার্ ত্ব পালকন তাি ভূ র্মকা এখাকন উপমাি মাধযকম ব্যক্ত কিা হক কি একমুখ ব্া একককাষ িল অন\n",
      "✅ Found in chunk 13:\n",
      " ্পতা এক কাকল গর্িব্ র্িকলন। ওকালর্ত কর্ি া র্তর্ন প্রচুি টাকা যিািগাি কর্ি াকিন, যভাগ কর্িব্াি সম র্নকমষমাত্র পান নাই। মৃতু যকত র্তর্ন যে হঁ াফ িার়্েকলন যসই তঁ াি প্রথম অব্কাি। আমাি তখন ব্ স অে। মাি হাকতই আর্ম মানুষ। মা গর্িকব্ি ঘকিি যমক তাই, আমিা যে ধনী এ কথা র্তর্নও যভাকলন না, আমাকক ভু জলকত যদন ন\n",
      "✅ Found in chunk 14:\n",
      " কনি যিাকটা ভাইটি। আমাি আসল অর্ভভাব্ক আমাি মামা। র্তর্ন আমাি যচক ব্ক়োকিাি ব্িি িক ক ব়্ে। র্কন্তু ফল্গুি ব্াজলি মকতা র্তর্ন আমাকদি সমস্ত সংসািটাকক র্নকিি অন্তকিি মকধয শুর্ষ া লই াকিন। তঁ াহাকক না খু ঁর়্ে া এখানকাি এক গণ্ডূষও িস পাইব্াি যিা নাই। এই কািকণ যকাকনার্কিুি িনযই আমাকক যকাকনা ভাব্না ভার্ব্\n",
      "✅ Found in chunk 15:\n",
      " । মাতাি আকদি মার্ন া চজলব্াি ক্ষমতা আমাি আকি ব্স্তুত, না মার্নব্াি ক্ষমতা আমাি নাই। অন্তঃপুকিি িাসকন চজলব্াি মকতা কর্ি াই আর্ম প্রস্তত হই ার্ি, ের্দ যকাকনা কনযা স্ব ম্বিা হন তকব্ এই সুলক্ষণটি স্মিণ িার্খকব্ন। অকনক ব্ক়ো ঘি হইকত আমাি সম্বন্ধ আর্স ার্িল। র্কন্তু মামা, র্ের্ন পৃর্থব্ীকত আমাি ভাগযকদব্ত\n",
      "✅ Found in chunk 17:\n",
      " ূ কর্িকতকি পিীক্ষা নাই, উকমদর্ি নাই, চাকর্ি নাই র্নকিি র্ব্ষ যদর্খব্াি র্চন্তাও নাই, র্িক্ষাও নাই, ইোও নাই থার্কব্াি মকধযও র্ভতকি আকিন মা এব্ং ব্ার্হকি আকিন মামা। এই অব্কাকিি মরুভূ র্মি মকধয আমাি হৃদ তখন র্ব্শ্বব্যাপী নািীরূকপিমিীর্চকা যদর্খকতর্িল আকাকি তাহাি দৃষ্টি, ব্াতাকস তাহাি র্নঃশ্বাস, তরুমমি\n",
      "✅ Found in chunk 18:\n",
      " িা া ব্ুর্নকত লার্গল। হর্িি মানুষটা র্িল ির্সক, িস র্দক ব্ণিনা কর্িব্াি িজক্তকত তাহাি র্িল, আি আমাি মন র্িল তৃ ষাতি । আর্ম হর্িিকক ব্জললাম, একব্াি মামাি কাকি কথাটা পার়্ে া যদখ। হর্িি আসি িমাইকত অর্দ্বতী । তাই সব্িত্রই তাহাি খার্তি। মামাও তাহাকক পাইকল িার়্েকত চান না। কথাটা তঁ াি দব্ঠকক উঠিল। যমক ি \n",
      "✅ Found in chunk 19:\n",
      " লকলই হ , অথচ তলা সামানয র্কিু ব্ার্ক আকি। যদকি ব্ংিমেিাদা িার্খ া চলা সহি ন ব্জল া ইর্ন পশ্চিকম র্গ া ব্াস কর্িকতকিন। যসখাকন গর্িব্ গৃহকিি মকতাই থাককন। একটি যমক িা়ো তঁ াি আি নাই। সুতিাং তাহািাই পিাকত লক্ষ্মীি ঘটটি এককব্াকি উপু়ে কর্ি া র্দকত র্দ্বধা হইকব্ না। এসব্ ভাকলা কথা। র্কন্তু, যমক ি ব্ স যে\n",
      "✅ Found in chunk 20:\n",
      " ি, তাহাি পকি ধুনুকভাো পণ, কাকিই ব্াপ যকব্লই সব্ুি কর্িকতকিন র্কন্তু যমক ি ব্ স সব্ুি কর্িকতকি না। োই যহাক, হর্িকিি সিস িচনাি গুণ আকি। মামাি মন নিম হইল। র্ব্ব্াকহি ভূ র্মকাঅংিটা র্নর্ব্িকে সমাধা হই া যগল। কজলকাতাি ব্ার্হকি ব্ার্ক যে পৃর্থব্ীটা আকি সমস্তটাককই মামা আন্ডামান দ্বীকপি অন্তগিত ব্জল া িাক\n",
      "✅ Found in chunk 23:\n",
      " কক যদর্খ া র্তর্ন খুর্ি হই ার্িকলন। যব্াঝা িক্ত, যকননা র্তর্ন ব়্েই চুপচাপ। যে দুটিএকটি কথা ব্কলন যেন তাহাকত পুিা যিাি র্দ া ব্কলন না। মামাি মুখ তখন অনগিল িুটিকতর্িল ধকন মাকন আমাকদি িান যে িহকিি কািও যচক কম ন , যসইকটককই র্তর্ন নানা প্রসকঙ্গ প্রচাি কর্িকতর্িকলন। িম্ভুনাতব্াব্ু এ কথা এককব্াকি যোগই র্\n",
      "✅ Found in chunk 24:\n",
      " ্ যদর্খ া ভার্ব্কলন, যলাকটা র্নতান্ত র্নিীব্, এককব্াকি যকাকনা যতি নাই। যব্হাইসম্পদাক ি আি োই থাক, যতি থাকাটা যদাকষি, অতএব্ মামা মকন মকন খুর্ি হইকলন। িম্ভুনাথব্াব্ু েখন উঠিকলন তখন মামা সংকক্ষকপ উপি হইকতই তঁ াকক র্ব্দা কর্িকলন, গার়্েকত তু জল া র্দকত যগকলন না। পণ সম্বকন্ধ দুই পকক্ষ পাকাপার্ক কথা ঠিক \n",
      "✅ Found in chunk 25:\n",
      " পকি গহনা কত ভর্িি এব্ং যসানা কত দকিি হইকব্ যসও এককব্াকি ব্ঁাধাব্ঁার্ধ হই া র্গ ার্িল। আর্ম র্নকি এসমস্ত কথাি মকধয র্িলাম না িার্নতাম না যদনাপাওনা র্ক জিি হইল। মকন িার্নতাম, এই িূ ল অংিটাও র্ব্ব্াকহি একটা প্রধান অংি, এব্ং যস অংকিি ভাি োি উপকি র্তর্ন এক ক়োও ঠর্ককব্ন না। ব্স্তুত, আিেি পাকা যলাক ব্জল\n",
      "✅ Found in chunk 26:\n",
      " থা, এই িনয আমাকদি অভাব্ না থার্ককলও এব্ং অনয পকক্ষি অভাব্ কঠিন হইকলও জির্তব্, আমাকদি সংসাকিি এই যিদইহাকত যে ব্ঁাচুক আি যে মরুক। গাক হলুদ অসম্ভব্ িকম ধুম কর্ি া যগল। ব্াহক এত যগল যে তাহাি আদমশুমার্ি কর্িকত হইকল যকিার্ন িার্খকত হ । তাহার্দগকক র্ব্দা কর্িকত অপি পক্ষকক যে নাকাল হইকত হইকব্, যসই কথা স্মিণ\n",
      "✅ Found in chunk 27:\n",
      "  যকালাহকলি মি হস্তী দ্বািা সংগীত সিস্বতীি পদ্মব্ন দজলত র্ব্দজলত কর্ি া আর্ম যতা র্ব্ব্াহব্ার়্েকত র্গ া উঠিলাম।আংটিকত হাকিকত ির্িিহিকত আমাি িিীি যেন গহনাি র্নলাকম চজল াকি ব্জল া যব্াধ হইল। তঁ াহাকদি ভার্ব্ িামাইক ি মূলয কত যসটা যেন কতক পর্িমাকণ সব্িাকঙ্গ স্পষ্ট্ কর্ি া জলর্খ া ভাব্ী স্বশুকিি সকঙ্গ য\n",
      "✅ Found in chunk 28:\n",
      " আক ািন র্নতান্ত মধযম িককমি। ইহাি পকি িম্বুনাথব্াব্ুি ব্যব্হািটাও যনহাত ঠান্ডা। তঁ াি র্ব্ন টা অির ন । মুকখ যতা কথাই নাই যকামকি চাদি ব্ঁাধা, গলা ভাো, টাকপ়ো, র্মিকাকলা এব্ং র্ব্পুল িিীি তঁ াি একটি উর্কলব্ন্ধু ের্দ র্ন ত হাত যিা়ে কর্িক মাথা যহলাই া, নম্রতাি শ্চস্মতহাকসয ও গদগদ ব্চকন কন্সটি পাটিি কি\n",
      "✅ Found in chunk 29:\n",
      " ি র্কিুক্ষণ পকিই মামা িম্ভুনাথব্াব্ুকক পাকিি ঘকি ডার্ক া লই া যগকলন। কী কথা হইল িার্ন না, র্কিুক্ষণ পকিই িম্ভুনাথব্াব্ু আমাকক আর্সই া ব্জলকলন, ব্াব্াজি, একব্াি এই র্দকক আসকত হকে। ব্যাপািখানা এই। সককল না হউক, র্কন্তু যকাকনা মানুকষি িীব্কনি একটা র্কিু লক্ষ থাকক। মামাি একমাত্র লক্ষ র্িল, র্তর্ন যকাকনাম\n",
      "✅ Found in chunk 30:\n",
      " ভা়ো সওগাদ যলাকর্ব্দা প্রভৃ র্ত সম্বকন্ধ যেিকম টানাটার্নি পর্িচ পাও া যগকি তাহাকত মামা ঠিক কর্ি ার্িকলন যদও াযথাও া সম্বকন্ধ এ যলাকটিি শুধু মুকখি কথাি উপি ভি কিা চজলকব্ না। যসইিনয ব্ার়্েি যসকিাকক সুি সকঙ্গআর্ন ার্িকলন। পাকিি ঘকি র্গ া যদর্খলাম, মামা এক তক্তকপাকি এব্ং যসকিা তাহাি দঁ ার়্েপাল্লা কষ্\n",
      "✅ Found in chunk 31:\n",
      " াই কর্ি া যদর্খকব্ন, ইহাকত তু র্ম র্ক ব্ল। আর্ম মাথা যহঁ ট কর্ি া চুপ কর্ি া ির্হলাম। মামা ব্জলকলন, ও আব্াি কী ব্জলকব্। আর্ম ো ব্জলব্ তাই হইকব্। িম্ভুনাথব্াব্ু আমাি র্দকক চার্হ া কর্হকলন, যসই কথা তকব্ ঠিক? উর্ন ো ব্জলকলন তাই হইকব্? এ সম্বকন্ধ যতামাি র্কিুই ব্জলব্াি নাই? আর্ম একটু ঘা়েনা়োি ইজঙ্গক\n",
      "✅ Found in chunk 32:\n",
      "  অনুপম এখাকন র্ক কর্িকব্। ও সভা র্গক ব্সুক। িম্ভুনাথব্াব্ু ব্জলকলন, না, সভা ন , এখাকনই ব্র্সকত হইকব্। র্কিুক্ষণ পকি র্তর্ন একখানা গামিা ব্ঁাধা গহনা আর্ন া তক্তকপাকিি উপি যমজল া ধর্িকলন। সমস্তই তঁ াহাি র্পতামহীকদি আমকলি গহনা হাল ফযািকনি সূক্ষ্ম কাি ন যেমন যমাটা যতমর্ন ভািী। যসকিা গহনা হাকত তু জল া লই\n",
      "✅ Found in chunk 33:\n",
      " র্ক া ো । মামা তখনই যনাটব্ইক গহনাগুজলি ফদি টুর্ক া লইকলন, পাকি োহা যদখাকনা হইল তাহাি যকাকনাটা কম পক়ে। র্হসাব্ কর্ি াকদর্খকলন, গহনা যে পর্িমাণ র্দব্াি কথা এগুজল সংখযা , দকি এব্ং ভাকি অকনক যব্র্ি। গহনাগুজলি মকধয এককিা়ো এ ার্িং র্িল। িম্ভুনাথ যসইকট যসকিাি হাকত র্দ া ব্জলকলন, এইকট একব্াি পিখ কর্ি া\n",
      "✅ Found in chunk 34:\n",
      " মামা যসটা হাকত লই া যদর্খকলন, এই এ ার্িং র্দ াই কনযাকক তঁ াহািা আিীব্িাদ কর্ি ার্িকলন। মামাি মুখ লাল হই া উঠিল। দর্িদ্র তঁ াহাকক ঠকাইকত চার্হকব্ র্কন্তু র্তর্ন ঠর্ককব্ন না এই আনন্দসকম্ভাগ হইকত ব্র্ঞ্চত হইকলন এব্ং তাহাি উপকিও র্কিু উপর্িপাওনা িুটিল। অতযন্ত মুখ ভাি কর্ি া ব্জলকলন, অনুপম, োও, তু র্ম স\n",
      "✅ Found in chunk 35:\n",
      " ্ু ব্জলকলন, যসিনয র্কিু ভার্ব্কব্ন না এখন উঠুন। যলাকটি যনহাত ভাকলামানুষধিকনি, র্কন্তু র্ভতকি যব্ি একটু যিাি আকি ব্জল া যব্াধ হইল। মামাকক উঠিকত হইল। ব্িোত্রীকদিও আহাি হই া যগল। আক ািকনি আ়েম্বি র্িল না। র্কন্তু িান্না ভাকলা এব্ং সমস্ত যব্ি পর্িষ্কাি পর্িেন্ন ব্জল া সককলিই তৃ র্ি হইল। ব্িোত্রীকদি খা\n",
      "✅ Found in chunk 36:\n",
      " ক র্তর্ন সম্পূণি উকপক্ষা কর্ি া আমাি র্দকক চার্হ া ব্জলকলন, তু র্ম র্ক ব্ল। ব্র্স া োইকত যদাষ র্কিু আকি? মূর্তি মর্ত মাতৃ আজ্ঞাাস্বরূকপ মামাউপজিত, তঁ াি র্ব্রুকি চলা আমাি পকক্ষ অসম্ভব্। আর্ম আহাকি ব্র্সকত পার্িলাম না। তখন িম্ভুনাথব্াব্ু ব্জলকলন, আপনার্দগকক অকনক কষ্ট্ র্দ ার্ি। আমিা ধনী নই, আপনাকদি \n",
      "✅ Found in chunk 37:\n",
      " রস্তুত আর্ি। িম্ভুনাথ ব্জলকলন, তকব্ আপনাকদি গার়্ে ব্জল া র্দই? মামা আিেি হই া ব্জলকলন, ঠাট্টা কর্িকতকিন নার্ক। িম্ভুনাথ কর্হকলন, ঠাট্টা যতা আপর্নই কর্ি া সার্ি াকিন। ঠাট্টাি সম্পকি টাকক িা ী কর্িব্াি ইো আমাি নাই। মামা দুই যচাখ এত ব্ক়ো কর্ি া যমজল া অব্াক হই া িইকলন। িম্ভুনাথ কর্হকলন, আমাি কনযাি \n",
      "✅ Found in chunk 40:\n",
      " কক সমস্ত অন্নসুি যসখাকন টান মার্ি া যফজল া র্দ া আর্সকত পার্িকল তকব্ আফকসাস র্মটিত। র্ব্ব্াকহি চুজক্তভঙ্গ ও মানহার্নি দার্ব্কত নাজলি কর্িব্ ব্জল া মামা অতযন্ত যগাল কর্ি া যব়্োইকত লার্গকলন। র্হবতষীিা ব্ুঝাই া র্দল, তাহা হইকল তামািাি যেটুকু ব্ার্ক আকি তাহা পুিা হইকব্। ব্লা ব্াহুলয, আর্মও খুব্ িার্গ \n",
      "✅ Found in chunk 44:\n",
      " কখ না? েখন ঝু ঁর্ক া পর়্ে া যদকখ তখন ির্ব্টিি উপকি র্ক তাি মুকখি দুই ধাি র্দ া একলাচুল আর্স া পক়ে না? হঠাৎ ব্ার্হকি কািও পাক ি িব্দ পাইকল যস র্ক তা়োতার়্ে তাি সুগন্ধ আঁচকলি মকধয ির্ব্টিকক লুকাই া যফকল না? র্দন ো । একটা ব্ৎসি যগল। মামা যতা লজ্জা র্ব্ব্াহসম্বকন্ধি কথা তু জলকতই পাকিন না। মাি ইো র\n",
      "✅ Found in chunk 48:\n",
      " িল একটিমাত্র মানুষ। তাি পকি? তাি পকি আমাি কথাটি ফু িাকলা। র্কন্তু, কথা এমন কর্ি া ফু িাইল না। যেখাকন আর্স া তাহা অফু িান হই াকি যসখানকাি র্ব্ব্িণ একটুখার্ন ব্জল া আমাি এ যলখা যিষ কর্ি া র্দই। োলক ইয়া তীলর্ব িল য়ারে াে। আমাি উপকিই ভাি র্িল। কািণ, মামা এব্াকিও হাব়্োি পুল পাি হন নাই। যিলগার়্েকত ঘুম\n",
      "✅ Found in chunk 68:\n",
      " এখানকাি ডাক্তাি, তঁ াহাি নাম িম্ভুনাথ যসন। তাি পকিই সব্াই নার্ম া যগল। মামাি র্নকষধ অমানয কর্ি া, মাতৃ আজ্ঞাা যঠজল া, তাি পকি আর্ম কানপুকি আর্স ার্ি। কলযাণীি ব্াপ এব্ং কলযাণীি সকঙ্গ যদখা হই াকি। হাত যিা়ে কর্ি ার্ি, মাথা যহঁ ট কর্ি ার্ি িম্ভুনাথব্াব্ুি হৃদ গজল াকি। কলযাণী ব্কল, আর্ম র্ব্ব্াহ কর্িব্ \n",
      "✅ Found in chunk 79:\n",
      "  ভর্ব্ষযকতি নতু ন নািীি আগমনীি ইজঙ্গকত পর্িসমাি। অপর্ির্চতা মনস্তাকপ যভকেপ়ো এক ব্যজক্তত্বহীন েুব্ককি স্বীকাকিাজক্তি গে, তাি পাপস্খালকনি অকপট কথামালা। অনুপকমি আত্মর্ব্ব্ৃর্তি সূত্র ধকিই গকেি নািী কলযাণী অসামানয হক উকঠকি। গেটিকত পুরুষতকন্ত্রি অমানর্ব্কতাি স্ফু িণ যেমনঘকটকি, যতমর্ন একই সকঙ্গ পুরুকষি \n",
      "✅ Found in chunk 80:\n",
      " ি ঘ ব্যব্সা উিি খ ২। মামাকক ভাগয যদব্তাি প্রধান একিন্ট ব্লাি কািণ, তাি ক প্রর্তপজি খ প্রভাব্ গ র্ব্চক্ষণতা ঘ কূ ট ব্ুর্ি উিি খ ৩। দীপুি চাচাি সকঙ্গ অপর্ির্চতা গকেি যকান চর্িকত্রি র্মল আকি? ক হর্িকিি খ মামাি গ র্িক্ষককি ঘ র্ব্নুি উিি খ িযাখ্যা অনুপকমি র্পতাি মৃতু যি পি তাি মামাই তাকদি পর্িব্াকিি দার্\n",
      "✅ Found in chunk 81:\n",
      " হীন দীপুি চাচাই র্িকলন পর্িব্াকিি কতি া। দীপু র্িজক্ষত হকলও তাি র্সিান্ত যনও াি ক্ষমতা র্িল না। চাচা তাি র্ব্ক ি উকদযাগ র্নকলও যেৌতু ক র্নক ব্া়োব্ার়্ে কিাি কািকণ কনযাি র্পতা অপমার্নত যব্াধ ককি র্ব্ক ি আকলাচনা যভকে যদন। দীপু যমক টিি ির্ব্ যদকখ মুগ্ধ হকলও তাি চাচাকক র্কিুই ব্লকত পাকিনর্ন। ৩। দীপুি \n",
      "✅ Found in chunk 85:\n",
      " া র্ব্ক কত অসম্মর্ত িানা । র্কন্তু অনুপকমি যক্ষকত্র এি র্ব্পিীত ঘটনা ঘকটকি। তাি মামাি যেৌতু ক গ্রহকণি প্রব্ণতা, যলাভ এব্ং হীন মানর্সকতাি পর্িচ যপক িম্ভুনাথ যসন যমক ি আিীব্িাকদি এ ার্িং জফর্িক যদন এব্ং র্ব্ক যভকে যদন। একত অনুপকমি মকন হক কি িম্ভুনাথ ব্াব্ু যেন ব্ি অনুপমককই র্ব্ক ি আসি যথকক জফর্িক র্দক\n",
      "✅ Found in chunk 87:\n",
      " ন । যসএকিনকক িীব্নসঙ্গী কিকত একসকি, অপমান কিকত ন । অপর্ির্চতা গকেি অনুপমও র্িজক্ষত, মাজিিত। র্কন্তু স্পষ্ট্ কথা ব্লাি মকতা সাহস তাি যনই। র্নকিি র্সিান্ত যস র্নকি র্নকত পাকি না। যসকিা র্দক গহনা োচাই যে ককনপকক্ষি অপমান তা অনুপম ব্ুঝকত পাকি না। একত তাি ব্যজক্তত্বহীনতাি চিম প্রকাি লক্ষ কিা ো । এসব্ র্\n",
      "✅ Found in chunk 89:\n",
      " পকণি সামানয টাকা ব্ার্ক থাকা হারুন র্ম া র্ব্ক যভকে র্দকত চান। উদ্দীপককি হারুন র্ম াি মকতা গকেি অনুপকমি মামাও যেৌতু ককলাভী। তাকদি দুিকনি মানর্সকতাি কািকণ কলযাণী ও লাব্র্ন অপমাকনি র্িকাি হ । অপর্ির্চতা গকে অনুপকমি মামা র্ব্ক কত নগদ টাকা ও গহনা পণ র্হকসকব্ দার্ব্ ককিন। র্পতা িম্ভুনাথ যসন একত সম্মত হন।\n",
      "✅ Found in chunk 90:\n",
      " ি মামাি এ ধিকনি আচিণ ও কথাব্াতি া তাি হীনতা, যলাভ ও অমানর্ব্কতা প্রকাি পা । উদ্দীপককি হারুন র্ম াও যেৌতুককি সম্পূণি টাকা িা়ো যিকলকক র্ব্ক কিাকব্ন না ব্কল িার্নক যদন। এিা দুিকনই যলাকভি কািকণ দুিন নািীকক অপমান ককি। এসব্ র্দক র্ব্চাকি তাই ব্লা ো , প্রকোক্ত মন্তব্যটি েথাথি। র্ব্গত ব্িকিি প্রে দিার্ব\n",
      "✅ Found in chunk 92:\n",
      " ত সুরূর্চ গ যসৌন্দেি ঘ উদাসীনতা উিি খ ৪। অপর্ির্চতা গকে গে ব্লা পটু যক? িা দিা ২২ ক অনুপম খ মামা গ র্ব্নুদা ঘ হর্িি উিি ঘ ৫। অপর্ির্চতা গকে র্ব্ক ি অনুিাকন কনযাি গহনা মাপাি মধয র্দক মামাি যকান মকনাভাব্ প্রকাি যপক কি? য দিা ২২ ক কপটতা খ অর্ব্শ্বাস গ অপমান ঘ হীনম্মনযতা উিি ঘ ৬। অপর্ির্চতা গকে যিলকমিচা\n",
      "✅ Found in chunk 93:\n",
      "  কেনা ককি? কু দিা ২২ ক হলুদ খ যব্গুর্ন গ নীল ঘ লাল উিি ঘ ৮। অপর্ির্চতা গকে কলযাণীি র্ব্ক না কিাি র্সিাকন্তি কািণ কী র্িল? িদিা ২২ ক যলাকলজ্জা খ র্পতৃ আকদি গ আত্মমেিাদা ঘ অপব্াদ উিি গ ৯। ঠাট্টাি সম্পকি টাকক িা ী কর্িব্াি ইো আমাি নাই এই উজক্তটিকত কী প্রকাি যপক কি? ি দিা ২২ ক দুব্িলতা খ ব্দানযতা গ ব্জ\n",
      "✅ Found in chunk 94:\n",
      " কিকতন? রে দিা ২২ ক মামা খ র্ব্নুদাদা গ পজণ্ডতমিাই ঘ হর্িি উিি গ ১২। অনুপকমি মামাি সাকথ ককি যসকিা র্নক োও াি কািণ রে দিা ২২ ক মাক ি অনুকিাধ খ যলাকব্ল ব্ৃর্ি গ ব্ন্ধু কত্বি খার্তি ঘ র্ব্শ্বাকসি অভাব্ উিি ঘ ১৩। তকব্ চলুন আপনাকদি গার়্ে ব্জল া র্দই উজক্তটিকত প্রকাি যপক কি িম্ভুনাথ ব্াব্ুি ে দিা ২২ ক ভদ\n",
      "✅ Found in chunk 95:\n",
      " তর্ন যকাকনামকতই কাকিা কাকি ঠর্ককব্ন না। র্তর্ন ব্লকত অপর্ির্চতা গকে কাকক যব্াঝাকনা হক কি? ঢা দিা ১৯ ক মামা খ িম্ভুনাথ গ হর্িি ঘ অনুপম উিি ক ১৬। আসি িমাকত অর্দ্বতী যক? িা দিা ১৯ ি দিা ১৭ ক অনুপম খ কলযাণী গ র্ব্নুদাদা ঘ হর্িি উিি ঘ ১৭। শ্বশুকিি সামকন অনুপকমি মাথা যহঁ ট ককি িাখাি কািণ কী? কু , দিা ১৯ ক\n",
      "✅ Found in chunk 96:\n",
      " ক ১৮৩৮ খ ১৮৪১ গ ১৮৬১ ঘ ১৮৯৯ উিি গ ১৯। িব্ীন্দ্রনাথ ঠাকু ি কত র্িষ্ট্াকব্দ মৃতু যব্িণ ককিন? রস দিা ১৯ ক ১৮৯১ খ ১৮৯৪ গ ১৯৪১ ঘ ১৯৪৬ উিি গ ২০। কজলকাতাি ব্ার্হকি ব্ার্ক যে পৃর্থব্ীটা আকি সমস্তটাককই মামা আন্ডামান দ্বীকপি অন্তগিত ব্জল া িাকনন। অপর্ির্চতা গকেি এ উজক্তকত মামাি চর্িকত্রি যে দব্র্িষ্ট্য ফু কট \n",
      "✅ Found in chunk 98:\n",
      " ব্ এ কথা োিা মকন ককি তাকদি হাকত আর্ম কনযা র্দকত পার্ি না। উজক্তটিকত প্রকাি যপক কি িম্ভুনাথ ব্াব্ুি ঢাদিা ১৬ ক যক্ষাভ খ অর্ভমান গ একগুঁ ক র্ম ঘ আত্মমেিাদাকব্াধ উিি ঘ িযাখ্যা উজক্তটিি মাধযকম িম্ভুনাথ যসন অনুপকমি মামাি হীনতা ও নীচ মানর্সকতাি প্রর্ত কটাক্ষ ককিকিন। ২৪। ির়্েমা িকব্দি অথি কী? িাদিা ১৬ ক \n",
      "✅ Found in chunk 99:\n",
      " ষাৎ খ কলযাণী কতৃ ি ক র্ব্ব্াহ প্রস্তাব্ প্রতযাখযান গ িম্ভুনাথ কতৃ ি ক কনযাসম্প্রদাকন অসম্মর্ত ঘ অনুপকমি মহাসমাকিাকহ র্ব্ব্াহ োত্রা উিি গ িযাখ্যা সব্ আক ািন যিকষ িম্ভুনাথ যসন অনুপকমি মামাি হীন মানর্সকতা যদকখ েখন কনযা দান কিকত অসম্মত হন তখন গকেি কার্হর্ন অনযর্দকক যমা়ে যন । ঐ মুহূতি হকলা গকেি িীষি মু\n",
      "✅ Found in chunk 100:\n",
      " া কনযাি গা যথকক গহনা খুকল একন যসকিাকক র্দক পিীক্ষা কিাকল এব্ং ফদি টুকক িাখকল তা িম্ভুনাথ যসকনি আত্মমেিাদা আঘাত লাকগ। ২৭। অপর্ির্চতা গকে কলযাণীকক আিীব্িাদ কিকত ো রসদিা ১৬ ক হর্িি খ মামা গ র্ব্নু ঘ মযা উিি গ ২৮। অপর্ির্চতা গকে যমক ি র্ব্ক হইকব্ না এ ভ োি মকন নাই তাি িাজস্তি উপা কী উজক্তকত প্রকাি যপক\n",
      "✅ Found in chunk 102:\n",
      " ি গ চুল কঁ াচা, যগঁাফ পাকা, সুপুরুষ চুপচাপ, চুল কঁ াচা, ভাষা আঁট সুপুরুষ, চুপচাপ, চুল পাকা র্নকচি যকানটি সঠিক? ক , খ , গ , ঘ , , উিি ক উদ্দীপকটি পক়ে ৩২ ও ৩৩ নং প্রকেি উিি দাও িার্কল সাকহব্ র্িজক্ষত মানুষ। তাি আত্মসম্মানকব্াধ প্রখি। যমক র্ির্িকনি র্ব্ক কত র্নকিি অর্নো সকেও সাধযানুসাকি ব্িপকক্ষি যেৌ\n",
      "✅ Found in chunk 103:\n",
      " র্ির্চতা গকেি কাি সাকথ তু লনী ? ক অনুপকমি মামা খ অনুপকমি মা গ িম্ভুনাথ ব্াব্ু ঘ হর্িি উিি গ ৩৩। র্ির্িকনি সাকথ কলযাণীি র্মল যকাথা ? উভ ই র্িজক্ষত , উভ ই র্িজক্ষত ব্াব্াি আজ্ঞাাব্াহী র্নকচি যকানটি সঠিক? ক , খ , গ , ঘ , , উিি ক র্নকচি উদ্দীপকটি পক়ে ৩৪ ও ৩৫ নম্বি প্রকেি উিি দাও স্বাতী সুর্িজক্ষত ও আত্\n",
      "✅ Found in chunk 104:\n",
      " র্ ত্বিীল ন । য দিা ১৯ ৩৪। অপর্ির্চতা গকেি সকঙ্গ উদ্দীপককি স্বাতীি দব্সাদৃিয যকাথা ? ক নািীি প্রর্ত দব্ষকময গ আপসকার্মতা খ আপসহীনতা ঘ স্বাথির্সর্িকত উিি গ ৩৫। উদ্দীপককি শ্বশুিিাশুর়্েি মানর্সকতাি সাকথ অপর্ির্চতা গকেি যকান উজক্তটিি র্মল িক কি? ক আমাকদি ঘকি যে যমক আর্সকব্ যস মাথা যহঁ ট কর্ি াই আর্সকব্\n",
      "✅ Found in chunk 105:\n",
      " াট্টাি সম্পকি কক িা ী কর্িব্াি ইো আমাি নাই উিি ক র্নকচি উদ্দীপকটি পক়ে ৩৬ ও ৩৭ নম্বি প্রকেি উিি দাও িাওকনি র্ব্ক চূ়োন্ত হ অনযাি সাকথ। যেৌতু ককি দার্ব্ পূিণ না হও া যমাতাকলব্ সাকহব্ যিকলি র্ব্ক যভকে র্দকত চান। ব্াব্াি অনযা আব্দাি িাওন মানকত নািাি। যস েুজক্ত র্দক ব্াব্াকক ব্ুজঝক যেৌতু ক না র্নক ই অ\n",
      "✅ Found in chunk 107:\n",
      " ম খ হর্িি গ র্ব্নু ঘ িম্ভুনাথ উিি খ ৩৯। যকান কািকণ উদ্দীপককি আর্দব্ ও অপিাজিতা গকেি অনুপম সাদৃিযপূণি? অহর্মকা র্নস্পৃহতা যমরুদণ্ডহীনতা র্নকচি যকানটি সঠিক? ক , খ , গ , ঘ , , উিি গ র্নকচি উদ্দীপকটি পক়ে ৪৪ ও ৪৫ নম্বি প্রকেি উিি দাও ব্াব্াি যমাটা টাকাি যেৌতুককি দার্ব্ি কািকণ সব্ুকিি র্ব্ক যভকঙ্গ যেকত ব\n",
      "✅ Found in chunk 108:\n",
      " যকান চর্িত্রকক স্মিণ কিা ? ক মা খ মামা গ িম্ভুনাথ ঘ উর্কল উিি খ িযাখ্যা সব্ুকিি ব্াব্াি সাকথ অপর্ির্চতা গকেি অনুপকমি মামাি সাদৃকিযি কািণ তাকদি যলাভী মানর্সকতা। ৪১। উদ্দীপককি সব্ুকিি যকান দব্র্িষ্ট্য অপর্ির্চতা গকেি অনুপকমি চর্িকত্র থাককল র্ব্ক ভােত না? ক দৃঢ়তা খ ব্জলিতা গ সাহর্সকতা ঘ ব্যজক্তত্বকব্াধ\n",
      "✅ Found in chunk 112:\n",
      " ও িামসুন্দি ব্াব্ু ব্কনর্দ ঘি যপক যমক র্ব্ক র্দকত উদযত হ । একক্ষকত্র যস ব্িপক্ষ যথকক দার্ব্কৃ ত যদনাপাওনা চুর্কক র্দক মহা সা়েম্বকি যমক ি র্ব্ক সম্পন্ন ককি। রে দিা ১৭ ৪৬। উদ্দীপককি িামসুন্দি ব্াব্ুি সাকথ অপর্ির্চতা গকেি যকান চর্িকত্রি দব্সাদৃিয িক কি? ক হর্িি খ িম্ভুনাথ গ র্ব্নু ঘ মামা উিি ঘ িযাখ্যা\n",
      "✅ Found in chunk 123:\n",
      "  ঠাট্টাি সম্পকি টাকক িা ী কর্িব্াি ইো আমাি নাই উজক্তটি কাি? িারি ইউরনট ২০১৭১৮ ক মামাি খ িম্ভুনাকথি গ অনুপকমি ঘ কলযাণীি উিি খ প্রযাকটিস িহুরনিবািনী ১। িব্ীন্দ্রনাথ ঠাকু কিি িীব্নাব্সান ঘকট যকাথা ? ক যিা়োসঁাককাি ঠাকু ি ব্ার়্েকত খ যব্ালপুকিি িাজন্তর্নককতকন গ কু ষ্টি াি র্িলাইদকহ ঘ কজলকাতাি হাসপাতাক\n",
      "✅ Found in chunk 125:\n",
      " লা হক কি? ক িীব্কনি খ মিকণি গ ককমিি ঘ ধকমিি ৮। যিকলকব্লা পজণ্ডতমিাই অনুপমকক কীকসি সাকথ তু লনা কিকতন? ক র্ভকি যব়্োল খ মাকাল ফল গ যগালাপ ফু ল ঘ পূর্ণিমাি চঁ াদ ৯। অনুপকমি আসল অর্ভভাব্ক যক? ক ব্াব্া খ মামা গ মা ঘ র্িক্ষক ১০। অপর্ির্চতা গকে মামাি সাকথ অনুপকমি ব্ কসি পাথিকয কত? ক ব্িি চাকিক খ ব্িি িক ক\n",
      "✅ Found in chunk 126:\n",
      " ২। অনুপম যকানটি খা না ব্কল গব্ি প্রকাি ককিকি? ক তামাক খ মদ গ চুরুট ঘ কজফ ১৩। র্ব্ক ব্ার়্েকত ুকক মামাি খুর্ি না হও াি কািণ র্িল না যকানটি? ক িান ও আক ািন যদকখ খ আপযা কনি ্রুটটিি কািকণ গ গহনাি পর্িমাণ যদকখ ঘ যব্ াইক ি আচিআচিকণ ১৪। মামা যকমন ঘকিি যমক পিন্দ কিকতন? ক ধনী খ গর্িব্ গ গ্রামীণ ঘ িহুকি ১৫। অ\n",
      "✅ Found in chunk 127:\n",
      " নুপকমি র্িক্ষাগত যোগযতা র্ক? ক র্ব্এ পাি খ এমএ পাি গ র্ব্এসর্স পাি ঘ এমএসর্স পাি ১৮। যমক ের্দ ব্কলা, তকব্ উজক্তটি কাি? ক অনুপকমি খ হর্িকিি গ িম্ভুনাকথি ঘ মামাি ১৯। অপর্ির্চতা গকে ির্সক মকনি মানুষ যক? ক অনুপম খ ঘটক গ হর্িি ঘ মামা ২০। একব্াি মামাি কাকি কথাটা পার়্ে া যদখ উজক্তটি কাি? ক র্ব্নুদাদাি খ \n",
      "✅ Found in chunk 128:\n",
      " ্তটিকত কাকদি কথা ব্লা হক কি? ক কলযাণীকদি খ মামাকদি গ অনুপমকদি ঘ হর্িিকদি ২৩। আসি িমাকত অর্দ্বতী যক? ক অনুপম খ কলযাণী গ মামা ঘ হর্িি ২৪। অপর্ির্চতা গকে যকান দ্বীকপি উকল্লখ আকি? ক আন্দামান দ্বীপ খ হাইকু দ্বীপ গ কযার্িব্ী দ্বীপ ঘ ব্াজল দ্বীপ ২৫। যক কনযাকক আিীব্িাদ কিকত যগল? ক হর্িি খ অনুপম গ মামা ঘ র্ব\n",
      "✅ Found in chunk 129:\n",
      " টি কাি? ক র্ব্নুদাি খ হর্িকিি গ মামাি ঘ ঘটককি ২৮। র্ব্নুদাদা চমৎকাি এি িকল কী ব্কল? ক চলনসই খ অসাধািণ গ র্ব্স্ম কি ঘ সাদামাটা ২৯। কলযাণীি র্পতাি নাম কী? ক হর্িিচন্দ্র দি গ িম্ভুনাথ যসন ৩০। িম্ভুনাথ ব্াব্ুি ব্ স কত? ক প্রা চজল্লি ব্িি গ প্রা ষাট ব্িি খ র্ব্কনাদর্ব্হািী যসন ঘ যগৌিীিংকি দি খ প্রা পঞ্চা\n",
      "✅ Found in chunk 130:\n",
      " ামাি খ িম্ভুনাকথি গ হর্িকিি ঘ মাক ি ৩৩। কষ্টিপাথি র্নক যক ব্কস র্িল? ক মামা খ সযাকিা গ র্ব্নুদাদা ঘ হর্িি ৩৪। এ ার্িং যকাথা যথকক আনা হক কি? ক র্ব্কলত খ কানপুি গ কজলকাতা ঘ আন্দামান ৩৫। ঠাট্টাি সম্পকি টাকক িা ী কর্িব্াি ইো আমাি নাই উজক্তটি ক র্ব্নুদাদাি খ অনুপকমি গ মামাি ঘ িম্ভুনাকথি ব্াব্ুি ৩৬। অনুপ\n",
      "✅ Found in chunk 133:\n",
      " গর্গি চকল আ , এই গার়্েকত িা গা আকি উজক্তটি কাি? ক অনুপকমি খ কলযাণীি গ র্ব্নুদাদাি ঘ অনুপকমি ৪৯। হর্িি কী উপলকক্ষ কলকাতা একসকি? ক তীথি উপলকক্ষ খ িুটি উপলকক্ষ গ পূিা উপলকক্ষ ঘ র্ব্ক উপলকক্ষ ৫০। কাকক অনুপকমি ভাগয যদব্তা ব্কল উকল্লখ কিা হক কি? ক হর্িিকক খ মামাকক গ র্ব্নুদাকক ঘ িম্ভুনাথকক ৫১। কাি টাকাি \n",
      "✅ Found in chunk 134:\n",
      " িকিি ৫৩। একব্াি মামাি কাকি কথাটা পার়্ে া যদখ কথাটি কীকসি? ক দাকনি খ চাকর্িি গ র্ব্ক ি ঘ ভ্রমকণি ৫৪। র্ব্ক ি সম কলযাণীি প্রকৃ ত ব্ স কত র্িল? ক ১৪ ব্িি খ ১৫ ব্িি গ ১৬ ব্িি ঘ ১৭ ব্িি ৫৫। মামাি ব্ার্হকিি োত্রাপকথি সীমানা কতদূি? ক আন্দামান পেিন্ত খ যকান্নগি পেিন্ত গ কানপুি পেিন্ত ঘ হাও়ো পেিন্ত ৫৬। র\n",
      "✅ Found in chunk 135:\n",
      " মামা খ হর্িি গ িম্ভুনাথ ঘ মা ৫৮। র্তর্ন র্কিুকতই ঠককব্ন না কাি প্রসকঙ্গ ব্লা হক কি? ক মামা খ মা গ র্ব্নুদাদা ঘ হর্িি ৫৯। অপর্ির্চতা গকে যকান সম অনুপম র্ব্নুদাদাি ব্ার়্েকত যেত? ক সন্ধা খ িাকত গ দুপুকি ঘ র্ব্কাকল ৬০। যমক টিকক অনুপকমি ফকটাগ্রাফ যদও াি কথা যক ব্কলকি? ক অনুপম খ র্ব্নুদাদা গ মামা ঘ হর্িি\n",
      "✅ Found in chunk 136:\n",
      "  নাক ব্ ৬৩। একখানা ব্ালা যব্ঁকক যগল যকন? ক খাদ যনই ব্কল গ যসানা কম ব্কল খ ইংকিি যিনাকিল ঘ িা ব্াহাদুি সাকহব্ খ খাদ যব্র্ি ব্কল ঘ পুকিাকনা গহনা ব্কল ৬৪। আমাি িীব্নটা না দদকঘিযি র্হসাকব্ ব়্ে, না গুকণি র্হসাকব্ ব্লকত কী যব্াঝাকনা হক কি? ক সংসাি অনর্ভজ্ঞা গ র্ব্ক ি অনুপেুক্ত খ কমব্ সী ঘ মামাি ওপি র্নভি\n",
      "✅ Found in chunk 137:\n",
      " অনুপকমি খ কলযাণীি গ হর্িকিি ঘ িম্ভুনাথ ব্াব্ুি ৬৭। সিস িসনাি গুণ আকি কাি? ক হর্িকিি খ র্ব্নুদাদাি গ কলযাণীি ঘ মামাি ৬৮। অতযন্ত আঁট ভাষাি ব্ক্তা যক? ক হর্িি খ র্ব্নুদাদা গ মামা ঘ িম্ভুনা ৬৯। কাি সকঙ্গ পঞ্চিকিি র্ব্কিাধ যনই ব্কল অনুপকমি মকন হকলা? ক গিানকনি খ কার্তি ককি গ প্রিাপর্তি ঘ অন্নপূণিাি ৭০। সু\n",
      "✅ Found in chunk 138:\n",
      " িন যনকম যগল? ক যকান্নগি খ কজলকাতা গ কানপুি ঘ হাও়ো ৭৩। যিাটকব্লা পজণ্ডত মিা র্ব্দ্রূপ কিত যকন? ক কু ৎর্সত এব্ং র্নগুি ণ হও াি কািকণ খ কু ৎর্সত হক গুণব্ান হও াি কািকণ গ সুদিিন এব্ং গুণব্ান হও াি কািকণ ঘ সুদিিন হক ও র্নগুি ণ হও াি কািকণ ৭৪। অনুপমকক র্ব্ব্াহ আসি যথকক জফর্িক যদব্াি কািণ কী? ক অনুপকমি ব\n",
      "✅ Found in chunk 139:\n",
      " ি দ্বািা কী যব্াঝাকনা হক কি? ক তরুণ ব্ সী খ অপর্িণত ব্ সী গ অর্ত র্নভি িিীল ঘ র্চন্তা অপর্িণত ৭৬। তামাকটুকু পেিন্ত খাই না উজক্তটি দ্বািা কী যব্াঝাকনা হক কি? ক তামাক ক্ষর্তকি খ তামাক অপিন্দ গ অর্ত ভাকলা মানুষ ঘ খাও া অরুর্চ ৭৭। ককনি ব্ স র্নক মন ভার্ি হও া সকেও যিষ পেিন্ত মামাি মন নিম হকলা কীভাকব্? ক\n",
      "✅ Found in chunk 140:\n",
      "  গ যমক ি ব্ স যব্র্ি ব্কল ঘ পকণি অঙ্ক সামানয ব্কল ৭৯। খাটি যসানা ব্কট! ব্লকত র্ব্নুদাদা যকানটিকক ব্ুজঝক কি? ক ব্কনদী ঘি খ উপেুক্ত পাত্রী গ সুিীল পাত্র ঘ পকণি গহনা ৮০। অনুপকমি ব্াব্া কী ককি িীর্ব্কা র্নব্িাহ কিকতন? ক ডাক্তার্ি খ ওকালর্ত গ মাস্টার্ি ঘ ব্যব্সা ৮১। মামাকক ভাগয যদব্তাি প্রধান একিন্ট ব্লা\n",
      "✅ Found in chunk 141:\n",
      "  গ গেসিক ঘ গেস্বকে ৮৩। অপর্ির্চতা গকেি যলখক যক? ক িিৎচন্দ্র চকট্টাপাধযা গ মার্নক ব্কন্দযাপাধযা খ ঈশ্বিচন্দ্র র্ব্দযাসাগি ঘ িব্ীন্দ্রনাথ ঠাকু ি ৮৪। িব্ীন্দ্রনাথ ঠাকু ি কত ব্ঙ্গাকব্দ িন্মগ্রহণ ককিন? ক ১২৬১ খ ১২৬৮ গ ১২৭০ ঘ ১২৭২ ৮৫। অনুপম আহাকি ব্সকত পািল না যকন? ক যতমন ক্ষু ধা র্িল না ব্কল খ আহাি সুস্ব\n",
      "✅ Found in chunk 143:\n",
      " র্িব্ র্িকলন ওকালর্ত ককি র্তর্ন প্রচুি টাকা যিািগাি ককিন র্তর্ন উপাজিিত টাকা যভাগ কিাি র্নকমষমাত্র সম পানর্ন র্নকচি যকানটি সঠিক? ক , খ , গ , ঘ , , ৯১। অপর্ির্চতা গকে মা গর্িব্ ঘকিি যমক হও া র্তর্ন যে ধনী তা র্নকি যভাকলন না মামাকক ভু লকত যদন না অনুপমকক ভু লকত যদন না র্নকচি যকানটি সঠিক? ক , খ , গ , ঘ \n",
      "✅ Found in chunk 144:\n",
      "  অনুপকমি সংসাি আঁকক়ে আকিন র্নকচি যকানটি সঠিক? ক , খ , গ , ঘ , , ৯৩। মামাি পিকন্দি যব্ াই এমন োি যতি যনই টাকা র্দকত কসুি কিকব্ না োকক যিাষণ কিা চলকব্ র্নকচি যকানটি সঠিক? ক , খ , গ , ঘ , , ৯৪। হর্িকিি ব্ণিনা যমক ি ব্াব্াি পর্িচ সম্পককি িানা ো এককাকল তাকদি ব্ংকি লক্ষ্মীি মঙ্গলঘট উপু়ে কিা র্িল যদকি\n",
      "✅ Found in chunk 146:\n",
      " টাকা কার্মক কিন র্নকচি যকানটি সঠিক? ক , খ , গ , ঘ , , ৯৮। র্ব্ক ি ব্িোত্রা ব্াদযেন্ত্র র্হকসকব্ ব্ািাকনা হক র্িল ব্যাণ্ড ব্ঁার্ি িকখি কন্সটি র্নকচি যকানটি সঠিক? ক , খ , গ , ঘ , , ৯৯। র্ব্ক ব্ার়্েকত ুকক মামাি খুর্ি না হও াি কািণ ব্িোত্রীি তু লনা উঠানটা সংকীণি সমস্ত আক ািন র্নতান্ত মধযম িককমি ককনি \n",
      "✅ Found in chunk 151:\n",
      "  যকাকল থাকা র্িশুমাত্র । এিনযই ব্যক্ত ককি অনুপমকক গিানকনি যিাকটা ভাই কার্তি ককি সকঙ্গ তু লনা কিা হক কি। গ্ যেৌতু ককি প্রর্ত মকনাভাকব্ি র্দক যথকক উদ্দীপককি ব্কিি ব্াকপি সাকথ অপর্ির্চতা গকেি অনুপকমি মামাি সাদৃিয ও দব্সাদৃিয দুকটাই িক কি। অপর্ির্চতা গকে অনুপকমি মামা যেৌতু ককলাভী চর্িত্র। র্তর্ন অনুপকমি\n",
      "✅ Found in chunk 152:\n",
      " পকমি র্ব্ক ঠিক ককিন। র্ব্ক ি র্দকন যমক ি ব্ার়্ে যথকক যদ া যেৌতুককি গ না র্নক অনুপকমি মামা হীন মানর্সকতাি পর্িচ যদন। গ নাগুকলা আসল না নকল তা পিীক্ষা কিাি িনয র্তর্ন র্ব্ক ব্ার়্েকত যসকিাকক সকঙ্গ র্নক আকসন। উদ্দীপককি ব্কিি ব্াব্াি মাকঝও যেৌতু ককলাভী মানর্সকতাি পর্িচ পাও া ো । যকননা র্ব্ক ি িনয যমক ি\n",
      "✅ Found in chunk 153:\n",
      " র্চতা গকেি অনুপকমি মামাি সাকথ সাদৃিযপূণি। র্কন্তু অনুপকমি মামা যেমন গ না পিীক্ষা কিাি িনয যসকিাকক সাকথ র্নক র্ব্ক ব্ার়্েকত আকসন, যতমন র্ব্ষ উদ্দীপককি ব্কিি ব্াব্াি মাকঝ যদখা ো না। এিা়ো অনুপকমি মামা যমক ি ব্াব্াকক যেভাকব্ অপমান ককিকি, যস র্ব্ষ টিও উদ্দীপককি ব্কিি ব্াব্াি মাকঝ অনুপজিত। সুতিাং ব্লক\n",
      "✅ Found in chunk 156:\n",
      " র্িি কানপুকি কাি ককি। খ্ িম্ভুনাথ যসন আকলাচয উজক্তি মধয র্দক এককিা়ো এ ার্িং যসকিাি হাকত র্দক তা খঁাটি যসানাি র্ক না পিখ ককি যদখকত ব্কলকিন। অপর্ির্চতা গকেি অনুপকমি সকঙ্গ িম্ভুনাথ যসকনি কনযা কলযাণীি র্ব্ক ঠিক হ । র্কন্তু অনুপকমি মামাি চিম যেৌতু ককলাভী মানর্সকতাি প্রকাি ঘকট র্ব্ক ি আসকি। যেৌতুককি গহন\n",
      "✅ Found in chunk 157:\n",
      " পকমি মামাি যদও া র্ব্লার্ত জির্নস, োকত যসানাি ভাগ আকি সামানযই। গ্ উদ্দীপককি সর্ব্তা ও অপর্ির্চতা গকেি কলযাণী উভক ই যেৌতু ককি র্িকাি। মন্তব্যটি েথাথি। যেৌতু কপ্রথা একটি সামাজিক ব্যার্ধ। এটি আমাকদি সমাকি ভ াল রূপ ধািণ ককিকি। ব্িপকক্ষি দার্ব্ পূিণ কিকত কনযাি র্পতাকক কখকনা কখকনা সব্িস্বান্ত হকত হ । র্ব\n",
      "✅ Found in chunk 160:\n",
      " ভীকদি অনযাক ি সকঙ্গ আপস না ককি ব্হু নািী র্ব্ক না ককি মানব্কলযাকণ আত্মর্নক াগ ককি থাককন। এমনর্ক পিাধীন না যথকক আত্মর্নভি িিীল হক স্বাধীনভাকব্ িীব্নোপন ককিন। অপর্ির্চতা গকে কলযাণীি ব্াব্া িম্ভুনাথ যসন ব্িোত্রীকদি েথাথি আপযা ন যিকষ র্ব্ক যভকে যদন। কািণ র্ব্ক ি আসকি ব্কিি মামা ককনি িিীি যথকক খুকল একন\n",
      "✅ Found in chunk 161:\n",
      " তকক যমকন র্নক র্নকিি আত্মমেিাদা ও ব্যজক্তত্বকক িক্ষা ককিকি। গকেি কলযাণীি এ র্সিাকন্তি সকঙ্গ উদ্দীপককি সর্ব্তাি র্সিান্ত সাদৃিযপূণি। উদ্দীপকক সর্ব্তাি ব্াব্ামা ও সহকমীিা চাইকলও সর্ব্তা র্ব্ক না কিাি র্সিাকন্ত অটল যথকককি। এ র্ব্ষ টি কলযাণীি র্ব্ক না কিাি র্সিাকন্তি অনুরূপ। অপর্ির্চতা গকে অনুপকমি সকঙ্গ\n",
      "✅ Found in chunk 164:\n",
      "  দ খ্। ঘ উদ্দীপলক িরণবত োতৃলেলহি আরধলকয অনুপে িরিলেি রিকাশ িযাহত হলয়লে ঠিকই রকন্তু গ্লেি পরিণরতলত িৃত্তভাঙা রভন্ন এক িযলক্ত রহলসলি তালক পাওয়া যায়। েন্তিযটি দতাোি েতােতসহ যািাই কি। সোধান ক িসনকচৌর্ক িকব্দি অথি িানাই, য াল ও কঁ ার্স এই র্তনটি ব্াদযেকন্ত্রি সৃষ্ট্ ঐকতানব্াদন। খ্ র্ব্ক ব্ার়্েকত ব্িে\n",
      "✅ Found in chunk 165:\n",
      " অনুিাকন অনুপকমি মামা ব্িোত্রীসহ উপজিত হক যদখকত যপকলন র্ব্ক ব্ার়্েকত ব্িোত্রীকদি িা গা সংকু লান হকে না। কনযাি র্পতা র্হকসকব্ িম্ভুনাথ যসকনি ব্যব্হািটাও মামাি কাকি যনহাক ত ঠান্ডা অনুভূ ত হ । এমনর্ক তঁ াি র্ব্ন টাও েথােথ র্িল না। তঁ াি যপািাকপর্িেদ, ব্ার্হযক যসৌন্দেিও মামাি ভাকলা লাকগর্ন। তৎকালীন সম\n",
      "✅ Found in chunk 166:\n",
      " হও া মামা র্ব্ক ব্ার়্েকত ুকক খুর্ি হকলন না। গ্ মাতৃ কেকহি আর্ধককয পির্নভি িিীল হই া মনুষযত্ব র্ব্কাকিি পথ হইকত দূকি সর্ি া ো । উদ্দীপককি এই মন্তকব্যি সাদৃিযমূলক প্রভাব্ িক কি অপর্ির্চতা গকেি অনুপম চর্িকত্র মন্তব্যটি েথাথি। মা সন্তানকক অর্ধক যেহ কিকব্ন এটাই স্বাভার্ব্ক। র্কন্তু সন্তানকক শুধু যেহ কি\n",
      "✅ Found in chunk 170:\n",
      "  ো । অনুপম একটি র্নর্দি ষ্ট্ ব্লক আটকক র্িল, র্কন্তু গকেি যিকষ অনুপম তাি মা ও মামাি দতর্ি যদ াল ভােকত সক্ষম হক কি। অপর্ির্চতা গকে অব্কিকষ অনুপম তাি মামা এব্ং মামাি পিামিি তযাগ ককি পূকব্িি কৃ তককমিি িনয ক্ষমাপ্রাথিনা ককি কলযাণী ও তাি র্পতাি কাকি। উদ্দীপকক মাতৃকেকহি যে সীমাব্িতাি কথা ব্লা হক কি, অনুপ\n",
      "✅ Found in chunk 172:\n",
      " া আপনালেি লজরনস, আপনালেি কালেই র্াক। এরূপ েন্তলিযি কািণ কী? গ্ উদ্দীপলকি পলিশ অপরিরিতা গ্লেি দকান িরিলেি রিপিীত? িযাখ্যা কি। ঘ অপরিরিতা গ্লেি উদ্দদ্দয িরিে যরে উদ্দীপলকি পলিলশি েলতা হলতা, তাহল গ্লেি পরিণরত কু রেল্লা দিার্ব ২০২২ দকেন হলতা? রিলেষণ কি। সোধান ক র্ব্ব্াহ ভাোি পি হকত কলযাণী যমক কদি র্িক\n",
      "✅ Found in chunk 173:\n",
      "  কলযাণীি র্পতা েখন যদকখন যে ব্কিি মামা কনযাি গহনা োচাই কিাি িনয সকঙ্গ ককি র্নক একসকিন তখনই যমক ি ব্াব্া িম্ভুনাথ যসন র্সিান্ত যনন যে, এমন যলাভী ও হীন যসকিা মানর্সকতাসম্পন্ন মানুকষি ঘকি যমক যদকব্ন না। কনযাপকক্ষি সমস্ত গহনা একক একক পিীক্ষা কিা যিষ হকল িম্ভুনাথ যসন এককিা়ো কাকনি দুল যসকিাকক পিীক্ষা ক\n",
      "✅ Found in chunk 174:\n",
      "  কাকনি দুল যিা়ো র্দক প্রকোক্ত কথাটি ব্কলন। এ ঘটনা অনুপকমি মামা অপমার্নত যব্াধ ককিন। গ্ উদ্দীপককি পকিি অপর্ির্চতা গকেি অনুপম চর্িকত্রি র্ব্পিীত। েথাথি মূলযকব্াধসম্পন্ন মানুষ কখনই অসংগর্তকক যমকন র্নকত পাকিন না। ের্দ ব্জলি ব্যজক্তকত্বি অর্ধকািী যকউ হন তকব্ র্তর্ন র্নকিকক প্রর্তজিত কিকত পাকিন। আি যে \n",
      "✅ Found in chunk 175:\n",
      " ্ষতা সুন্দিী এক যমক ি সকঙ্গ র্ব্ক ঠিক হ যেৌতু ক যনও াি র্ব্র্নমক । সব্র্কিু িানাি পি পকিি র্ব্র্নম িা়ো র্ব্ক কত িাজি হ এব্ং তাি প্রস্তাকব্ সব্াই সম্মর্ত যদ । অনযর্দকক অপর্ির্চতা গকে অনুপম একিন ব্যজক্তত্বহীন মানুষ। যস তাি মা ও মামাি কথাি ব্াইকি যেকত পাকি না। যচাকখি সামকন অনযা হকত যদকখও প্রর্তব্াদ ক\n",
      "✅ Found in chunk 177:\n",
      " রর্তব্াদ কিকত পাকি না। অপর্ির্চতা গকে অনুপম র্িজক্ষত হকলও একিন ব্যজক্তত্বহীন চর্িত্র। যস পর্িব্ািতকন্ত্রি কাকি অসহা পুতু লমাত্র। যস তাি মা ও মামাি ওপি র্নভি িিীল। গকেি প্রথমাকধি অনুপম চর্িকত্র সীমাব্িতা লক্ষ কিা ো । মামাি মতামকতি ওপি র্ভজি ককি অনুপকমি র্ব্ক ি র্দন ধােি হকলও যেৌতু ক র্নক নািীি চিম অ\n",
      "✅ Found in chunk 180:\n",
      "  দেলয়টিি তু না কি। ঘ দসই লে এলসরে পাল লয় এ িিলণি আল ালক িুলঝলয় দ খ্ দয, উদ্দীপলকি নায়লকি েলতা রসল ট দিার্ব ২০২২ অনুপলেি রিিলহি জনয রনলজি অক্ষেতাই োয়ী। সোধান ক কলযাণীি র্পতাি নাম িম্ভুনাথ যসন। খ্ ঠাট্টা যতা আপর্নই কর্ি া সার্ি াকিন। উজক্তটি িম্ভুনাথ যসন ব্কিি মামাকক উকদ্দি ককি ব্কলর্িকলন। অপর্ির্চত\n",
      "✅ Found in chunk 181:\n",
      " ব্র্ি খাদ যমিাকনা যসানা যদকব্ ব্া যমক ি র্ব্ক ি গহনা চুর্ি কিকব্ ব্কল োিা মকন ককি তাকদি কাকি যমক র্ব্ক যদও াি র্সিান্ত যথকক সকি আকসন িম্ভুনাথ যসন। র্তর্ন ব্িপক্ষকক খাও াকনা যিষ ককি র্ব্দা যদও া উপলকক্ষ গার়্ে ডাকাি কথা ব্লকল ব্কিি মামা র্কিু ব্ুঝকত না যপকি আিেি হক িম্ভুনাথ ব্াব্ু ঠাট্টা কিকিন র্ক ন\n"
     ]
    }
   ],
   "source": [
    "for i, chunk in enumerate(text_chunks):\n",
    "    if \"শুম্ভুনাথ\" in chunk or \"মামা\" in chunk:\n",
    "        print(f\"✅ Found in chunk {i}:\\n\", chunk[:300])\n"
   ]
  },
  {
   "cell_type": "code",
   "execution_count": 7,
   "id": "8e16b7fa",
   "metadata": {},
   "outputs": [],
   "source": [
    "from langchain.prompts import PromptTemplate\n",
    "\n",
    "prompt_template = PromptTemplate(\n",
    "    input_variables=[\"context\", \"question\"],\n",
    "    template=\"\"\"\n",
    "তুমি একটি বুদ্ধিমান সহকারী, যে শুধুমাত্র নিচের প্রাসঙ্গিক তথ্য ব্যবহার করে প্রশ্নের উত্তর দিবে।\n",
    "\n",
    "প্রাসঙ্গিক তথ্য:\n",
    "{context}\n",
    "\n",
    "প্রশ্ন:\n",
    "{question}\n",
    "\n",
    "✅ নির্দেশনা:\n",
    "উত্তর শুধুমাত্র উপরোক্ত তথ্য থেকে দাও। যদি তথ্যের ভিত্তিতে নির্দিষ্ট উত্তর না পাওয়া যায়, তাহলে বলো \"এই প্রশ্নের উত্তর দেওয়ার মতো তথ্য পাওয়া যায়নি।\"\n",
    "\"\"\"\n",
    ")\n"
   ]
  },
  {
   "cell_type": "code",
   "execution_count": 8,
   "id": "3a66207b",
   "metadata": {},
   "outputs": [],
   "source": [
    "from langchain.chains import RetrievalQA\n",
    "from langchain.llms import Ollama\n",
    "\n",
    "llm = Ollama(model=\"mistral\", temperature=0)\n",
    "\n",
    "qa_chain = RetrievalQA.from_chain_type(\n",
    "    llm=llm,\n",
    "    retriever=retriever,\n",
    "    return_source_documents=True,\n",
    "    chain_type_kwargs={\"prompt\": prompt_template}\n",
    ")\n"
   ]
  },
  {
   "cell_type": "code",
   "execution_count": 9,
   "id": "e79d5c01",
   "metadata": {},
   "outputs": [
    {
     "name": "stderr",
     "output_type": "stream",
     "text": [
      "C:\\Users\\User\\AppData\\Local\\Temp\\ipykernel_18744\\823363109.py:2: LangChainDeprecationWarning: The method `Chain.__call__` was deprecated in langchain 0.1.0 and will be removed in 1.0. Use :meth:`~invoke` instead.\n",
      "  result = qa_chain(query)\n"
     ]
    },
    {
     "name": "stdout",
     "output_type": "stream",
     "text": [
      "\n",
      "📄 Retrieved Chunks:\n",
      "\n",
      "🔹 , যদর্খ, যমক ি র্ব্ক যদন যকমন কর্ি া। র্কন্তু যমক ি র্ব্ক হইকব্ না এ ভ োি মকন নাই তাি িাজস্তি উপা কী। সমস্ত ব্াংলাকদকিি মকধয আর্মই একমাত্র পুরুষ োহাকক কনযাি ব্াপ র্ব্ব্াকহি আসি হইকত র্নকি জফিাই া র্দ াকি। এত ব্ক়ো সৎপাকত্রি কপাকল এত ব্ক়ো কলকঙ্কি দাগ যকানু্ নষ্ট্গ্রহ এত আকলা জ্বালাই া, ব্ািনা ব্ \n",
      "\n",
      "🔹 , যদর্খ, যমক ি র্ব্ক যদন যকমন কর্ি া। র্কন্তু যমক ি র্ব্ক হইকব্ না এ ভ োি মকন নাই তাি িাজস্তি উপা কী। সমস্ত ব্াংলাকদকিি মকধয আর্মই একমাত্র পুরুষ োহাকক কনযাি ব্াপ র্ব্ব্াকহি আসি হইকত র্নকি জফিাই া র্দ াকি। এত ব্ক়ো সৎপাকত্রি কপাকল এত ব্ক়ো কলকঙ্কি দাগ যকানু্ নষ্ট্গ্রহ এত আকলা জ্বালাই া, ব্ািনা ব্ \n",
      "\n",
      "🔹 , যদর্খ, যমক ি র্ব্ক যদন যকমন কর্ি া। র্কন্তু যমক ি র্ব্ক হইকব্ না এ ভ োি মকন নাই তাি িাজস্তি উপা কী। সমস্ত ব্াংলাকদকিি মকধয আর্মই একমাত্র পুরুষ োহাকক কনযাি ব্াপ র্ব্ব্াকহি আসি হইকত র্নকি জফিাই া র্দ াকি। এত ব্ক়ো সৎপাকত্রি কপাকল এত ব্ক়ো কলকঙ্কি দাগ যকানু্ নষ্ট্গ্রহ এত আকলা জ্বালাই া, ব্ািনা ব্ \n",
      "\n",
      "🔹 , যদর্খ, যমক ি র্ব্ক যদন যকমন কর্ি া। র্কন্তু যমক ি র্ব্ক হইকব্ না এ ভ োি মকন নাই তাি িাজস্তি উপা কী। সমস্ত ব্াংলাকদকিি মকধয আর্মই একমাত্র পুরুষ োহাকক কনযাি ব্াপ র্ব্ব্াকহি আসি হইকত র্নকি জফিাই া র্দ াকি। এত ব্ক়ো সৎপাকত্রি কপাকল এত ব্ক়ো কলকঙ্কি দাগ যকানু্ নষ্ট্গ্রহ এত আকলা জ্বালাই া, ব্ািনা ব্ \n",
      "\n",
      "🔹  যচনাি আি অন্ত নাই। ওকগা সুধাম সুি, যে হৃদক ি অপরূপ রূপ তু র্ম, যস র্ক আমাি র্চিকাকলি যচনা ন । িা গা আকি আকিিীঘ্র আর্সকত ডার্ক াি, িীঘ্রই আর্স ার্ি, এক র্নকমষও যদর্ি কর্ি নাই। পির্দন সকাকল একটা ব্ক়ো যস্টিকন গার়্ে ব্দল কর্িকত হইকব্। আমাকদি ফাস্টি ক্লাকসি টির্কটমকন আিা র্িল, র্ভ়ে হইকব্ না। নার্ম া \n",
      "\n",
      "🔹  যচনাি আি অন্ত নাই। ওকগা সুধাম সুি, যে হৃদক ি অপরূপ রূপ তু র্ম, যস র্ক আমাি র্চিকাকলি যচনা ন । িা গা আকি আকিিীঘ্র আর্সকত ডার্ক াি, িীঘ্রই আর্স ার্ি, এক র্নকমষও যদর্ি কর্ি নাই। পির্দন সকাকল একটা ব্ক়ো যস্টিকন গার়্ে ব্দল কর্িকত হইকব্। আমাকদি ফাস্টি ক্লাকসি টির্কটমকন আিা র্িল, র্ভ়ে হইকব্ না। নার্ম া \n",
      "\n",
      "🔹  যচনাি আি অন্ত নাই। ওকগা সুধাম সুি, যে হৃদক ি অপরূপ রূপ তু র্ম, যস র্ক আমাি র্চিকাকলি যচনা ন । িা গা আকি আকিিীঘ্র আর্সকত ডার্ক াি, িীঘ্রই আর্স ার্ি, এক র্নকমষও যদর্ি কর্ি নাই। পির্দন সকাকল একটা ব্ক়ো যস্টিকন গার়্ে ব্দল কর্িকত হইকব্। আমাকদি ফাস্টি ক্লাকসি টির্কটমকন আিা র্িল, র্ভ়ে হইকব্ না। নার্ম া \n",
      "\n",
      "\n",
      "🧠 Answer:\n",
      "  অনপুমে র ভাষায় সুপুরুষ কাকে বলা হয়ে ছে এই প্রশ্নের উত্তর দেওয়ার মতো তথ্য পাওয়া যায়নি।\n"
     ]
    }
   ],
   "source": [
    "query = input(\"❓ Enter your question: \")\n",
    "result = qa_chain(query)\n",
    "\n",
    "print(\"\\n📄 Retrieved Chunks:\\n\")\n",
    "for doc in result[\"source_documents\"]:\n",
    "    print(\"🔹\", doc.page_content[:300], \"\\n\")\n",
    "\n",
    "print(\"\\n🧠 Answer:\\n\", result[\"result\"])\n"
   ]
  },
  {
   "cell_type": "code",
   "execution_count": 10,
   "id": "15df9ed4",
   "metadata": {},
   "outputs": [],
   "source": [
    "# Sanity check: see if any chunk contains শুম্ভুনাথ\n",
    "for i, chunk in enumerate(text_chunks):\n",
    "    if \"শুম্ভুনাথ\" in chunk:\n",
    "        print(f\"✅ Found in chunk {i}:\\n\", chunk[:300])\n"
   ]
  },
  {
   "cell_type": "markdown",
   "id": "6bab2b27",
   "metadata": {},
   "source": [
    "### USING ANOTHER MODEL SPECIFIED FOR BANGLA LANGUAGE"
   ]
  },
  {
   "cell_type": "code",
   "execution_count": 14,
   "id": "8abc6194",
   "metadata": {},
   "outputs": [
    {
     "name": "stdout",
     "output_type": "stream",
     "text": [
      "Defaulting to user installation because normal site-packages is not writeable\n",
      "Requirement already satisfied: langchain in c:\\users\\user\\appdata\\roaming\\python\\python311\\site-packages (0.3.26)\n",
      "Requirement already satisfied: sentence-transformers in c:\\users\\user\\appdata\\roaming\\python\\python311\\site-packages (5.0.0)\n",
      "Requirement already satisfied: torch in c:\\users\\user\\appdata\\roaming\\python\\python311\\site-packages (2.3.1+cu118)\n",
      "Requirement already satisfied: transformers in c:\\users\\user\\appdata\\roaming\\python\\python311\\site-packages (4.50.3)\n",
      "Requirement already satisfied: huggingface-hub in c:\\users\\user\\appdata\\roaming\\python\\python311\\site-packages (0.30.1)\n",
      "Requirement already satisfied: langchain-core<1.0.0,>=0.3.66 in c:\\users\\user\\appdata\\roaming\\python\\python311\\site-packages (from langchain) (0.3.70)\n",
      "Requirement already satisfied: langchain-text-splitters<1.0.0,>=0.3.8 in c:\\users\\user\\appdata\\roaming\\python\\python311\\site-packages (from langchain) (0.3.8)\n",
      "Requirement already satisfied: langsmith>=0.1.17 in c:\\users\\user\\appdata\\roaming\\python\\python311\\site-packages (from langchain) (0.4.8)\n",
      "Requirement already satisfied: pydantic<3.0.0,>=2.7.4 in c:\\users\\user\\appdata\\roaming\\python\\python311\\site-packages (from langchain) (2.8.0)\n",
      "Requirement already satisfied: SQLAlchemy<3,>=1.4 in c:\\users\\user\\appdata\\roaming\\python\\python311\\site-packages (from langchain) (2.0.41)\n",
      "Requirement already satisfied: requests<3,>=2 in c:\\users\\user\\appdata\\roaming\\python\\python311\\site-packages (from langchain) (2.32.3)\n",
      "Requirement already satisfied: PyYAML>=5.3 in c:\\users\\user\\appdata\\roaming\\python\\python311\\site-packages (from langchain) (6.0.1)\n",
      "Requirement already satisfied: tqdm in c:\\users\\user\\appdata\\roaming\\python\\python311\\site-packages (from sentence-transformers) (4.66.4)\n",
      "Requirement already satisfied: scikit-learn in c:\\users\\user\\appdata\\roaming\\python\\python311\\site-packages (from sentence-transformers) (1.5.1)\n",
      "Requirement already satisfied: scipy in c:\\users\\user\\appdata\\roaming\\python\\python311\\site-packages (from sentence-transformers) (1.13.1)\n",
      "Requirement already satisfied: Pillow in c:\\users\\user\\appdata\\roaming\\python\\python311\\site-packages (from sentence-transformers) (10.3.0)\n",
      "Requirement already satisfied: typing_extensions>=4.5.0 in c:\\users\\user\\appdata\\roaming\\python\\python311\\site-packages (from sentence-transformers) (4.12.2)\n",
      "Requirement already satisfied: filelock in c:\\users\\user\\appdata\\roaming\\python\\python311\\site-packages (from torch) (3.13.1)\n",
      "Requirement already satisfied: sympy in c:\\users\\user\\appdata\\roaming\\python\\python311\\site-packages (from torch) (1.12)\n",
      "Requirement already satisfied: networkx in c:\\users\\user\\appdata\\roaming\\python\\python311\\site-packages (from torch) (3.2.1)\n",
      "Requirement already satisfied: jinja2 in c:\\users\\user\\appdata\\roaming\\python\\python311\\site-packages (from torch) (3.1.4)\n",
      "Requirement already satisfied: fsspec in c:\\users\\user\\appdata\\roaming\\python\\python311\\site-packages (from torch) (2024.2.0)\n",
      "Requirement already satisfied: mkl<=2021.4.0,>=2021.1.1 in c:\\users\\user\\appdata\\roaming\\python\\python311\\site-packages (from torch) (2021.4.0)\n",
      "Requirement already satisfied: numpy>=1.17 in c:\\users\\user\\appdata\\roaming\\python\\python311\\site-packages (from transformers) (1.26.4)\n",
      "Requirement already satisfied: packaging>=20.0 in c:\\users\\user\\appdata\\roaming\\python\\python311\\site-packages (from transformers) (24.1)\n",
      "Requirement already satisfied: regex!=2019.12.17 in c:\\users\\user\\appdata\\roaming\\python\\python311\\site-packages (from transformers) (2024.5.15)\n",
      "Requirement already satisfied: tokenizers<0.22,>=0.21 in c:\\users\\user\\appdata\\roaming\\python\\python311\\site-packages (from transformers) (0.21.1)\n",
      "Requirement already satisfied: safetensors>=0.4.3 in c:\\users\\user\\appdata\\roaming\\python\\python311\\site-packages (from transformers) (0.4.3)\n",
      "Requirement already satisfied: tenacity!=8.4.0,<10.0.0,>=8.1.0 in c:\\users\\user\\appdata\\roaming\\python\\python311\\site-packages (from langchain-core<1.0.0,>=0.3.66->langchain) (8.5.0)\n",
      "Requirement already satisfied: jsonpatch<2.0,>=1.33 in c:\\users\\user\\appdata\\roaming\\python\\python311\\site-packages (from langchain-core<1.0.0,>=0.3.66->langchain) (1.33)\n",
      "Requirement already satisfied: httpx<1,>=0.23.0 in c:\\users\\user\\appdata\\roaming\\python\\python311\\site-packages (from langsmith>=0.1.17->langchain) (0.27.0)\n",
      "Requirement already satisfied: orjson<4.0.0,>=3.9.14 in c:\\users\\user\\appdata\\roaming\\python\\python311\\site-packages (from langsmith>=0.1.17->langchain) (3.11.0)\n",
      "Requirement already satisfied: requests-toolbelt<2.0.0,>=1.0.0 in c:\\users\\user\\appdata\\roaming\\python\\python311\\site-packages (from langsmith>=0.1.17->langchain) (1.0.0)\n",
      "Requirement already satisfied: zstandard<0.24.0,>=0.23.0 in c:\\users\\user\\appdata\\roaming\\python\\python311\\site-packages (from langsmith>=0.1.17->langchain) (0.23.0)\n",
      "Requirement already satisfied: intel-openmp==2021.* in c:\\users\\user\\appdata\\roaming\\python\\python311\\site-packages (from mkl<=2021.4.0,>=2021.1.1->torch) (2021.4.0)\n",
      "Requirement already satisfied: tbb==2021.* in c:\\users\\user\\appdata\\roaming\\python\\python311\\site-packages (from mkl<=2021.4.0,>=2021.1.1->torch) (2021.11.0)\n",
      "Requirement already satisfied: annotated-types>=0.4.0 in c:\\users\\user\\appdata\\roaming\\python\\python311\\site-packages (from pydantic<3.0.0,>=2.7.4->langchain) (0.7.0)\n",
      "Requirement already satisfied: pydantic-core==2.20.0 in c:\\users\\user\\appdata\\roaming\\python\\python311\\site-packages (from pydantic<3.0.0,>=2.7.4->langchain) (2.20.0)\n",
      "Requirement already satisfied: charset-normalizer<4,>=2 in c:\\users\\user\\appdata\\roaming\\python\\python311\\site-packages (from requests<3,>=2->langchain) (3.3.2)\n",
      "Requirement already satisfied: idna<4,>=2.5 in c:\\users\\user\\appdata\\roaming\\python\\python311\\site-packages (from requests<3,>=2->langchain) (3.7)\n",
      "Requirement already satisfied: urllib3<3,>=1.21.1 in c:\\users\\user\\appdata\\roaming\\python\\python311\\site-packages (from requests<3,>=2->langchain) (2.2.1)\n",
      "Requirement already satisfied: certifi>=2017.4.17 in c:\\users\\user\\appdata\\roaming\\python\\python311\\site-packages (from requests<3,>=2->langchain) (2024.6.2)\n",
      "Requirement already satisfied: greenlet>=1 in c:\\users\\user\\appdata\\roaming\\python\\python311\\site-packages (from SQLAlchemy<3,>=1.4->langchain) (3.1.1)\n",
      "Requirement already satisfied: colorama in c:\\users\\user\\appdata\\roaming\\python\\python311\\site-packages (from tqdm->sentence-transformers) (0.4.6)\n",
      "Requirement already satisfied: MarkupSafe>=2.0 in c:\\users\\user\\appdata\\roaming\\python\\python311\\site-packages (from jinja2->torch) (2.1.5)\n",
      "Requirement already satisfied: joblib>=1.2.0 in c:\\users\\user\\appdata\\roaming\\python\\python311\\site-packages (from scikit-learn->sentence-transformers) (1.4.2)\n",
      "Requirement already satisfied: threadpoolctl>=3.1.0 in c:\\users\\user\\appdata\\roaming\\python\\python311\\site-packages (from scikit-learn->sentence-transformers) (3.5.0)\n",
      "Requirement already satisfied: mpmath>=0.19 in c:\\users\\user\\appdata\\roaming\\python\\python311\\site-packages (from sympy->torch) (1.3.0)\n",
      "Requirement already satisfied: anyio in c:\\users\\user\\appdata\\roaming\\python\\python311\\site-packages (from httpx<1,>=0.23.0->langsmith>=0.1.17->langchain) (4.4.0)\n",
      "Requirement already satisfied: httpcore==1.* in c:\\users\\user\\appdata\\roaming\\python\\python311\\site-packages (from httpx<1,>=0.23.0->langsmith>=0.1.17->langchain) (1.0.5)\n",
      "Requirement already satisfied: sniffio in c:\\users\\user\\appdata\\roaming\\python\\python311\\site-packages (from httpx<1,>=0.23.0->langsmith>=0.1.17->langchain) (1.3.1)\n",
      "Requirement already satisfied: h11<0.15,>=0.13 in c:\\users\\user\\appdata\\roaming\\python\\python311\\site-packages (from httpcore==1.*->httpx<1,>=0.23.0->langsmith>=0.1.17->langchain) (0.14.0)\n",
      "Requirement already satisfied: jsonpointer>=1.9 in c:\\users\\user\\appdata\\roaming\\python\\python311\\site-packages (from jsonpatch<2.0,>=1.33->langchain-core<1.0.0,>=0.3.66->langchain) (3.0.0)\n"
     ]
    },
    {
     "name": "stderr",
     "output_type": "stream",
     "text": [
      "WARNING: There was an error checking the latest version of pip.\n"
     ]
    }
   ],
   "source": [
    "!pip install langchain sentence-transformers torch transformers huggingface-hub\n"
   ]
  },
  {
   "cell_type": "code",
   "execution_count": 2,
   "metadata": {},
   "outputs": [
    {
     "name": "stderr",
     "output_type": "stream",
     "text": [
      "No sentence-transformers model found with name sagorsarker/bangla-sentence-transformer. Creating a new one with mean pooling.\n"
     ]
    },
    {
     "ename": "OSError",
     "evalue": "sagorsarker/bangla-sentence-transformer is not a local folder and is not a valid model identifier listed on 'https://huggingface.co/models'\nIf this is a private repository, make sure to pass a token having permission to this repo either by logging in with `huggingface-cli login` or by passing `token=<your_token>`",
     "output_type": "error",
     "traceback": [
      "\u001b[1;31m---------------------------------------------------------------------------\u001b[0m",
      "\u001b[1;31mHTTPError\u001b[0m                                 Traceback (most recent call last)",
      "File \u001b[1;32m~\\AppData\\Roaming\\Python\\Python311\\site-packages\\huggingface_hub\\utils\\_http.py:409\u001b[0m, in \u001b[0;36mhf_raise_for_status\u001b[1;34m(response, endpoint_name)\u001b[0m\n\u001b[0;32m    408\u001b[0m \u001b[38;5;28;01mtry\u001b[39;00m:\n\u001b[1;32m--> 409\u001b[0m     \u001b[43mresponse\u001b[49m\u001b[38;5;241;43m.\u001b[39;49m\u001b[43mraise_for_status\u001b[49m\u001b[43m(\u001b[49m\u001b[43m)\u001b[49m\n\u001b[0;32m    410\u001b[0m \u001b[38;5;28;01mexcept\u001b[39;00m HTTPError \u001b[38;5;28;01mas\u001b[39;00m e:\n",
      "File \u001b[1;32m~\\AppData\\Roaming\\Python\\Python311\\site-packages\\requests\\models.py:1024\u001b[0m, in \u001b[0;36mResponse.raise_for_status\u001b[1;34m(self)\u001b[0m\n\u001b[0;32m   1023\u001b[0m \u001b[38;5;28;01mif\u001b[39;00m http_error_msg:\n\u001b[1;32m-> 1024\u001b[0m     \u001b[38;5;28;01mraise\u001b[39;00m HTTPError(http_error_msg, response\u001b[38;5;241m=\u001b[39m\u001b[38;5;28mself\u001b[39m)\n",
      "\u001b[1;31mHTTPError\u001b[0m: 401 Client Error: Unauthorized for url: https://huggingface.co/sagorsarker/bangla-sentence-transformer/resolve/main/adapter_config.json",
      "\nThe above exception was the direct cause of the following exception:\n",
      "\u001b[1;31mRepositoryNotFoundError\u001b[0m                   Traceback (most recent call last)",
      "File \u001b[1;32m~\\AppData\\Roaming\\Python\\Python311\\site-packages\\transformers\\utils\\hub.py:424\u001b[0m, in \u001b[0;36mcached_files\u001b[1;34m(path_or_repo_id, filenames, cache_dir, force_download, resume_download, proxies, token, revision, local_files_only, subfolder, repo_type, user_agent, _raise_exceptions_for_gated_repo, _raise_exceptions_for_missing_entries, _raise_exceptions_for_connection_errors, _commit_hash, **deprecated_kwargs)\u001b[0m\n\u001b[0;32m    422\u001b[0m \u001b[38;5;28;01mif\u001b[39;00m \u001b[38;5;28mlen\u001b[39m(full_filenames) \u001b[38;5;241m==\u001b[39m \u001b[38;5;241m1\u001b[39m:\n\u001b[0;32m    423\u001b[0m     \u001b[38;5;66;03m# This is slightly better for only 1 file\u001b[39;00m\n\u001b[1;32m--> 424\u001b[0m     \u001b[43mhf_hub_download\u001b[49m\u001b[43m(\u001b[49m\n\u001b[0;32m    425\u001b[0m \u001b[43m        \u001b[49m\u001b[43mpath_or_repo_id\u001b[49m\u001b[43m,\u001b[49m\n\u001b[0;32m    426\u001b[0m \u001b[43m        \u001b[49m\u001b[43mfilenames\u001b[49m\u001b[43m[\u001b[49m\u001b[38;5;241;43m0\u001b[39;49m\u001b[43m]\u001b[49m\u001b[43m,\u001b[49m\n\u001b[0;32m    427\u001b[0m \u001b[43m        \u001b[49m\u001b[43msubfolder\u001b[49m\u001b[38;5;241;43m=\u001b[39;49m\u001b[38;5;28;43;01mNone\u001b[39;49;00m\u001b[43m \u001b[49m\u001b[38;5;28;43;01mif\u001b[39;49;00m\u001b[43m \u001b[49m\u001b[38;5;28;43mlen\u001b[39;49m\u001b[43m(\u001b[49m\u001b[43msubfolder\u001b[49m\u001b[43m)\u001b[49m\u001b[43m \u001b[49m\u001b[38;5;241;43m==\u001b[39;49m\u001b[43m \u001b[49m\u001b[38;5;241;43m0\u001b[39;49m\u001b[43m \u001b[49m\u001b[38;5;28;43;01melse\u001b[39;49;00m\u001b[43m \u001b[49m\u001b[43msubfolder\u001b[49m\u001b[43m,\u001b[49m\n\u001b[0;32m    428\u001b[0m \u001b[43m        \u001b[49m\u001b[43mrepo_type\u001b[49m\u001b[38;5;241;43m=\u001b[39;49m\u001b[43mrepo_type\u001b[49m\u001b[43m,\u001b[49m\n\u001b[0;32m    429\u001b[0m \u001b[43m        \u001b[49m\u001b[43mrevision\u001b[49m\u001b[38;5;241;43m=\u001b[39;49m\u001b[43mrevision\u001b[49m\u001b[43m,\u001b[49m\n\u001b[0;32m    430\u001b[0m \u001b[43m        \u001b[49m\u001b[43mcache_dir\u001b[49m\u001b[38;5;241;43m=\u001b[39;49m\u001b[43mcache_dir\u001b[49m\u001b[43m,\u001b[49m\n\u001b[0;32m    431\u001b[0m \u001b[43m        \u001b[49m\u001b[43muser_agent\u001b[49m\u001b[38;5;241;43m=\u001b[39;49m\u001b[43muser_agent\u001b[49m\u001b[43m,\u001b[49m\n\u001b[0;32m    432\u001b[0m \u001b[43m        \u001b[49m\u001b[43mforce_download\u001b[49m\u001b[38;5;241;43m=\u001b[39;49m\u001b[43mforce_download\u001b[49m\u001b[43m,\u001b[49m\n\u001b[0;32m    433\u001b[0m \u001b[43m        \u001b[49m\u001b[43mproxies\u001b[49m\u001b[38;5;241;43m=\u001b[39;49m\u001b[43mproxies\u001b[49m\u001b[43m,\u001b[49m\n\u001b[0;32m    434\u001b[0m \u001b[43m        \u001b[49m\u001b[43mresume_download\u001b[49m\u001b[38;5;241;43m=\u001b[39;49m\u001b[43mresume_download\u001b[49m\u001b[43m,\u001b[49m\n\u001b[0;32m    435\u001b[0m \u001b[43m        \u001b[49m\u001b[43mtoken\u001b[49m\u001b[38;5;241;43m=\u001b[39;49m\u001b[43mtoken\u001b[49m\u001b[43m,\u001b[49m\n\u001b[0;32m    436\u001b[0m \u001b[43m        \u001b[49m\u001b[43mlocal_files_only\u001b[49m\u001b[38;5;241;43m=\u001b[39;49m\u001b[43mlocal_files_only\u001b[49m\u001b[43m,\u001b[49m\n\u001b[0;32m    437\u001b[0m \u001b[43m    \u001b[49m\u001b[43m)\u001b[49m\n\u001b[0;32m    438\u001b[0m \u001b[38;5;28;01melse\u001b[39;00m:\n",
      "File \u001b[1;32m~\\AppData\\Roaming\\Python\\Python311\\site-packages\\huggingface_hub\\utils\\_validators.py:114\u001b[0m, in \u001b[0;36mvalidate_hf_hub_args.<locals>._inner_fn\u001b[1;34m(*args, **kwargs)\u001b[0m\n\u001b[0;32m    112\u001b[0m     kwargs \u001b[38;5;241m=\u001b[39m smoothly_deprecate_use_auth_token(fn_name\u001b[38;5;241m=\u001b[39mfn\u001b[38;5;241m.\u001b[39m\u001b[38;5;18m__name__\u001b[39m, has_token\u001b[38;5;241m=\u001b[39mhas_token, kwargs\u001b[38;5;241m=\u001b[39mkwargs)\n\u001b[1;32m--> 114\u001b[0m \u001b[38;5;28;01mreturn\u001b[39;00m \u001b[43mfn\u001b[49m\u001b[43m(\u001b[49m\u001b[38;5;241;43m*\u001b[39;49m\u001b[43margs\u001b[49m\u001b[43m,\u001b[49m\u001b[43m \u001b[49m\u001b[38;5;241;43m*\u001b[39;49m\u001b[38;5;241;43m*\u001b[39;49m\u001b[43mkwargs\u001b[49m\u001b[43m)\u001b[49m\n",
      "File \u001b[1;32m~\\AppData\\Roaming\\Python\\Python311\\site-packages\\huggingface_hub\\file_download.py:961\u001b[0m, in \u001b[0;36mhf_hub_download\u001b[1;34m(repo_id, filename, subfolder, repo_type, revision, library_name, library_version, cache_dir, local_dir, user_agent, force_download, proxies, etag_timeout, token, local_files_only, headers, endpoint, resume_download, force_filename, local_dir_use_symlinks)\u001b[0m\n\u001b[0;32m    960\u001b[0m \u001b[38;5;28;01melse\u001b[39;00m:\n\u001b[1;32m--> 961\u001b[0m     \u001b[38;5;28;01mreturn\u001b[39;00m \u001b[43m_hf_hub_download_to_cache_dir\u001b[49m\u001b[43m(\u001b[49m\n\u001b[0;32m    962\u001b[0m \u001b[43m        \u001b[49m\u001b[38;5;66;43;03m# Destination\u001b[39;49;00m\n\u001b[0;32m    963\u001b[0m \u001b[43m        \u001b[49m\u001b[43mcache_dir\u001b[49m\u001b[38;5;241;43m=\u001b[39;49m\u001b[43mcache_dir\u001b[49m\u001b[43m,\u001b[49m\n\u001b[0;32m    964\u001b[0m \u001b[43m        \u001b[49m\u001b[38;5;66;43;03m# File info\u001b[39;49;00m\n\u001b[0;32m    965\u001b[0m \u001b[43m        \u001b[49m\u001b[43mrepo_id\u001b[49m\u001b[38;5;241;43m=\u001b[39;49m\u001b[43mrepo_id\u001b[49m\u001b[43m,\u001b[49m\n\u001b[0;32m    966\u001b[0m \u001b[43m        \u001b[49m\u001b[43mfilename\u001b[49m\u001b[38;5;241;43m=\u001b[39;49m\u001b[43mfilename\u001b[49m\u001b[43m,\u001b[49m\n\u001b[0;32m    967\u001b[0m \u001b[43m        \u001b[49m\u001b[43mrepo_type\u001b[49m\u001b[38;5;241;43m=\u001b[39;49m\u001b[43mrepo_type\u001b[49m\u001b[43m,\u001b[49m\n\u001b[0;32m    968\u001b[0m \u001b[43m        \u001b[49m\u001b[43mrevision\u001b[49m\u001b[38;5;241;43m=\u001b[39;49m\u001b[43mrevision\u001b[49m\u001b[43m,\u001b[49m\n\u001b[0;32m    969\u001b[0m \u001b[43m        \u001b[49m\u001b[38;5;66;43;03m# HTTP info\u001b[39;49;00m\n\u001b[0;32m    970\u001b[0m \u001b[43m        \u001b[49m\u001b[43mendpoint\u001b[49m\u001b[38;5;241;43m=\u001b[39;49m\u001b[43mendpoint\u001b[49m\u001b[43m,\u001b[49m\n\u001b[0;32m    971\u001b[0m \u001b[43m        \u001b[49m\u001b[43metag_timeout\u001b[49m\u001b[38;5;241;43m=\u001b[39;49m\u001b[43metag_timeout\u001b[49m\u001b[43m,\u001b[49m\n\u001b[0;32m    972\u001b[0m \u001b[43m        \u001b[49m\u001b[43mheaders\u001b[49m\u001b[38;5;241;43m=\u001b[39;49m\u001b[43mhf_headers\u001b[49m\u001b[43m,\u001b[49m\n\u001b[0;32m    973\u001b[0m \u001b[43m        \u001b[49m\u001b[43mproxies\u001b[49m\u001b[38;5;241;43m=\u001b[39;49m\u001b[43mproxies\u001b[49m\u001b[43m,\u001b[49m\n\u001b[0;32m    974\u001b[0m \u001b[43m        \u001b[49m\u001b[43mtoken\u001b[49m\u001b[38;5;241;43m=\u001b[39;49m\u001b[43mtoken\u001b[49m\u001b[43m,\u001b[49m\n\u001b[0;32m    975\u001b[0m \u001b[43m        \u001b[49m\u001b[38;5;66;43;03m# Additional options\u001b[39;49;00m\n\u001b[0;32m    976\u001b[0m \u001b[43m        \u001b[49m\u001b[43mlocal_files_only\u001b[49m\u001b[38;5;241;43m=\u001b[39;49m\u001b[43mlocal_files_only\u001b[49m\u001b[43m,\u001b[49m\n\u001b[0;32m    977\u001b[0m \u001b[43m        \u001b[49m\u001b[43mforce_download\u001b[49m\u001b[38;5;241;43m=\u001b[39;49m\u001b[43mforce_download\u001b[49m\u001b[43m,\u001b[49m\n\u001b[0;32m    978\u001b[0m \u001b[43m    \u001b[49m\u001b[43m)\u001b[49m\n",
      "File \u001b[1;32m~\\AppData\\Roaming\\Python\\Python311\\site-packages\\huggingface_hub\\file_download.py:1068\u001b[0m, in \u001b[0;36m_hf_hub_download_to_cache_dir\u001b[1;34m(cache_dir, repo_id, filename, repo_type, revision, endpoint, etag_timeout, headers, proxies, token, local_files_only, force_download)\u001b[0m\n\u001b[0;32m   1067\u001b[0m     \u001b[38;5;66;03m# Otherwise, raise appropriate error\u001b[39;00m\n\u001b[1;32m-> 1068\u001b[0m     \u001b[43m_raise_on_head_call_error\u001b[49m\u001b[43m(\u001b[49m\u001b[43mhead_call_error\u001b[49m\u001b[43m,\u001b[49m\u001b[43m \u001b[49m\u001b[43mforce_download\u001b[49m\u001b[43m,\u001b[49m\u001b[43m \u001b[49m\u001b[43mlocal_files_only\u001b[49m\u001b[43m)\u001b[49m\n\u001b[0;32m   1070\u001b[0m \u001b[38;5;66;03m# From now on, etag, commit_hash, url and size are not None.\u001b[39;00m\n",
      "File \u001b[1;32m~\\AppData\\Roaming\\Python\\Python311\\site-packages\\huggingface_hub\\file_download.py:1596\u001b[0m, in \u001b[0;36m_raise_on_head_call_error\u001b[1;34m(head_call_error, force_download, local_files_only)\u001b[0m\n\u001b[0;32m   1591\u001b[0m \u001b[38;5;28;01melif\u001b[39;00m \u001b[38;5;28misinstance\u001b[39m(head_call_error, (RepositoryNotFoundError, GatedRepoError)) \u001b[38;5;129;01mor\u001b[39;00m (\n\u001b[0;32m   1592\u001b[0m     \u001b[38;5;28misinstance\u001b[39m(head_call_error, HfHubHTTPError) \u001b[38;5;129;01mand\u001b[39;00m head_call_error\u001b[38;5;241m.\u001b[39mresponse\u001b[38;5;241m.\u001b[39mstatus_code \u001b[38;5;241m==\u001b[39m \u001b[38;5;241m401\u001b[39m\n\u001b[0;32m   1593\u001b[0m ):\n\u001b[0;32m   1594\u001b[0m     \u001b[38;5;66;03m# Repo not found or gated => let's raise the actual error\u001b[39;00m\n\u001b[0;32m   1595\u001b[0m     \u001b[38;5;66;03m# Unauthorized => likely a token issue => let's raise the actual error\u001b[39;00m\n\u001b[1;32m-> 1596\u001b[0m     \u001b[38;5;28;01mraise\u001b[39;00m head_call_error\n\u001b[0;32m   1597\u001b[0m \u001b[38;5;28;01melse\u001b[39;00m:\n\u001b[0;32m   1598\u001b[0m     \u001b[38;5;66;03m# Otherwise: most likely a connection issue or Hub downtime => let's warn the user\u001b[39;00m\n",
      "File \u001b[1;32m~\\AppData\\Roaming\\Python\\Python311\\site-packages\\huggingface_hub\\file_download.py:1484\u001b[0m, in \u001b[0;36m_get_metadata_or_catch_error\u001b[1;34m(repo_id, filename, repo_type, revision, endpoint, proxies, etag_timeout, headers, token, local_files_only, relative_filename, storage_folder)\u001b[0m\n\u001b[0;32m   1483\u001b[0m \u001b[38;5;28;01mtry\u001b[39;00m:\n\u001b[1;32m-> 1484\u001b[0m     metadata \u001b[38;5;241m=\u001b[39m \u001b[43mget_hf_file_metadata\u001b[49m\u001b[43m(\u001b[49m\n\u001b[0;32m   1485\u001b[0m \u001b[43m        \u001b[49m\u001b[43murl\u001b[49m\u001b[38;5;241;43m=\u001b[39;49m\u001b[43murl\u001b[49m\u001b[43m,\u001b[49m\u001b[43m \u001b[49m\u001b[43mproxies\u001b[49m\u001b[38;5;241;43m=\u001b[39;49m\u001b[43mproxies\u001b[49m\u001b[43m,\u001b[49m\u001b[43m \u001b[49m\u001b[43mtimeout\u001b[49m\u001b[38;5;241;43m=\u001b[39;49m\u001b[43metag_timeout\u001b[49m\u001b[43m,\u001b[49m\u001b[43m \u001b[49m\u001b[43mheaders\u001b[49m\u001b[38;5;241;43m=\u001b[39;49m\u001b[43mheaders\u001b[49m\u001b[43m,\u001b[49m\u001b[43m \u001b[49m\u001b[43mtoken\u001b[49m\u001b[38;5;241;43m=\u001b[39;49m\u001b[43mtoken\u001b[49m\n\u001b[0;32m   1486\u001b[0m \u001b[43m    \u001b[49m\u001b[43m)\u001b[49m\n\u001b[0;32m   1487\u001b[0m \u001b[38;5;28;01mexcept\u001b[39;00m EntryNotFoundError \u001b[38;5;28;01mas\u001b[39;00m http_error:\n",
      "File \u001b[1;32m~\\AppData\\Roaming\\Python\\Python311\\site-packages\\huggingface_hub\\utils\\_validators.py:114\u001b[0m, in \u001b[0;36mvalidate_hf_hub_args.<locals>._inner_fn\u001b[1;34m(*args, **kwargs)\u001b[0m\n\u001b[0;32m    112\u001b[0m     kwargs \u001b[38;5;241m=\u001b[39m smoothly_deprecate_use_auth_token(fn_name\u001b[38;5;241m=\u001b[39mfn\u001b[38;5;241m.\u001b[39m\u001b[38;5;18m__name__\u001b[39m, has_token\u001b[38;5;241m=\u001b[39mhas_token, kwargs\u001b[38;5;241m=\u001b[39mkwargs)\n\u001b[1;32m--> 114\u001b[0m \u001b[38;5;28;01mreturn\u001b[39;00m \u001b[43mfn\u001b[49m\u001b[43m(\u001b[49m\u001b[38;5;241;43m*\u001b[39;49m\u001b[43margs\u001b[49m\u001b[43m,\u001b[49m\u001b[43m \u001b[49m\u001b[38;5;241;43m*\u001b[39;49m\u001b[38;5;241;43m*\u001b[39;49m\u001b[43mkwargs\u001b[49m\u001b[43m)\u001b[49m\n",
      "File \u001b[1;32m~\\AppData\\Roaming\\Python\\Python311\\site-packages\\huggingface_hub\\file_download.py:1401\u001b[0m, in \u001b[0;36mget_hf_file_metadata\u001b[1;34m(url, token, proxies, timeout, library_name, library_version, user_agent, headers)\u001b[0m\n\u001b[0;32m   1400\u001b[0m \u001b[38;5;66;03m# Retrieve metadata\u001b[39;00m\n\u001b[1;32m-> 1401\u001b[0m r \u001b[38;5;241m=\u001b[39m \u001b[43m_request_wrapper\u001b[49m\u001b[43m(\u001b[49m\n\u001b[0;32m   1402\u001b[0m \u001b[43m    \u001b[49m\u001b[43mmethod\u001b[49m\u001b[38;5;241;43m=\u001b[39;49m\u001b[38;5;124;43m\"\u001b[39;49m\u001b[38;5;124;43mHEAD\u001b[39;49m\u001b[38;5;124;43m\"\u001b[39;49m\u001b[43m,\u001b[49m\n\u001b[0;32m   1403\u001b[0m \u001b[43m    \u001b[49m\u001b[43murl\u001b[49m\u001b[38;5;241;43m=\u001b[39;49m\u001b[43murl\u001b[49m\u001b[43m,\u001b[49m\n\u001b[0;32m   1404\u001b[0m \u001b[43m    \u001b[49m\u001b[43mheaders\u001b[49m\u001b[38;5;241;43m=\u001b[39;49m\u001b[43mhf_headers\u001b[49m\u001b[43m,\u001b[49m\n\u001b[0;32m   1405\u001b[0m \u001b[43m    \u001b[49m\u001b[43mallow_redirects\u001b[49m\u001b[38;5;241;43m=\u001b[39;49m\u001b[38;5;28;43;01mFalse\u001b[39;49;00m\u001b[43m,\u001b[49m\n\u001b[0;32m   1406\u001b[0m \u001b[43m    \u001b[49m\u001b[43mfollow_relative_redirects\u001b[49m\u001b[38;5;241;43m=\u001b[39;49m\u001b[38;5;28;43;01mTrue\u001b[39;49;00m\u001b[43m,\u001b[49m\n\u001b[0;32m   1407\u001b[0m \u001b[43m    \u001b[49m\u001b[43mproxies\u001b[49m\u001b[38;5;241;43m=\u001b[39;49m\u001b[43mproxies\u001b[49m\u001b[43m,\u001b[49m\n\u001b[0;32m   1408\u001b[0m \u001b[43m    \u001b[49m\u001b[43mtimeout\u001b[49m\u001b[38;5;241;43m=\u001b[39;49m\u001b[43mtimeout\u001b[49m\u001b[43m,\u001b[49m\n\u001b[0;32m   1409\u001b[0m \u001b[43m\u001b[49m\u001b[43m)\u001b[49m\n\u001b[0;32m   1410\u001b[0m hf_raise_for_status(r)\n",
      "File \u001b[1;32m~\\AppData\\Roaming\\Python\\Python311\\site-packages\\huggingface_hub\\file_download.py:285\u001b[0m, in \u001b[0;36m_request_wrapper\u001b[1;34m(method, url, follow_relative_redirects, **params)\u001b[0m\n\u001b[0;32m    284\u001b[0m \u001b[38;5;28;01mif\u001b[39;00m follow_relative_redirects:\n\u001b[1;32m--> 285\u001b[0m     response \u001b[38;5;241m=\u001b[39m \u001b[43m_request_wrapper\u001b[49m\u001b[43m(\u001b[49m\n\u001b[0;32m    286\u001b[0m \u001b[43m        \u001b[49m\u001b[43mmethod\u001b[49m\u001b[38;5;241;43m=\u001b[39;49m\u001b[43mmethod\u001b[49m\u001b[43m,\u001b[49m\n\u001b[0;32m    287\u001b[0m \u001b[43m        \u001b[49m\u001b[43murl\u001b[49m\u001b[38;5;241;43m=\u001b[39;49m\u001b[43murl\u001b[49m\u001b[43m,\u001b[49m\n\u001b[0;32m    288\u001b[0m \u001b[43m        \u001b[49m\u001b[43mfollow_relative_redirects\u001b[49m\u001b[38;5;241;43m=\u001b[39;49m\u001b[38;5;28;43;01mFalse\u001b[39;49;00m\u001b[43m,\u001b[49m\n\u001b[0;32m    289\u001b[0m \u001b[43m        \u001b[49m\u001b[38;5;241;43m*\u001b[39;49m\u001b[38;5;241;43m*\u001b[39;49m\u001b[43mparams\u001b[49m\u001b[43m,\u001b[49m\n\u001b[0;32m    290\u001b[0m \u001b[43m    \u001b[49m\u001b[43m)\u001b[49m\n\u001b[0;32m    292\u001b[0m     \u001b[38;5;66;03m# If redirection, we redirect only relative paths.\u001b[39;00m\n\u001b[0;32m    293\u001b[0m     \u001b[38;5;66;03m# This is useful in case of a renamed repository.\u001b[39;00m\n",
      "File \u001b[1;32m~\\AppData\\Roaming\\Python\\Python311\\site-packages\\huggingface_hub\\file_download.py:309\u001b[0m, in \u001b[0;36m_request_wrapper\u001b[1;34m(method, url, follow_relative_redirects, **params)\u001b[0m\n\u001b[0;32m    308\u001b[0m response \u001b[38;5;241m=\u001b[39m get_session()\u001b[38;5;241m.\u001b[39mrequest(method\u001b[38;5;241m=\u001b[39mmethod, url\u001b[38;5;241m=\u001b[39murl, \u001b[38;5;241m*\u001b[39m\u001b[38;5;241m*\u001b[39mparams)\n\u001b[1;32m--> 309\u001b[0m \u001b[43mhf_raise_for_status\u001b[49m\u001b[43m(\u001b[49m\u001b[43mresponse\u001b[49m\u001b[43m)\u001b[49m\n\u001b[0;32m    310\u001b[0m \u001b[38;5;28;01mreturn\u001b[39;00m response\n",
      "File \u001b[1;32m~\\AppData\\Roaming\\Python\\Python311\\site-packages\\huggingface_hub\\utils\\_http.py:459\u001b[0m, in \u001b[0;36mhf_raise_for_status\u001b[1;34m(response, endpoint_name)\u001b[0m\n\u001b[0;32m    450\u001b[0m     message \u001b[38;5;241m=\u001b[39m (\n\u001b[0;32m    451\u001b[0m         \u001b[38;5;124mf\u001b[39m\u001b[38;5;124m\"\u001b[39m\u001b[38;5;132;01m{\u001b[39;00mresponse\u001b[38;5;241m.\u001b[39mstatus_code\u001b[38;5;132;01m}\u001b[39;00m\u001b[38;5;124m Client Error.\u001b[39m\u001b[38;5;124m\"\u001b[39m\n\u001b[0;32m    452\u001b[0m         \u001b[38;5;241m+\u001b[39m \u001b[38;5;124m\"\u001b[39m\u001b[38;5;130;01m\\n\u001b[39;00m\u001b[38;5;130;01m\\n\u001b[39;00m\u001b[38;5;124m\"\u001b[39m\n\u001b[1;32m   (...)\u001b[0m\n\u001b[0;32m    457\u001b[0m         \u001b[38;5;124m\"\u001b[39m\u001b[38;5;124m https://huggingface.co/docs/huggingface_hub/authentication\u001b[39m\u001b[38;5;124m\"\u001b[39m\n\u001b[0;32m    458\u001b[0m     )\n\u001b[1;32m--> 459\u001b[0m     \u001b[38;5;28;01mraise\u001b[39;00m _format(RepositoryNotFoundError, message, response) \u001b[38;5;28;01mfrom\u001b[39;00m \u001b[38;5;21;01me\u001b[39;00m\n\u001b[0;32m    461\u001b[0m \u001b[38;5;28;01melif\u001b[39;00m response\u001b[38;5;241m.\u001b[39mstatus_code \u001b[38;5;241m==\u001b[39m \u001b[38;5;241m400\u001b[39m:\n",
      "\u001b[1;31mRepositoryNotFoundError\u001b[0m: 401 Client Error. (Request ID: Root=1-687fd826-18cf9198759506963ed4879f;18cc8961-2b0b-4b1f-80f4-709119fb4e16)\n\nRepository Not Found for url: https://huggingface.co/sagorsarker/bangla-sentence-transformer/resolve/main/adapter_config.json.\nPlease make sure you specified the correct `repo_id` and `repo_type`.\nIf you are trying to access a private or gated repo, make sure you are authenticated. For more details, see https://huggingface.co/docs/huggingface_hub/authentication\nInvalid username or password.",
      "\nThe above exception was the direct cause of the following exception:\n",
      "\u001b[1;31mOSError\u001b[0m                                   Traceback (most recent call last)",
      "Cell \u001b[1;32mIn[2], line 3\u001b[0m\n\u001b[0;32m      1\u001b[0m \u001b[38;5;28;01mfrom\u001b[39;00m \u001b[38;5;21;01msentence_transformers\u001b[39;00m \u001b[38;5;28;01mimport\u001b[39;00m SentenceTransformer\n\u001b[1;32m----> 3\u001b[0m model \u001b[38;5;241m=\u001b[39m \u001b[43mSentenceTransformer\u001b[49m\u001b[43m(\u001b[49m\u001b[38;5;124;43m\"\u001b[39;49m\u001b[38;5;124;43msagorsarker/bangla-sentence-transformer\u001b[39;49m\u001b[38;5;124;43m\"\u001b[39;49m\u001b[43m)\u001b[49m\n",
      "File \u001b[1;32m~\\AppData\\Roaming\\Python\\Python311\\site-packages\\sentence_transformers\\SentenceTransformer.py:339\u001b[0m, in \u001b[0;36mSentenceTransformer.__init__\u001b[1;34m(self, model_name_or_path, modules, device, prompts, default_prompt_name, similarity_fn_name, cache_folder, trust_remote_code, revision, local_files_only, token, use_auth_token, truncate_dim, model_kwargs, tokenizer_kwargs, config_kwargs, model_card_data, backend)\u001b[0m\n\u001b[0;32m    327\u001b[0m         modules, \u001b[38;5;28mself\u001b[39m\u001b[38;5;241m.\u001b[39mmodule_kwargs \u001b[38;5;241m=\u001b[39m \u001b[38;5;28mself\u001b[39m\u001b[38;5;241m.\u001b[39m_load_sbert_model(\n\u001b[0;32m    328\u001b[0m             model_name_or_path,\n\u001b[0;32m    329\u001b[0m             token\u001b[38;5;241m=\u001b[39mtoken,\n\u001b[1;32m   (...)\u001b[0m\n\u001b[0;32m    336\u001b[0m             config_kwargs\u001b[38;5;241m=\u001b[39mconfig_kwargs,\n\u001b[0;32m    337\u001b[0m         )\n\u001b[0;32m    338\u001b[0m     \u001b[38;5;28;01melse\u001b[39;00m:\n\u001b[1;32m--> 339\u001b[0m         modules \u001b[38;5;241m=\u001b[39m \u001b[38;5;28;43mself\u001b[39;49m\u001b[38;5;241;43m.\u001b[39;49m\u001b[43m_load_auto_model\u001b[49m\u001b[43m(\u001b[49m\n\u001b[0;32m    340\u001b[0m \u001b[43m            \u001b[49m\u001b[43mmodel_name_or_path\u001b[49m\u001b[43m,\u001b[49m\n\u001b[0;32m    341\u001b[0m \u001b[43m            \u001b[49m\u001b[43mtoken\u001b[49m\u001b[38;5;241;43m=\u001b[39;49m\u001b[43mtoken\u001b[49m\u001b[43m,\u001b[49m\n\u001b[0;32m    342\u001b[0m \u001b[43m            \u001b[49m\u001b[43mcache_folder\u001b[49m\u001b[38;5;241;43m=\u001b[39;49m\u001b[43mcache_folder\u001b[49m\u001b[43m,\u001b[49m\n\u001b[0;32m    343\u001b[0m \u001b[43m            \u001b[49m\u001b[43mrevision\u001b[49m\u001b[38;5;241;43m=\u001b[39;49m\u001b[43mrevision\u001b[49m\u001b[43m,\u001b[49m\n\u001b[0;32m    344\u001b[0m \u001b[43m            \u001b[49m\u001b[43mtrust_remote_code\u001b[49m\u001b[38;5;241;43m=\u001b[39;49m\u001b[43mtrust_remote_code\u001b[49m\u001b[43m,\u001b[49m\n\u001b[0;32m    345\u001b[0m \u001b[43m            \u001b[49m\u001b[43mlocal_files_only\u001b[49m\u001b[38;5;241;43m=\u001b[39;49m\u001b[43mlocal_files_only\u001b[49m\u001b[43m,\u001b[49m\n\u001b[0;32m    346\u001b[0m \u001b[43m            \u001b[49m\u001b[43mmodel_kwargs\u001b[49m\u001b[38;5;241;43m=\u001b[39;49m\u001b[43mmodel_kwargs\u001b[49m\u001b[43m,\u001b[49m\n\u001b[0;32m    347\u001b[0m \u001b[43m            \u001b[49m\u001b[43mtokenizer_kwargs\u001b[49m\u001b[38;5;241;43m=\u001b[39;49m\u001b[43mtokenizer_kwargs\u001b[49m\u001b[43m,\u001b[49m\n\u001b[0;32m    348\u001b[0m \u001b[43m            \u001b[49m\u001b[43mconfig_kwargs\u001b[49m\u001b[38;5;241;43m=\u001b[39;49m\u001b[43mconfig_kwargs\u001b[49m\u001b[43m,\u001b[49m\n\u001b[0;32m    349\u001b[0m \u001b[43m            \u001b[49m\u001b[43mhas_modules\u001b[49m\u001b[38;5;241;43m=\u001b[39;49m\u001b[43mhas_modules\u001b[49m\u001b[43m,\u001b[49m\n\u001b[0;32m    350\u001b[0m \u001b[43m        \u001b[49m\u001b[43m)\u001b[49m\n\u001b[0;32m    352\u001b[0m \u001b[38;5;28;01mif\u001b[39;00m modules \u001b[38;5;129;01mis\u001b[39;00m \u001b[38;5;129;01mnot\u001b[39;00m \u001b[38;5;28;01mNone\u001b[39;00m \u001b[38;5;129;01mand\u001b[39;00m \u001b[38;5;129;01mnot\u001b[39;00m \u001b[38;5;28misinstance\u001b[39m(modules, OrderedDict):\n\u001b[0;32m    353\u001b[0m     modules \u001b[38;5;241m=\u001b[39m OrderedDict([(\u001b[38;5;28mstr\u001b[39m(idx), module) \u001b[38;5;28;01mfor\u001b[39;00m idx, module \u001b[38;5;129;01min\u001b[39;00m \u001b[38;5;28menumerate\u001b[39m(modules)])\n",
      "File \u001b[1;32m~\\AppData\\Roaming\\Python\\Python311\\site-packages\\sentence_transformers\\SentenceTransformer.py:2061\u001b[0m, in \u001b[0;36mSentenceTransformer._load_auto_model\u001b[1;34m(self, model_name_or_path, token, cache_folder, revision, trust_remote_code, local_files_only, model_kwargs, tokenizer_kwargs, config_kwargs, has_modules)\u001b[0m\n\u001b[0;32m   2058\u001b[0m tokenizer_kwargs \u001b[38;5;241m=\u001b[39m shared_kwargs \u001b[38;5;28;01mif\u001b[39;00m tokenizer_kwargs \u001b[38;5;129;01mis\u001b[39;00m \u001b[38;5;28;01mNone\u001b[39;00m \u001b[38;5;28;01melse\u001b[39;00m {\u001b[38;5;241m*\u001b[39m\u001b[38;5;241m*\u001b[39mshared_kwargs, \u001b[38;5;241m*\u001b[39m\u001b[38;5;241m*\u001b[39mtokenizer_kwargs}\n\u001b[0;32m   2059\u001b[0m config_kwargs \u001b[38;5;241m=\u001b[39m shared_kwargs \u001b[38;5;28;01mif\u001b[39;00m config_kwargs \u001b[38;5;129;01mis\u001b[39;00m \u001b[38;5;28;01mNone\u001b[39;00m \u001b[38;5;28;01melse\u001b[39;00m {\u001b[38;5;241m*\u001b[39m\u001b[38;5;241m*\u001b[39mshared_kwargs, \u001b[38;5;241m*\u001b[39m\u001b[38;5;241m*\u001b[39mconfig_kwargs}\n\u001b[1;32m-> 2061\u001b[0m transformer_model \u001b[38;5;241m=\u001b[39m \u001b[43mTransformer\u001b[49m\u001b[43m(\u001b[49m\n\u001b[0;32m   2062\u001b[0m \u001b[43m    \u001b[49m\u001b[43mmodel_name_or_path\u001b[49m\u001b[43m,\u001b[49m\n\u001b[0;32m   2063\u001b[0m \u001b[43m    \u001b[49m\u001b[43mcache_dir\u001b[49m\u001b[38;5;241;43m=\u001b[39;49m\u001b[43mcache_folder\u001b[49m\u001b[43m,\u001b[49m\n\u001b[0;32m   2064\u001b[0m \u001b[43m    \u001b[49m\u001b[43mmodel_args\u001b[49m\u001b[38;5;241;43m=\u001b[39;49m\u001b[43mmodel_kwargs\u001b[49m\u001b[43m,\u001b[49m\n\u001b[0;32m   2065\u001b[0m \u001b[43m    \u001b[49m\u001b[43mtokenizer_args\u001b[49m\u001b[38;5;241;43m=\u001b[39;49m\u001b[43mtokenizer_kwargs\u001b[49m\u001b[43m,\u001b[49m\n\u001b[0;32m   2066\u001b[0m \u001b[43m    \u001b[49m\u001b[43mconfig_args\u001b[49m\u001b[38;5;241;43m=\u001b[39;49m\u001b[43mconfig_kwargs\u001b[49m\u001b[43m,\u001b[49m\n\u001b[0;32m   2067\u001b[0m \u001b[43m    \u001b[49m\u001b[43mbackend\u001b[49m\u001b[38;5;241;43m=\u001b[39;49m\u001b[38;5;28;43mself\u001b[39;49m\u001b[38;5;241;43m.\u001b[39;49m\u001b[43mbackend\u001b[49m\u001b[43m,\u001b[49m\n\u001b[0;32m   2068\u001b[0m \u001b[43m\u001b[49m\u001b[43m)\u001b[49m\n\u001b[0;32m   2069\u001b[0m pooling_model \u001b[38;5;241m=\u001b[39m Pooling(transformer_model\u001b[38;5;241m.\u001b[39mget_word_embedding_dimension(), \u001b[38;5;124m\"\u001b[39m\u001b[38;5;124mmean\u001b[39m\u001b[38;5;124m\"\u001b[39m)\n\u001b[0;32m   2070\u001b[0m \u001b[38;5;28;01mif\u001b[39;00m \u001b[38;5;129;01mnot\u001b[39;00m local_files_only:\n",
      "File \u001b[1;32m~\\AppData\\Roaming\\Python\\Python311\\site-packages\\sentence_transformers\\models\\Transformer.py:87\u001b[0m, in \u001b[0;36mTransformer.__init__\u001b[1;34m(self, model_name_or_path, max_seq_length, model_args, tokenizer_args, config_args, cache_dir, do_lower_case, tokenizer_name_or_path, backend)\u001b[0m\n\u001b[0;32m     84\u001b[0m \u001b[38;5;28;01mif\u001b[39;00m config_args \u001b[38;5;129;01mis\u001b[39;00m \u001b[38;5;28;01mNone\u001b[39;00m:\n\u001b[0;32m     85\u001b[0m     config_args \u001b[38;5;241m=\u001b[39m {}\n\u001b[1;32m---> 87\u001b[0m config, is_peft_model \u001b[38;5;241m=\u001b[39m \u001b[38;5;28;43mself\u001b[39;49m\u001b[38;5;241;43m.\u001b[39;49m\u001b[43m_load_config\u001b[49m\u001b[43m(\u001b[49m\u001b[43mmodel_name_or_path\u001b[49m\u001b[43m,\u001b[49m\u001b[43m \u001b[49m\u001b[43mcache_dir\u001b[49m\u001b[43m,\u001b[49m\u001b[43m \u001b[49m\u001b[43mbackend\u001b[49m\u001b[43m,\u001b[49m\u001b[43m \u001b[49m\u001b[43mconfig_args\u001b[49m\u001b[43m)\u001b[49m\n\u001b[0;32m     88\u001b[0m \u001b[38;5;28mself\u001b[39m\u001b[38;5;241m.\u001b[39m_load_model(model_name_or_path, config, cache_dir, backend, is_peft_model, \u001b[38;5;241m*\u001b[39m\u001b[38;5;241m*\u001b[39mmodel_args)\n\u001b[0;32m     90\u001b[0m \u001b[38;5;28;01mif\u001b[39;00m max_seq_length \u001b[38;5;129;01mis\u001b[39;00m \u001b[38;5;129;01mnot\u001b[39;00m \u001b[38;5;28;01mNone\u001b[39;00m \u001b[38;5;129;01mand\u001b[39;00m \u001b[38;5;124m\"\u001b[39m\u001b[38;5;124mmodel_max_length\u001b[39m\u001b[38;5;124m\"\u001b[39m \u001b[38;5;129;01mnot\u001b[39;00m \u001b[38;5;129;01min\u001b[39;00m tokenizer_args:\n",
      "File \u001b[1;32m~\\AppData\\Roaming\\Python\\Python311\\site-packages\\sentence_transformers\\models\\Transformer.py:128\u001b[0m, in \u001b[0;36mTransformer._load_config\u001b[1;34m(self, model_name_or_path, cache_dir, backend, config_args)\u001b[0m\n\u001b[0;32m    112\u001b[0m \u001b[38;5;28;01mdef\u001b[39;00m \u001b[38;5;21m_load_config\u001b[39m(\n\u001b[0;32m    113\u001b[0m     \u001b[38;5;28mself\u001b[39m, model_name_or_path: \u001b[38;5;28mstr\u001b[39m, cache_dir: \u001b[38;5;28mstr\u001b[39m \u001b[38;5;241m|\u001b[39m \u001b[38;5;28;01mNone\u001b[39;00m, backend: \u001b[38;5;28mstr\u001b[39m, config_args: \u001b[38;5;28mdict\u001b[39m[\u001b[38;5;28mstr\u001b[39m, Any]\n\u001b[0;32m    114\u001b[0m ) \u001b[38;5;241m-\u001b[39m\u001b[38;5;241m>\u001b[39m \u001b[38;5;28mtuple\u001b[39m[PeftConfig \u001b[38;5;241m|\u001b[39m PretrainedConfig, \u001b[38;5;28mbool\u001b[39m]:\n\u001b[0;32m    115\u001b[0m \u001b[38;5;250m    \u001b[39m\u001b[38;5;124;03m\"\"\"Loads the transformers or PEFT configuration\u001b[39;00m\n\u001b[0;32m    116\u001b[0m \n\u001b[0;32m    117\u001b[0m \u001b[38;5;124;03m    Args:\u001b[39;00m\n\u001b[1;32m   (...)\u001b[0m\n\u001b[0;32m    125\u001b[0m \u001b[38;5;124;03m        tuple[PretrainedConfig, bool]: The model configuration and a boolean indicating whether the model is a PEFT model.\u001b[39;00m\n\u001b[0;32m    126\u001b[0m \u001b[38;5;124;03m    \"\"\"\u001b[39;00m\n\u001b[0;32m    127\u001b[0m     \u001b[38;5;28;01mif\u001b[39;00m (\n\u001b[1;32m--> 128\u001b[0m         \u001b[43mfind_adapter_config_file\u001b[49m\u001b[43m(\u001b[49m\n\u001b[0;32m    129\u001b[0m \u001b[43m            \u001b[49m\u001b[43mmodel_name_or_path\u001b[49m\u001b[43m,\u001b[49m\n\u001b[0;32m    130\u001b[0m \u001b[43m            \u001b[49m\u001b[43mcache_dir\u001b[49m\u001b[38;5;241;43m=\u001b[39;49m\u001b[43mcache_dir\u001b[49m\u001b[43m,\u001b[49m\n\u001b[0;32m    131\u001b[0m \u001b[43m            \u001b[49m\u001b[43mtoken\u001b[49m\u001b[38;5;241;43m=\u001b[39;49m\u001b[43mconfig_args\u001b[49m\u001b[38;5;241;43m.\u001b[39;49m\u001b[43mget\u001b[49m\u001b[43m(\u001b[49m\u001b[38;5;124;43m\"\u001b[39;49m\u001b[38;5;124;43mtoken\u001b[39;49m\u001b[38;5;124;43m\"\u001b[39;49m\u001b[43m)\u001b[49m\u001b[43m,\u001b[49m\n\u001b[0;32m    132\u001b[0m \u001b[43m            \u001b[49m\u001b[43mrevision\u001b[49m\u001b[38;5;241;43m=\u001b[39;49m\u001b[43mconfig_args\u001b[49m\u001b[38;5;241;43m.\u001b[39;49m\u001b[43mget\u001b[49m\u001b[43m(\u001b[49m\u001b[38;5;124;43m\"\u001b[39;49m\u001b[38;5;124;43mrevision\u001b[39;49m\u001b[38;5;124;43m\"\u001b[39;49m\u001b[43m)\u001b[49m\u001b[43m,\u001b[49m\n\u001b[0;32m    133\u001b[0m \u001b[43m            \u001b[49m\u001b[43mlocal_files_only\u001b[49m\u001b[38;5;241;43m=\u001b[39;49m\u001b[43mconfig_args\u001b[49m\u001b[38;5;241;43m.\u001b[39;49m\u001b[43mget\u001b[49m\u001b[43m(\u001b[49m\u001b[38;5;124;43m\"\u001b[39;49m\u001b[38;5;124;43mlocal_files_only\u001b[39;49m\u001b[38;5;124;43m\"\u001b[39;49m\u001b[43m,\u001b[49m\u001b[43m \u001b[49m\u001b[38;5;28;43;01mFalse\u001b[39;49;00m\u001b[43m)\u001b[49m\u001b[43m,\u001b[49m\n\u001b[0;32m    134\u001b[0m \u001b[43m        \u001b[49m\u001b[43m)\u001b[49m\n\u001b[0;32m    135\u001b[0m         \u001b[38;5;129;01mis\u001b[39;00m \u001b[38;5;129;01mnot\u001b[39;00m \u001b[38;5;28;01mNone\u001b[39;00m\n\u001b[0;32m    136\u001b[0m     ):\n\u001b[0;32m    137\u001b[0m         \u001b[38;5;28;01mif\u001b[39;00m \u001b[38;5;129;01mnot\u001b[39;00m is_peft_available():\n\u001b[0;32m    138\u001b[0m             \u001b[38;5;28;01mraise\u001b[39;00m \u001b[38;5;167;01mException\u001b[39;00m(\n\u001b[0;32m    139\u001b[0m                 \u001b[38;5;124m\"\u001b[39m\u001b[38;5;124mLoading a PEFT model requires installing the `peft` package. You can install it via `pip install peft`.\u001b[39m\u001b[38;5;124m\"\u001b[39m\n\u001b[0;32m    140\u001b[0m             )\n",
      "File \u001b[1;32m~\\AppData\\Roaming\\Python\\Python311\\site-packages\\transformers\\utils\\peft_utils.py:88\u001b[0m, in \u001b[0;36mfind_adapter_config_file\u001b[1;34m(model_id, cache_dir, force_download, resume_download, proxies, token, revision, local_files_only, subfolder, _commit_hash)\u001b[0m\n\u001b[0;32m     86\u001b[0m         adapter_cached_filename \u001b[38;5;241m=\u001b[39m os\u001b[38;5;241m.\u001b[39mpath\u001b[38;5;241m.\u001b[39mjoin(model_id, ADAPTER_CONFIG_NAME)\n\u001b[0;32m     87\u001b[0m \u001b[38;5;28;01melse\u001b[39;00m:\n\u001b[1;32m---> 88\u001b[0m     adapter_cached_filename \u001b[38;5;241m=\u001b[39m \u001b[43mcached_file\u001b[49m\u001b[43m(\u001b[49m\n\u001b[0;32m     89\u001b[0m \u001b[43m        \u001b[49m\u001b[43mmodel_id\u001b[49m\u001b[43m,\u001b[49m\n\u001b[0;32m     90\u001b[0m \u001b[43m        \u001b[49m\u001b[43mADAPTER_CONFIG_NAME\u001b[49m\u001b[43m,\u001b[49m\n\u001b[0;32m     91\u001b[0m \u001b[43m        \u001b[49m\u001b[43mcache_dir\u001b[49m\u001b[38;5;241;43m=\u001b[39;49m\u001b[43mcache_dir\u001b[49m\u001b[43m,\u001b[49m\n\u001b[0;32m     92\u001b[0m \u001b[43m        \u001b[49m\u001b[43mforce_download\u001b[49m\u001b[38;5;241;43m=\u001b[39;49m\u001b[43mforce_download\u001b[49m\u001b[43m,\u001b[49m\n\u001b[0;32m     93\u001b[0m \u001b[43m        \u001b[49m\u001b[43mresume_download\u001b[49m\u001b[38;5;241;43m=\u001b[39;49m\u001b[43mresume_download\u001b[49m\u001b[43m,\u001b[49m\n\u001b[0;32m     94\u001b[0m \u001b[43m        \u001b[49m\u001b[43mproxies\u001b[49m\u001b[38;5;241;43m=\u001b[39;49m\u001b[43mproxies\u001b[49m\u001b[43m,\u001b[49m\n\u001b[0;32m     95\u001b[0m \u001b[43m        \u001b[49m\u001b[43mtoken\u001b[49m\u001b[38;5;241;43m=\u001b[39;49m\u001b[43mtoken\u001b[49m\u001b[43m,\u001b[49m\n\u001b[0;32m     96\u001b[0m \u001b[43m        \u001b[49m\u001b[43mrevision\u001b[49m\u001b[38;5;241;43m=\u001b[39;49m\u001b[43mrevision\u001b[49m\u001b[43m,\u001b[49m\n\u001b[0;32m     97\u001b[0m \u001b[43m        \u001b[49m\u001b[43mlocal_files_only\u001b[49m\u001b[38;5;241;43m=\u001b[39;49m\u001b[43mlocal_files_only\u001b[49m\u001b[43m,\u001b[49m\n\u001b[0;32m     98\u001b[0m \u001b[43m        \u001b[49m\u001b[43msubfolder\u001b[49m\u001b[38;5;241;43m=\u001b[39;49m\u001b[43msubfolder\u001b[49m\u001b[43m,\u001b[49m\n\u001b[0;32m     99\u001b[0m \u001b[43m        \u001b[49m\u001b[43m_commit_hash\u001b[49m\u001b[38;5;241;43m=\u001b[39;49m\u001b[43m_commit_hash\u001b[49m\u001b[43m,\u001b[49m\n\u001b[0;32m    100\u001b[0m \u001b[43m        \u001b[49m\u001b[43m_raise_exceptions_for_gated_repo\u001b[49m\u001b[38;5;241;43m=\u001b[39;49m\u001b[38;5;28;43;01mFalse\u001b[39;49;00m\u001b[43m,\u001b[49m\n\u001b[0;32m    101\u001b[0m \u001b[43m        \u001b[49m\u001b[43m_raise_exceptions_for_missing_entries\u001b[49m\u001b[38;5;241;43m=\u001b[39;49m\u001b[38;5;28;43;01mFalse\u001b[39;49;00m\u001b[43m,\u001b[49m\n\u001b[0;32m    102\u001b[0m \u001b[43m        \u001b[49m\u001b[43m_raise_exceptions_for_connection_errors\u001b[49m\u001b[38;5;241;43m=\u001b[39;49m\u001b[38;5;28;43;01mFalse\u001b[39;49;00m\u001b[43m,\u001b[49m\n\u001b[0;32m    103\u001b[0m \u001b[43m    \u001b[49m\u001b[43m)\u001b[49m\n\u001b[0;32m    105\u001b[0m \u001b[38;5;28;01mreturn\u001b[39;00m adapter_cached_filename\n",
      "File \u001b[1;32m~\\AppData\\Roaming\\Python\\Python311\\site-packages\\transformers\\utils\\hub.py:266\u001b[0m, in \u001b[0;36mcached_file\u001b[1;34m(path_or_repo_id, filename, **kwargs)\u001b[0m\n\u001b[0;32m    208\u001b[0m \u001b[38;5;28;01mdef\u001b[39;00m \u001b[38;5;21mcached_file\u001b[39m(\n\u001b[0;32m    209\u001b[0m     path_or_repo_id: Union[\u001b[38;5;28mstr\u001b[39m, os\u001b[38;5;241m.\u001b[39mPathLike],\n\u001b[0;32m    210\u001b[0m     filename: \u001b[38;5;28mstr\u001b[39m,\n\u001b[0;32m    211\u001b[0m     \u001b[38;5;241m*\u001b[39m\u001b[38;5;241m*\u001b[39mkwargs,\n\u001b[0;32m    212\u001b[0m ) \u001b[38;5;241m-\u001b[39m\u001b[38;5;241m>\u001b[39m Optional[\u001b[38;5;28mstr\u001b[39m]:\n\u001b[0;32m    213\u001b[0m \u001b[38;5;250m    \u001b[39m\u001b[38;5;124;03m\"\"\"\u001b[39;00m\n\u001b[0;32m    214\u001b[0m \u001b[38;5;124;03m    Tries to locate a file in a local folder and repo, downloads and cache it if necessary.\u001b[39;00m\n\u001b[0;32m    215\u001b[0m \n\u001b[1;32m   (...)\u001b[0m\n\u001b[0;32m    264\u001b[0m \u001b[38;5;124;03m    ```\u001b[39;00m\n\u001b[0;32m    265\u001b[0m \u001b[38;5;124;03m    \"\"\"\u001b[39;00m\n\u001b[1;32m--> 266\u001b[0m     file \u001b[38;5;241m=\u001b[39m \u001b[43mcached_files\u001b[49m\u001b[43m(\u001b[49m\u001b[43mpath_or_repo_id\u001b[49m\u001b[38;5;241;43m=\u001b[39;49m\u001b[43mpath_or_repo_id\u001b[49m\u001b[43m,\u001b[49m\u001b[43m \u001b[49m\u001b[43mfilenames\u001b[49m\u001b[38;5;241;43m=\u001b[39;49m\u001b[43m[\u001b[49m\u001b[43mfilename\u001b[49m\u001b[43m]\u001b[49m\u001b[43m,\u001b[49m\u001b[43m \u001b[49m\u001b[38;5;241;43m*\u001b[39;49m\u001b[38;5;241;43m*\u001b[39;49m\u001b[43mkwargs\u001b[49m\u001b[43m)\u001b[49m\n\u001b[0;32m    267\u001b[0m     file \u001b[38;5;241m=\u001b[39m file[\u001b[38;5;241m0\u001b[39m] \u001b[38;5;28;01mif\u001b[39;00m file \u001b[38;5;129;01mis\u001b[39;00m \u001b[38;5;129;01mnot\u001b[39;00m \u001b[38;5;28;01mNone\u001b[39;00m \u001b[38;5;28;01melse\u001b[39;00m file\n\u001b[0;32m    268\u001b[0m     \u001b[38;5;28;01mreturn\u001b[39;00m file\n",
      "File \u001b[1;32m~\\AppData\\Roaming\\Python\\Python311\\site-packages\\transformers\\utils\\hub.py:456\u001b[0m, in \u001b[0;36mcached_files\u001b[1;34m(path_or_repo_id, filenames, cache_dir, force_download, resume_download, proxies, token, revision, local_files_only, subfolder, repo_type, user_agent, _raise_exceptions_for_gated_repo, _raise_exceptions_for_missing_entries, _raise_exceptions_for_connection_errors, _commit_hash, **deprecated_kwargs)\u001b[0m\n\u001b[0;32m    453\u001b[0m \u001b[38;5;28;01mexcept\u001b[39;00m \u001b[38;5;167;01mException\u001b[39;00m \u001b[38;5;28;01mas\u001b[39;00m e:\n\u001b[0;32m    454\u001b[0m     \u001b[38;5;66;03m# We cannot recover from them\u001b[39;00m\n\u001b[0;32m    455\u001b[0m     \u001b[38;5;28;01mif\u001b[39;00m \u001b[38;5;28misinstance\u001b[39m(e, RepositoryNotFoundError) \u001b[38;5;129;01mand\u001b[39;00m \u001b[38;5;129;01mnot\u001b[39;00m \u001b[38;5;28misinstance\u001b[39m(e, GatedRepoError):\n\u001b[1;32m--> 456\u001b[0m         \u001b[38;5;28;01mraise\u001b[39;00m \u001b[38;5;167;01mEnvironmentError\u001b[39;00m(\n\u001b[0;32m    457\u001b[0m             \u001b[38;5;124mf\u001b[39m\u001b[38;5;124m\"\u001b[39m\u001b[38;5;132;01m{\u001b[39;00mpath_or_repo_id\u001b[38;5;132;01m}\u001b[39;00m\u001b[38;5;124m is not a local folder and is not a valid model identifier \u001b[39m\u001b[38;5;124m\"\u001b[39m\n\u001b[0;32m    458\u001b[0m             \u001b[38;5;124m\"\u001b[39m\u001b[38;5;124mlisted on \u001b[39m\u001b[38;5;124m'\u001b[39m\u001b[38;5;124mhttps://huggingface.co/models\u001b[39m\u001b[38;5;124m'\u001b[39m\u001b[38;5;130;01m\\n\u001b[39;00m\u001b[38;5;124mIf this is a private repository, make sure to pass a token \u001b[39m\u001b[38;5;124m\"\u001b[39m\n\u001b[0;32m    459\u001b[0m             \u001b[38;5;124m\"\u001b[39m\u001b[38;5;124mhaving permission to this repo either by logging in with `huggingface-cli login` or by passing \u001b[39m\u001b[38;5;124m\"\u001b[39m\n\u001b[0;32m    460\u001b[0m             \u001b[38;5;124m\"\u001b[39m\u001b[38;5;124m`token=<your_token>`\u001b[39m\u001b[38;5;124m\"\u001b[39m\n\u001b[0;32m    461\u001b[0m         ) \u001b[38;5;28;01mfrom\u001b[39;00m \u001b[38;5;21;01me\u001b[39;00m\n\u001b[0;32m    462\u001b[0m     \u001b[38;5;28;01melif\u001b[39;00m \u001b[38;5;28misinstance\u001b[39m(e, RevisionNotFoundError):\n\u001b[0;32m    463\u001b[0m         \u001b[38;5;28;01mraise\u001b[39;00m \u001b[38;5;167;01mEnvironmentError\u001b[39;00m(\n\u001b[0;32m    464\u001b[0m             \u001b[38;5;124mf\u001b[39m\u001b[38;5;124m\"\u001b[39m\u001b[38;5;132;01m{\u001b[39;00mrevision\u001b[38;5;132;01m}\u001b[39;00m\u001b[38;5;124m is not a valid git identifier (branch name, tag name or commit id) that exists \u001b[39m\u001b[38;5;124m\"\u001b[39m\n\u001b[0;32m    465\u001b[0m             \u001b[38;5;124m\"\u001b[39m\u001b[38;5;124mfor this model name. Check the model page at \u001b[39m\u001b[38;5;124m\"\u001b[39m\n\u001b[0;32m    466\u001b[0m             \u001b[38;5;124mf\u001b[39m\u001b[38;5;124m\"\u001b[39m\u001b[38;5;124m'\u001b[39m\u001b[38;5;124mhttps://huggingface.co/\u001b[39m\u001b[38;5;132;01m{\u001b[39;00mpath_or_repo_id\u001b[38;5;132;01m}\u001b[39;00m\u001b[38;5;124m'\u001b[39m\u001b[38;5;124m for available revisions.\u001b[39m\u001b[38;5;124m\"\u001b[39m\n\u001b[0;32m    467\u001b[0m         ) \u001b[38;5;28;01mfrom\u001b[39;00m \u001b[38;5;21;01me\u001b[39;00m\n",
      "\u001b[1;31mOSError\u001b[0m: sagorsarker/bangla-sentence-transformer is not a local folder and is not a valid model identifier listed on 'https://huggingface.co/models'\nIf this is a private repository, make sure to pass a token having permission to this repo either by logging in with `huggingface-cli login` or by passing `token=<your_token>`"
     ]
    }
   ],
   "source": [
    "from sentence_transformers import SentenceTransformer\n",
    "\n",
    "model = SentenceTransformer(\"sagorsarker/bangla-sentence-transformer\")\n"
   ]
  }
 ],
 "metadata": {
  "kernelspec": {
   "display_name": "Python 3",
   "language": "python",
   "name": "python3"
  },
  "language_info": {
   "codemirror_mode": {
    "name": "ipython",
    "version": 3
   },
   "file_extension": ".py",
   "mimetype": "text/x-python",
   "name": "python",
   "nbconvert_exporter": "python",
   "pygments_lexer": "ipython3",
   "version": "3.11.0"
  }
 },
 "nbformat": 4,
 "nbformat_minor": 5
}
